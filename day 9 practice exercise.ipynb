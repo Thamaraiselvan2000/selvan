{
 "cells": [
  {
   "cell_type": "code",
   "execution_count": 3,
   "id": "130ab198",
   "metadata": {},
   "outputs": [],
   "source": [
    "import numpy as np\n",
    "#Dataset\n",
    "np_olympic_country=np.array(['GBR', 'Chine', 'RUS', 'US', 'KOR', 'JPN', 'GER'])\n",
    "np_olympic_country_gold=np.array([29,38,24,46,13,7,11]) \n",
    "np_olympic_country_silver=np.array([17, 28, 25, 28,8,14,11])\n",
    "np_olympic_country_Bronze=np.array([19,22,32,29,7,17,14])"
   ]
  },
  {
   "cell_type": "markdown",
   "id": "1d6de1e0",
   "metadata": {},
   "source": [
    "# find the country index with maximum gold\n"
   ]
  },
  {
   "cell_type": "code",
   "execution_count": 5,
   "id": "c89883e5",
   "metadata": {},
   "outputs": [
    {
     "name": "stdout",
     "output_type": "stream",
     "text": [
      "3\n"
     ]
    }
   ],
   "source": [
    "max_gold_index=np.argmax(np_olympic_country_gold)\n",
    "print(max_gold_index)"
   ]
  },
  {
   "cell_type": "markdown",
   "id": "e8ec7001",
   "metadata": {},
   "source": [
    "# Print Country with Maximum gold\n"
   ]
  },
  {
   "cell_type": "code",
   "execution_count": 6,
   "id": "80506696",
   "metadata": {},
   "outputs": [
    {
     "name": "stdout",
     "output_type": "stream",
     "text": [
      "US\n"
     ]
    }
   ],
   "source": [
    "country_with_max_gold=np_olympic_country[max_gold_index]\n",
    "print(country_with_max_gold)"
   ]
  },
  {
   "cell_type": "markdown",
   "id": "026e994e",
   "metadata": {},
   "source": [
    "# Find countries with more than 20 gold"
   ]
  },
  {
   "cell_type": "code",
   "execution_count": 8,
   "id": "98cbe51d",
   "metadata": {},
   "outputs": [
    {
     "name": "stdout",
     "output_type": "stream",
     "text": [
      "Countries with more than 20 gold: ['GBR' 'Chine' 'RUS' 'US']\n"
     ]
    }
   ],
   "source": [
    "countries_with_more_than_20_gold = np_olympic_country[np_olympic_country_gold > 20]\n",
    "print(\"Countries with more than 20 gold:\", countries_with_more_than_20_gold)\n"
   ]
  },
  {
   "cell_type": "markdown",
   "id": "fadeafe5",
   "metadata": {},
   "source": [
    "# 1. print each country name with number of gold medals   2. print each country name with total number of medals"
   ]
  },
  {
   "cell_type": "code",
   "execution_count": 9,
   "id": "adf68edb",
   "metadata": {},
   "outputs": [
    {
     "name": "stdout",
     "output_type": "stream",
     "text": [
      "Country: GBR, Gold Medals: 29\n",
      "Country: China, Gold Medals: 38\n",
      "Country: RUS, Gold Medals: 24\n",
      "Country: US, Gold Medals: 46\n",
      "Country: KOR, Gold Medals: 13\n",
      "Country: JPN, Gold Medals: 7\n",
      "Country: GER, Gold Medals: 11\n",
      "Country: GBR, Total Medals: 65\n",
      "Country: China, Total Medals: 88\n",
      "Country: RUS, Total Medals: 81\n",
      "Country: US, Total Medals: 103\n",
      "Country: KOR, Total Medals: 28\n",
      "Country: JPN, Total Medals: 38\n",
      "Country: GER, Total Medals: 36\n"
     ]
    }
   ],
   "source": [
    "import numpy as np\n",
    "\n",
    "# Dataset\n",
    "olympic_country = np.array(['GBR', 'China', 'RUS', 'US', 'KOR', 'JPN', 'GER'])\n",
    "olympic_country_gold = np.array([29, 38, 24, 46, 13, 7, 11])\n",
    "olympic_country_silver = np.array([17, 28, 25, 28, 8, 14, 11])\n",
    "olympic_country_bronze = np.array([19, 22, 32, 29, 7, 17, 14])\n",
    "\n",
    "# 1. Print each country name with the number of gold medals\n",
    "for i in range(len(olympic_country)):\n",
    "    print(f\"Country: {olympic_country[i]}, Gold Medals: {olympic_country_gold[i]}\")\n",
    "\n",
    "# 2. Print each country name with the total number of medals\n",
    "total_medals = olympic_country_gold + olympic_country_silver + olympic_country_bronze\n",
    "for i in range(len(olympic_country)):\n",
    "    print(f\"Country: {olympic_country[i]}, Total Medals: {total_medals[i]}\")\n"
   ]
  },
  {
   "cell_type": "markdown",
   "id": "306a0bba",
   "metadata": {},
   "source": [
    "# Create a 3x3x3 array with random values\n"
   ]
  },
  {
   "cell_type": "code",
   "execution_count": 20,
   "id": "7aea76cb",
   "metadata": {},
   "outputs": [
    {
     "name": "stdout",
     "output_type": "stream",
     "text": [
      "[[[6 6 6]\n",
      "  [7 4 2]\n",
      "  [2 4 5]]\n",
      "\n",
      " [[4 4 9]\n",
      "  [4 2 8]\n",
      "  [4 3 8]]\n",
      "\n",
      " [[7 9 9]\n",
      "  [2 2 5]\n",
      "  [4 1 7]]]\n"
     ]
    }
   ],
   "source": [
    "import numpy as np\n",
    "\n",
    "# Create a 3x3x3 array with random values between 1 and 10\n",
    "random_array = np.random.randint(1,10, (3, 3, 3))\n",
    "\n",
    "print(random_array)\n"
   ]
  },
  {
   "cell_type": "markdown",
   "id": "cb3661a8",
   "metadata": {},
   "source": [
    "# Create a 5x5 matrix with values 1,2,3,4 just below the diagonal\n"
   ]
  },
  {
   "cell_type": "code",
   "execution_count": 21,
   "id": "4c1c8f8d",
   "metadata": {},
   "outputs": [
    {
     "name": "stdout",
     "output_type": "stream",
     "text": [
      "[[0 0 0 0 0]\n",
      " [1 0 0 0 0]\n",
      " [0 2 0 0 0]\n",
      " [0 0 3 0 0]\n",
      " [0 0 0 4 0]]\n"
     ]
    }
   ],
   "source": [
    "import numpy as np\n",
    "\n",
    "# Create a 5x5 matrix with values 1, 2, 3, and 4 below the diagonal\n",
    "matrix = np.diag([1, 2, 3, 4], k=-1)\n",
    "\n",
    "print(matrix)\n"
   ]
  },
  {
   "cell_type": "markdown",
   "id": "79e46f7d",
   "metadata": {},
   "source": [
    "# Create a 8x8 matrix and fill it with a checkerboard pattern\n"
   ]
  },
  {
   "cell_type": "code",
   "execution_count": 28,
   "id": "819bb19a",
   "metadata": {},
   "outputs": [
    {
     "name": "stdout",
     "output_type": "stream",
     "text": [
      "[[0 1 0 1 0 1 0 1]\n",
      " [1 0 1 0 1 0 1 0]\n",
      " [0 1 0 1 0 1 0 1]\n",
      " [1 0 1 0 1 0 1 0]\n",
      " [0 1 0 1 0 1 0 1]\n",
      " [1 0 1 0 1 0 1 0]\n",
      " [0 1 0 1 0 1 0 1]\n",
      " [1 0 1 0 1 0 1 0]]\n"
     ]
    }
   ],
   "source": [
    "import numpy as np\n",
    "\n",
    "# Create an 8x8 checkerboard pattern matrix\n",
    "checkerboard = np.zeros((8, 8), dtype=int)\n",
    "\n",
    "# Fill the odd-indexed rows and columns with 1\n",
    "checkerboard[1::2, ::2] = 1\n",
    "checkerboard[::2, 1::2] = 1\n",
    "\n",
    "print(checkerboard)\n"
   ]
  },
  {
   "cell_type": "markdown",
   "id": "81429ccb",
   "metadata": {},
   "source": [
    "# Normalize a 5x5 random matrix\n"
   ]
  },
  {
   "cell_type": "code",
   "execution_count": 41,
   "id": "61258195",
   "metadata": {},
   "outputs": [
    {
     "name": "stdout",
     "output_type": "stream",
     "text": [
      "4.88\n",
      "2.7323250172700906\n"
     ]
    }
   ],
   "source": [
    "import numpy as np\n",
    "\n",
    "# Create a random 5x5 matrix\n",
    "random_matrix = np.random.randint(1,11,(5, 5))\n",
    "\n",
    "# Calculate the mean and standard deviation of the matrix\n",
    "mean = np.mean(random_matrix)\n",
    "std_dev = np.std(random_matrix)\n",
    "print(mean)\n",
    "print(std_dev)"
   ]
  },
  {
   "cell_type": "code",
   "execution_count": 42,
   "id": "f2594a73",
   "metadata": {},
   "outputs": [
    {
     "name": "stdout",
     "output_type": "stream",
     "text": [
      "Random Matrix:\n",
      "[[ 2  3  4  2  1]\n",
      " [ 4  7  1  4  3]\n",
      " [ 4  7  9  8 10]\n",
      " [ 8  7  6  8  5]\n",
      " [ 1  8  6  2  2]]\n",
      "\n",
      "Normalized Matrix:\n",
      "[[-1.05404737 -0.6880587  -0.32207003 -1.05404737 -1.42003604]\n",
      " [-0.32207003  0.77589598 -1.42003604 -0.32207003 -0.6880587 ]\n",
      " [-0.32207003  0.77589598  1.50787332  1.14188465  1.87386199]\n",
      " [ 1.14188465  0.77589598  0.40990731  1.14188465  0.04391864]\n",
      " [-1.42003604  1.14188465  0.40990731 -1.05404737 -1.05404737]]\n"
     ]
    }
   ],
   "source": [
    "# Normalize the matrix\n",
    "normalized_matrix = (random_matrix - mean) / std_dev\n",
    "\n",
    "print(\"Random Matrix:\")\n",
    "print(random_matrix)\n",
    "print(\"\\nNormalized Matrix:\")\n",
    "print(normalized_matrix)"
   ]
  },
  {
   "cell_type": "markdown",
   "id": "0aefa703",
   "metadata": {},
   "source": [
    "# How to find common values between two arrays?\n"
   ]
  },
  {
   "cell_type": "code",
   "execution_count": 43,
   "id": "af59b637",
   "metadata": {},
   "outputs": [
    {
     "name": "stdout",
     "output_type": "stream",
     "text": [
      "Common values between array1 and array2: [3 4 5]\n"
     ]
    }
   ],
   "source": [
    "import numpy as np\n",
    "\n",
    "# Define two arrays\n",
    "array1 = np.array([1, 2, 3, 4, 5])\n",
    "array2 = np.array([3, 4, 5, 6, 7])\n",
    "\n",
    "# Find common values between the two arrays\n",
    "common_values = np.intersect1d(array1, array2)\n",
    "\n",
    "print(\"Common values between array1 and array2:\", common_values)\n"
   ]
  },
  {
   "cell_type": "markdown",
   "id": "34546c94",
   "metadata": {},
   "source": [
    "# How to get the dates of yesterday, today and tomorrow?\n"
   ]
  },
  {
   "cell_type": "code",
   "execution_count": 44,
   "id": "bdbe20f4",
   "metadata": {},
   "outputs": [
    {
     "name": "stdout",
     "output_type": "stream",
     "text": [
      "Yesterday: 2023-09-20\n",
      "Today: 2023-09-21\n",
      "Tomorrow: 2023-09-22\n"
     ]
    }
   ],
   "source": [
    "import numpy as np\n",
    "import datetime\n",
    "\n",
    "# Get the current date as a numpy datetime64 object\n",
    "today = np.datetime64('today')\n",
    "\n",
    "# Calculate yesterday and tomorrow\n",
    "yesterday = today - np.timedelta64(1, 'D')\n",
    "tomorrow = today + np.timedelta64(1, 'D')\n",
    "\n",
    "# Convert numpy datetime64 objects to Python datetime objects (optional)\n",
    "yesterday_date = yesterday.astype(datetime.datetime)\n",
    "today_date = today.astype(datetime.datetime)\n",
    "tomorrow_date = tomorrow.astype(datetime.datetime)\n",
    "\n",
    "print(\"Yesterday:\", yesterday_date)\n",
    "print(\"Today:\", today_date)\n",
    "print(\"Tomorrow:\", tomorrow_date)\n"
   ]
  },
  {
   "cell_type": "markdown",
   "id": "673ae8b5",
   "metadata": {},
   "source": [
    "# Consider two random array A and B, check if they are equal"
   ]
  },
  {
   "cell_type": "code",
   "execution_count": 53,
   "id": "b23bef03",
   "metadata": {},
   "outputs": [
    {
     "name": "stdout",
     "output_type": "stream",
     "text": [
      "Arrays A and B are equal.\n"
     ]
    }
   ],
   "source": [
    "import numpy as np\n",
    "\n",
    "# Create two random arrays A and B\n",
    "A = np.random.randint(5)\n",
    "B = np.random.randint(5)\n",
    "\n",
    "# Check if the arrays A and B are equal\n",
    "are_equal = np.array_equal(A, B)\n",
    "\n",
    "if are_equal:\n",
    "    print(\"Arrays A and B are equal.\")\n",
    "else:\n",
    "    print(\"Arrays A and B are not equal.\")\n"
   ]
  },
  {
   "cell_type": "markdown",
   "id": "9560910d",
   "metadata": {},
   "source": [
    "# Create random vector of size 10 and replace the maximum value by 0"
   ]
  },
  {
   "cell_type": "code",
   "execution_count": 57,
   "id": "225e3c65",
   "metadata": {},
   "outputs": [
    {
     "name": "stdout",
     "output_type": "stream",
     "text": [
      "Random vector with the maximum value replaced by 0:\n",
      "[0.25840087 0.2060263  0.33833158 0.14063325 0.77843523 0.6875566\n",
      " 0.33790017 0.36777741 0.52014512 0.        ]\n"
     ]
    }
   ],
   "source": [
    "import numpy as np\n",
    "\n",
    "# Create a random vector of size 10\n",
    "random_vector = np.random.rand(10)\n",
    "\n",
    "# Find the index of the maximum value in the vector\n",
    "max_index = np.argmax(random_vector)\n",
    "\n",
    "# Replace the maximum value with 0\n",
    "random_vector[max_index] = 0\n",
    "\n",
    "print(\"Random vector with the maximum value replaced by 0:\")\n",
    "print(random_vector)\n"
   ]
  },
  {
   "cell_type": "markdown",
   "id": "8c08ce2f",
   "metadata": {},
   "source": [
    "# How to print all the values of an array?\n"
   ]
  },
  {
   "cell_type": "code",
   "execution_count": 58,
   "id": "a18a056c",
   "metadata": {},
   "outputs": [
    {
     "name": "stdout",
     "output_type": "stream",
     "text": [
      "[1 2 3 4 5]\n"
     ]
    }
   ],
   "source": [
    "import numpy as np\n",
    "\n",
    "# Create a NumPy array\n",
    "my_array = np.array([1, 2, 3, 4, 5])\n",
    "\n",
    "# Print all values using the print() function\n",
    "print(my_array)\n"
   ]
  },
  {
   "cell_type": "markdown",
   "id": "dfb4ad39",
   "metadata": {},
   "source": [
    "# Subtract the mean of each row of a matrix\n"
   ]
  },
  {
   "cell_type": "code",
   "execution_count": 59,
   "id": "f1df7d94",
   "metadata": {},
   "outputs": [
    {
     "name": "stdout",
     "output_type": "stream",
     "text": [
      "Original Matrix:\n",
      "[[1 2 3]\n",
      " [4 5 6]\n",
      " [7 8 9]]\n",
      "\n",
      "Matrix with Row-wise Mean Subtracted:\n",
      "[[-1.  0.  1.]\n",
      " [-1.  0.  1.]\n",
      " [-1.  0.  1.]]\n"
     ]
    }
   ],
   "source": [
    "import numpy as np\n",
    "\n",
    "# Create a sample matrix\n",
    "matrix = np.array([[1, 2, 3],\n",
    "                   [4, 5, 6],\n",
    "                   [7, 8, 9]])\n",
    "\n",
    "# Calculate the row-wise mean\n",
    "row_means = np.mean(matrix, axis=1, keepdims=True)\n",
    "\n",
    "# Subtract the row-wise mean from the matrix\n",
    "matrix_normalized = matrix - row_means\n",
    "\n",
    "print(\"Original Matrix:\")\n",
    "print(matrix)\n",
    "print(\"\\nMatrix with Row-wise Mean Subtracted:\")\n",
    "print(matrix_normalized)\n"
   ]
  },
  {
   "cell_type": "code",
   "execution_count": 60,
   "id": "94d8fd30",
   "metadata": {},
   "outputs": [
    {
     "name": "stdout",
     "output_type": "stream",
     "text": [
      "[[2.]\n",
      " [5.]\n",
      " [8.]]\n"
     ]
    }
   ],
   "source": [
    "row_means = np.mean(matrix, axis=1, keepdims=True)\n",
    "print(row_means)"
   ]
  },
  {
   "cell_type": "markdown",
   "id": "51b7c5d4",
   "metadata": {},
   "source": [
    "# Consider a given vector, how to add 1 to each element indexed by a second vector (be careful with repeated indices)?\n"
   ]
  },
  {
   "cell_type": "code",
   "execution_count": 61,
   "id": "d28bec47",
   "metadata": {},
   "outputs": [
    {
     "name": "stdout",
     "output_type": "stream",
     "text": [
      "Given Vector: [1 2 3 4 5]\n",
      "Modified Vector: [0 2 0 1 1]\n"
     ]
    }
   ],
   "source": [
    "import numpy as np\n",
    "\n",
    "# Given vector\n",
    "given_vector = np.array([1, 2, 3, 4, 5])\n",
    "\n",
    "# Second vector with indices to be modified\n",
    "indices_to_add_1 = np.array([1, 3, 1, 4])\n",
    "\n",
    "# Create an array of zeros with the same shape as the given_vector\n",
    "result_vector = np.zeros_like(given_vector)\n",
    "\n",
    "# Use np.add.at to add 1 to the elements at specified indices\n",
    "np.add.at(result_vector, indices_to_add_1, 1)\n",
    "\n",
    "print(\"Given Vector:\", given_vector)\n",
    "print(\"Modified Vector:\", result_vector)\n"
   ]
  },
  {
   "cell_type": "markdown",
   "id": "124d7eb9",
   "metadata": {},
   "source": [
    "# How to get the diagonal of a dot product?\n"
   ]
  },
  {
   "cell_type": "code",
   "execution_count": 62,
   "id": "b7651793",
   "metadata": {},
   "outputs": [
    {
     "name": "stdout",
     "output_type": "stream",
     "text": [
      "Diagonal of the Dot Product:\n",
      "[30 69 90]\n"
     ]
    }
   ],
   "source": [
    "import numpy as np\n",
    "\n",
    "# Create two matrices A and B\n",
    "A = np.array([[1, 2, 3],\n",
    "              [4, 5, 6],\n",
    "              [7, 8, 9]])\n",
    "\n",
    "B = np.array([[9, 8, 7],\n",
    "              [6, 5, 4],\n",
    "              [3, 2, 1]])\n",
    "\n",
    "# Calculate the dot product of A and B\n",
    "dot_product = np.dot(A, B)\n",
    "\n",
    "# Get the diagonal of the dot product\n",
    "diagonal = np.diag(dot_product)\n",
    "\n",
    "print(\"Diagonal of the Dot Product:\")\n",
    "print(diagonal)\n"
   ]
  },
  {
   "cell_type": "markdown",
   "id": "12017990",
   "metadata": {},
   "source": [
    "# How to find the most frequent value in an array?\n"
   ]
  },
  {
   "cell_type": "code",
   "execution_count": 67,
   "id": "4cc9af1e",
   "metadata": {},
   "outputs": [
    {
     "name": "stdout",
     "output_type": "stream",
     "text": [
      "Most frequent value: 3\n"
     ]
    }
   ],
   "source": [
    "import numpy as np\n",
    "\n",
    "# Create a sample NumPy array\n",
    "array = np.array([1, 2, 2, 3, 3, 3, 3, 4, 4, 4, 5])\n",
    "\n",
    "# Use np.bincount to count occurrences of each value\n",
    "counts = np.bincount(array)\n",
    "\n",
    "# Find the value with the maximum count\n",
    "most_frequent_value = np.argmax(counts)\n",
    "\n",
    "print(\"Most frequent value:\", most_frequent_value)\n"
   ]
  },
  {
   "cell_type": "markdown",
   "id": "816875db",
   "metadata": {},
   "source": [
    "# How to get the n largest values of an array\n"
   ]
  },
  {
   "cell_type": "code",
   "execution_count": 69,
   "id": "d272da3b",
   "metadata": {},
   "outputs": [
    {
     "name": "stdout",
     "output_type": "stream",
     "text": [
      "The 1 largest values are: [10]\n"
     ]
    }
   ],
   "source": [
    "import numpy as np\n",
    "\n",
    "# Create a sample NumPy array\n",
    "array = np.array([10, 2, 8, 6, 7, 3, 5, 1, 9, 4])\n",
    "\n",
    "# Set the value of n (number of largest values you want)\n",
    "n = 1\n",
    "\n",
    "# Use numpy.partition to get the n largest values\n",
    "n_largest_values = np.partition(array, -n)[-n:]\n",
    "\n",
    "print(f\"The {n} largest values are:\", n_largest_values)\n"
   ]
  },
  {
   "cell_type": "markdown",
   "id": "138937ba",
   "metadata": {},
   "source": [
    "# How to create a record array from a regular array?"
   ]
  },
  {
   "cell_type": "code",
   "execution_count": 70,
   "id": "70b17fce",
   "metadata": {},
   "outputs": [
    {
     "name": "stdout",
     "output_type": "stream",
     "text": [
      "Regular Array:\n",
      "[(1, 'charlie', 30) (2, 'rohit', 25) (3, 'virat', 35)]\n",
      "\n",
      "Accessing elements in the regular array:\n",
      "First element: (1, 'charlie', 30)\n",
      "Name of the second element: rohit\n",
      "\n",
      "Record Array:\n",
      "[(1, 'charlie', 30) (2, 'rohit', 25) (3, 'virat', 35)]\n",
      "\n",
      "Accessing elements in the record array:\n",
      "First element: (1, 'charlie', 30)\n",
      "Name of the second element: rohit\n"
     ]
    }
   ],
   "source": [
    "import numpy as np\n",
    "\n",
    "# Create a regular array\n",
    "regular_array = np.array([(1, 'charlie', 30),\n",
    "                          (2, 'rohit', 25),\n",
    "                          (3, 'virat', 35)],\n",
    "                         dtype=[('ID', int), ('Name', 'U10'), ('Age', int)])\n",
    "\n",
    "# Display the regular array\n",
    "print(\"Regular Array:\")\n",
    "print(regular_array)\n",
    "\n",
    "# Access elements in the regular array\n",
    "print(\"\\nAccessing elements in the regular array:\")\n",
    "print(\"First element:\", regular_array[0])\n",
    "print(\"Name of the second element:\", regular_array[1]['Name'])\n",
    "\n",
    "# Create a record array\n",
    "record_array = np.rec.array(regular_array)\n",
    "\n",
    "# Display the record array\n",
    "print(\"\\nRecord Array:\")\n",
    "print(record_array)\n",
    "\n",
    "# Access elements in the record array\n",
    "print(\"\\nAccessing elements in the record array:\")\n",
    "print(\"First element:\", record_array[0])\n",
    "print(\"Name of the second element:\", record_array[1].Name)\n"
   ]
  },
  {
   "cell_type": "markdown",
   "id": "f94c1ef4",
   "metadata": {},
   "source": [
    "# How to swap two rows of an array?\n"
   ]
  },
  {
   "cell_type": "code",
   "execution_count": 85,
   "id": "332e385b",
   "metadata": {},
   "outputs": [
    {
     "name": "stdout",
     "output_type": "stream",
     "text": [
      "Matrix after swapping rows 0 and 1:\n",
      "[[4 5 6]\n",
      " [1 2 3]\n",
      " [7 8 9]]\n"
     ]
    }
   ],
   "source": [
    "import numpy as np\n",
    "\n",
    "# Create a sample 2D array (matrix)\n",
    "matrix = np.array([[1, 2, 3],\n",
    "                   [4, 5, 6],\n",
    "                   [7, 8, 9]])\n",
    "\n",
    "# Swap rows (e.g., swap rows 0 and 1)\n",
    "matrix[0, :], matrix[1, :] = matrix[1, :].copy(), matrix[0, :].copy()\n",
    "\n",
    "# Display the matrix after swapping\n",
    "print(\"Matrix after swapping rows 0 and 1:\")\n",
    "print(matrix)\n"
   ]
  },
  {
   "cell_type": "markdown",
   "id": "66838c6d",
   "metadata": {},
   "source": [
    "# Write python code to reshape to the next dimension of numpy array?\n"
   ]
  },
  {
   "cell_type": "code",
   "execution_count": 83,
   "id": "78d89ed8",
   "metadata": {},
   "outputs": [
    {
     "name": "stdout",
     "output_type": "stream",
     "text": [
      "Original 1D Array:\n",
      "[1 2 3 4 5 6]\n",
      "\n",
      "Reshaped 2D Array:\n",
      "[[1 2]\n",
      " [3 4]\n",
      " [5 6]]\n"
     ]
    }
   ],
   "source": [
    "import numpy as np\n",
    "\n",
    "# Create a 1D array\n",
    "array_1d = np.array([1, 2, 3, 4, 5, 6])\n",
    "\n",
    "# Reshape it to the next dimension (2D)\n",
    "array_2d = array_1d.reshape(-1, 2)\n",
    "\n",
    "# Display the reshaped array\n",
    "print(\"Original 1D Array:\")\n",
    "print(array_1d)\n",
    "\n",
    "print(\"\\nReshaped 2D Array:\")\n",
    "print(array_2d)\n"
   ]
  },
  {
   "cell_type": "code",
   "execution_count": null,
   "id": "c84084e6",
   "metadata": {},
   "outputs": [],
   "source": []
  }
 ],
 "metadata": {
  "kernelspec": {
   "display_name": "Python 3 (ipykernel)",
   "language": "python",
   "name": "python3"
  },
  "language_info": {
   "codemirror_mode": {
    "name": "ipython",
    "version": 3
   },
   "file_extension": ".py",
   "mimetype": "text/x-python",
   "name": "python",
   "nbconvert_exporter": "python",
   "pygments_lexer": "ipython3",
   "version": "3.11.4"
  }
 },
 "nbformat": 4,
 "nbformat_minor": 5
}
