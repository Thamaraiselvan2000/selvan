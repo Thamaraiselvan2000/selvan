{
 "cells": [
  {
   "cell_type": "code",
   "execution_count": 12,
   "id": "c80217be",
   "metadata": {},
   "outputs": [],
   "source": [
    "import pandas as pd\n",
    "from sklearn.model_selection import train_test_split\n",
    "from sklearn.preprocessing import StandardScaler\n",
    "from sklearn.svm import SVC\n",
    "from sklearn.metrics import accuracy_score, classification_report\n",
    "\n"
   ]
  },
  {
   "cell_type": "code",
   "execution_count": 14,
   "id": "1b61fd2e",
   "metadata": {},
   "outputs": [
    {
     "name": "stdout",
     "output_type": "stream",
     "text": [
      "   feature_1  feature_2  feature_3  feature_4  feature_5  label\n",
      "0  -0.038769  -0.649239  -0.224746  -1.346275   0.126879      0\n",
      "1   1.005284  -1.373239   1.157346   0.126493   1.422799      0\n",
      "2  -0.742455  -0.573257   1.688442  -2.588237   0.762562      0\n",
      "3  -1.587158   1.758582  -0.930664   0.764614   2.415399      1\n",
      "4   0.195806  -0.058897  -0.549360   0.777375   1.147261      1\n"
     ]
    }
   ],
   "source": [
    "import numpy as np\n",
    "import pandas as pd\n",
    "from sklearn.datasets import make_classification\n",
    "\n",
    "# Generate synthetic data for credit risk assessment\n",
    "X,y= make_classification(\n",
    "    n_samples=1000,\n",
    "    n_features=5,\n",
    "    n_informative=3,\n",
    "    n_redundant=1,\n",
    "    n_clusters_per_class=2,\n",
    "    random_state=42\n",
    ")\n",
    "\n",
    "# Create a DataFrame for the synthetic data\n",
    "classification_data = pd.DataFrame(X, columns=[f'feature_{i}' for i in range(1, 6)])\n",
    "classification_data['label'] = y\n",
    "\n",
    "# Display the first few rows of the generated data\n",
    "print(classification_data.head())"
   ]
  },
  {
   "cell_type": "code",
   "execution_count": 15,
   "id": "ada409ed",
   "metadata": {},
   "outputs": [],
   "source": [
    "# Load your dataset\n",
    "# Assuming X contains features and y contains labels\n",
    "\n",
    "# Split the data into training and testing sets\n",
    "X_train, X_test, y_train, y_test = train_test_split(X, y, test_size=0.2, random_state=42)\n",
    "\n",
    "# Standardize the features\n",
    "scaler = StandardScaler()\n",
    "X_train = scaler.fit_transform(X_train)\n",
    "X_test = scaler.transform(X_test)\n"
   ]
  },
  {
   "cell_type": "code",
   "execution_count": 16,
   "id": "f4d2a6af",
   "metadata": {},
   "outputs": [
    {
     "name": "stdout",
     "output_type": "stream",
     "text": [
      "Linear Kernel SVM Accuracy: 0.93\n",
      "Classification Report (Linear Kernel SVM):\n",
      "               precision    recall  f1-score   support\n",
      "\n",
      "           0       0.86      1.00      0.93        87\n",
      "           1       1.00      0.88      0.93       113\n",
      "\n",
      "    accuracy                           0.93       200\n",
      "   macro avg       0.93      0.94      0.93       200\n",
      "weighted avg       0.94      0.93      0.93       200\n",
      "\n"
     ]
    }
   ],
   "source": [
    "# Create an SVM model with a linear kernel\n",
    "svm_linear = SVC(kernel='linear')\n",
    "\n",
    "# Train the model\n",
    "svm_linear.fit(X_train, y_train)\n",
    "\n",
    "# Make predictions\n",
    "y_pred_linear = svm_linear.predict(X_test)\n",
    "\n",
    "# Evaluate the model\n",
    "accuracy_linear = accuracy_score(y_test, y_pred_linear)\n",
    "classification_report_linear = classification_report(y_test, y_pred_linear)\n",
    "\n",
    "print(\"Linear Kernel SVM Accuracy:\", accuracy_linear)\n",
    "print(\"Classification Report (Linear Kernel SVM):\\n\", classification_report_linear)\n"
   ]
  },
  {
   "cell_type": "code",
   "execution_count": 17,
   "id": "4762f5c0",
   "metadata": {},
   "outputs": [
    {
     "name": "stdout",
     "output_type": "stream",
     "text": [
      "RBF Kernel SVM Accuracy: 0.96\n",
      "Classification Report (RBF Kernel SVM):\n",
      "               precision    recall  f1-score   support\n",
      "\n",
      "           0       0.93      0.98      0.96        87\n",
      "           1       0.98      0.95      0.96       113\n",
      "\n",
      "    accuracy                           0.96       200\n",
      "   macro avg       0.96      0.96      0.96       200\n",
      "weighted avg       0.96      0.96      0.96       200\n",
      "\n"
     ]
    }
   ],
   "source": [
    "# Create an SVM model with an RBF kernel\n",
    "svm_rbf = SVC(kernel='rbf')\n",
    "\n",
    "# Train the model\n",
    "svm_rbf.fit(X_train, y_train)\n",
    "\n",
    "# Make predictions\n",
    "y_pred_rbf = svm_rbf.predict(X_test)\n",
    "\n",
    "# Evaluate the model\n",
    "accuracy_rbf = accuracy_score(y_test, y_pred_rbf)\n",
    "classification_report_rbf = classification_report(y_test, y_pred_rbf)\n",
    "\n",
    "print(\"RBF Kernel SVM Accuracy:\", accuracy_rbf)\n",
    "print(\"Classification Report (RBF Kernel SVM):\\n\", classification_report_rbf)\n"
   ]
  },
  {
   "cell_type": "code",
   "execution_count": 18,
   "id": "9b14ced2",
   "metadata": {},
   "outputs": [],
   "source": [
    "import numpy as np\n",
    "from sklearn.svm import SVC\n",
    "from sklearn.metrics import accuracy_score, classification_report\n",
    "from sklearn.model_selection import train_test_split\n",
    "from sklearn.preprocessing import StandardScaler\n"
   ]
  },
  {
   "cell_type": "code",
   "execution_count": 19,
   "id": "8cc13872",
   "metadata": {},
   "outputs": [
    {
     "name": "stdout",
     "output_type": "stream",
     "text": [
      "   feature_1  feature_2  feature_3  feature_4  feature_5  feature_6  \\\n",
      "0        0.0  -0.341698  -0.463360   0.508365  -2.545906  -1.037226   \n",
      "1        0.0  -0.341698   0.784716  -0.658600  -1.844602  -1.037226   \n",
      "2        0.0  -0.341698  -1.087399  -0.425207   0.259308  -0.504526   \n",
      "3        0.0   0.759243   0.992729   0.975151   0.960612   0.916006   \n",
      "4        0.0  -0.341698   0.160678   0.508365   0.259308  -0.504526   \n",
      "\n",
      "   feature_7  feature_8  feature_9  feature_10  ...  feature_56  feature_57  \\\n",
      "0  -0.406234  -0.131019  -0.061035   -0.617254  ...   -0.216084   -0.026389   \n",
      "1  -0.406234  -0.131019  -0.061035   -0.617254  ...   -0.216084   -0.026389   \n",
      "2  -0.406234  -0.131019  -0.061035   -0.617254  ...   -0.216084   -0.026389   \n",
      "3  -0.406234  -0.131019  -0.061035    0.938876  ...   -0.216084   -0.026389   \n",
      "4  -0.406234  -0.131019  -0.061035   -0.617254  ...   -0.216084   -0.026389   \n",
      "\n",
      "   feature_58  feature_59  feature_60  feature_61  feature_62  feature_63  \\\n",
      "0   -0.306776   -0.499622   -0.246272    0.848044    1.052703    0.459523   \n",
      "1   -0.306776    0.085033    0.891647    0.439036   -0.644519   -0.506231   \n",
      "2   -0.306776   -0.694508   -0.246272    0.234532   -0.135353   -0.506231   \n",
      "3    0.781712    1.839001    0.436480   -0.174476   -0.474797   -0.506231   \n",
      "4   -0.306776   -0.304737    0.664063    0.848044    0.373814   -0.506231   \n",
      "\n",
      "   feature_64  label  \n",
      "0     -0.1971      6  \n",
      "1     -0.1971      0  \n",
      "2     -0.1971      0  \n",
      "3     -0.1971      3  \n",
      "4     -0.1971      0  \n",
      "\n",
      "[5 rows x 65 columns]\n"
     ]
    }
   ],
   "source": [
    "import numpy as np\n",
    "import pandas as pd\n",
    "from sklearn.datasets import load_digits\n",
    "from sklearn.model_selection import train_test_split\n",
    "from sklearn.preprocessing import StandardScaler\n",
    "\n",
    "# Generate synthetic data for image classification\n",
    "digits = load_digits()\n",
    "X_image, y_image = digits.data, digits.target\n",
    "\n",
    "# Standardize the features\n",
    "scaler = StandardScaler()\n",
    "X_train_image = scaler.fit_transform(X_train_image)\n",
    "X_test_image = scaler.transform(X_test_image)\n",
    "\n",
    "# Display the first few rows of the generated data\n",
    "image_data = pd.DataFrame(X_train_image, columns=[f'feature_{i}' for i in range(1, 65)])\n",
    "image_data['label'] = y_train_image\n",
    "print(image_data.head())\n"
   ]
  },
  {
   "cell_type": "code",
   "execution_count": 21,
   "id": "1cacc309",
   "metadata": {},
   "outputs": [],
   "source": [
    "# Load and preprocess your image data\n",
    "# Extract features using a pre-trained CNN or any feature extraction method\n",
    "\n",
    "# Split the data into training and testing sets\n",
    "X_train, X_test, y_train, y_test = train_test_split(X_train_image,y_train_image,test_size=0.2, random_state=42)\n",
    "\n",
    "# Standardize the features\n",
    "scaler = StandardScaler()\n",
    "X_train = scaler.fit_transform(X_train)\n",
    "X_test = scaler.transform(X_test)\n"
   ]
  },
  {
   "cell_type": "code",
   "execution_count": 22,
   "id": "b43730d4",
   "metadata": {},
   "outputs": [
    {
     "name": "stdout",
     "output_type": "stream",
     "text": [
      "Image Classification SVM Accuracy: 0.9930555555555556\n",
      "Classification Report (Image Classification SVM):\n",
      "               precision    recall  f1-score   support\n",
      "\n",
      "           0       1.00      1.00      1.00        23\n",
      "           1       1.00      1.00      1.00        35\n",
      "           2       1.00      0.97      0.99        38\n",
      "           3       0.97      1.00      0.98        32\n",
      "           4       1.00      1.00      1.00        28\n",
      "           5       1.00      1.00      1.00        27\n",
      "           6       1.00      1.00      1.00        25\n",
      "           7       0.97      1.00      0.98        31\n",
      "           8       1.00      1.00      1.00        21\n",
      "           9       1.00      0.96      0.98        28\n",
      "\n",
      "    accuracy                           0.99       288\n",
      "   macro avg       0.99      0.99      0.99       288\n",
      "weighted avg       0.99      0.99      0.99       288\n",
      "\n"
     ]
    }
   ],
   "source": [
    "# Create an SVM model\n",
    "svm_image = SVC()\n",
    "\n",
    "# Train the model\n",
    "svm_image.fit(X_train, y_train)\n",
    "\n",
    "# Make predictions\n",
    "y_pred_image = svm_image.predict(X_test)\n",
    "\n",
    "# Evaluate the model\n",
    "accuracy_image = accuracy_score(y_test, y_pred_image)\n",
    "classification_report_image = classification_report(y_test, y_pred_image)\n",
    "\n",
    "print(\"Image Classification SVM Accuracy:\", accuracy_image)\n",
    "print(\"Classification Report (Image Classification SVM):\\n\", classification_report_image)\n"
   ]
  },
  {
   "cell_type": "code",
   "execution_count": 23,
   "id": "40f0b290",
   "metadata": {},
   "outputs": [
    {
     "name": "stdout",
     "output_type": "stream",
     "text": [
      "   feature_1  feature_2  feature_3      target\n",
      "0   0.633777   0.309821   0.413799   88.964263\n",
      "1   0.081829   0.838491  -0.098890   90.161338\n",
      "2   3.109919   1.995667   0.606723  475.921744\n",
      "3   1.476934  -1.516643  -1.167780   25.374662\n",
      "4   1.003533  -0.072010   0.361636   88.694180\n"
     ]
    }
   ],
   "source": [
    "import numpy as np\n",
    "import pandas as pd\n",
    "from sklearn.datasets import make_regression\n",
    "\n",
    "# Generate synthetic data for regression\n",
    "X_regression, y_regression = make_regression(\n",
    "    n_samples=1000,\n",
    "    n_features=3,\n",
    "    n_informative=2,\n",
    "    noise=10,\n",
    "    random_state=42\n",
    ")\n",
    "\n",
    "# Create a DataFrame for the synthetic data\n",
    "regression_data = pd.DataFrame(X_regression, columns=[f'feature_{i}' for i in range(1, 4)])\n",
    "regression_data['target'] = y_regression\n",
    "\n",
    "# Display the first few rows of the generated data\n",
    "print(regression_data.head())\n"
   ]
  },
  {
   "cell_type": "code",
   "execution_count": 24,
   "id": "9f92be7f",
   "metadata": {},
   "outputs": [],
   "source": [
    "import pandas as pd\n",
    "from sklearn.model_selection import train_test_split\n",
    "from sklearn.preprocessing import StandardScaler\n",
    "from sklearn.svm import SVR\n",
    "from sklearn.metrics import mean_squared_error, r2_score\n"
   ]
  },
  {
   "cell_type": "code",
   "execution_count": 25,
   "id": "f8cada16",
   "metadata": {},
   "outputs": [],
   "source": [
    "# Load your regression dataset\n",
    "# Assuming X contains features and y contains target values\n",
    "\n",
    "# Split the data into training and testing sets\n",
    "X_train, X_test, y_train, y_test = train_test_split(X, y, test_size=0.2, random_state=42)\n",
    "\n",
    "# Standardize the features\n",
    "scaler = StandardScaler()\n",
    "X_train = scaler.fit_transform(X_train)\n",
    "X_test = scaler.transform(X_test)\n"
   ]
  },
  {
   "cell_type": "code",
   "execution_count": 26,
   "id": "ad7fa3b4",
   "metadata": {},
   "outputs": [
    {
     "name": "stdout",
     "output_type": "stream",
     "text": [
      "SVR Mean Squared Error: 0.04063996070645255\n",
      "SVR R-squared: 0.834645668979951\n"
     ]
    }
   ],
   "source": [
    "# Create an SVR model\n",
    "svr_model = SVR()\n",
    "\n",
    "# Train the model\n",
    "svr_model.fit(X_train, y_train)\n",
    "\n",
    "# Make predictions\n",
    "y_pred_svr = svr_model.predict(X_test)\n",
    "\n",
    "# Evaluate the model\n",
    "mse_svr = mean_squared_error(y_test, y_pred_svr)\n",
    "r2_svr = r2_score(y_test, y_pred_svr)\n",
    "\n",
    "print(\"SVR Mean Squared Error:\", mse_svr)\n",
    "print(\"SVR R-squared:\", r2_svr)\n"
   ]
  },
  {
   "cell_type": "code",
   "execution_count": 46,
   "id": "ff8b033c",
   "metadata": {},
   "outputs": [],
   "source": [
    "import pandas as pd\n",
    "import numpy as np\n",
    "import matplotlib.pyplot as plt\n",
    "import seaborn as sns"
   ]
  },
  {
   "cell_type": "code",
   "execution_count": 47,
   "id": "261d3e2d",
   "metadata": {},
   "outputs": [
    {
     "name": "stdout",
     "output_type": "stream",
     "text": [
      "   Age  Income  LoanAmount  CreditScore  DebtToIncome  EmploymentLength  \\\n",
      "0   25   50000       10000          700          0.30                 2   \n",
      "1   35   75000       20000          750          0.40                 5   \n",
      "2   45  100000       30000          720          0.50                10   \n",
      "3   28   55000       12000          680          0.35                 3   \n",
      "4   40   90000       25000          700          0.45                 8   \n",
      "\n",
      "  HomeOwnership CreditRisk  \n",
      "0           Own       Good  \n",
      "1      Mortgage       Good  \n",
      "2           Own       Good  \n",
      "3          Rent        Bad  \n",
      "4      Mortgage        Bad  \n",
      "<class 'pandas.core.frame.DataFrame'>\n",
      "RangeIndex: 7 entries, 0 to 6\n",
      "Data columns (total 8 columns):\n",
      " #   Column            Non-Null Count  Dtype  \n",
      "---  ------            --------------  -----  \n",
      " 0   Age               7 non-null      int64  \n",
      " 1   Income            7 non-null      int64  \n",
      " 2   LoanAmount        7 non-null      int64  \n",
      " 3   CreditScore       7 non-null      int64  \n",
      " 4   DebtToIncome      7 non-null      float64\n",
      " 5   EmploymentLength  7 non-null      int64  \n",
      " 6   HomeOwnership     7 non-null      object \n",
      " 7   CreditRisk        7 non-null      object \n",
      "dtypes: float64(1), int64(5), object(2)\n",
      "memory usage: 580.0+ bytes\n",
      "None\n",
      "             Age         Income    LoanAmount  CreditScore  DebtToIncome  \\\n",
      "count   7.000000       7.000000      7.000000     7.000000      7.000000   \n",
      "mean   36.428571   78571.428571  21000.000000   712.857143      0.418571   \n",
      "std     9.071147   25934.900185   9416.297928    22.886885      0.087069   \n",
      "min    25.000000   50000.000000  10000.000000   680.000000      0.300000   \n",
      "25%    30.000000   57500.000000  13500.000000   700.000000      0.365000   \n",
      "50%    35.000000   75000.000000  20000.000000   710.000000      0.400000   \n",
      "75%    42.500000   95000.000000  27500.000000   725.000000      0.475000   \n",
      "max    50.000000  120000.000000  35000.000000   750.000000      0.550000   \n",
      "\n",
      "       EmploymentLength  \n",
      "count          7.000000  \n",
      "mean           6.285714  \n",
      "std            3.773340  \n",
      "min            2.000000  \n",
      "25%            3.500000  \n",
      "50%            5.000000  \n",
      "75%            9.000000  \n",
      "max           12.000000  \n",
      "Age                 0\n",
      "Income              0\n",
      "LoanAmount          0\n",
      "CreditScore         0\n",
      "DebtToIncome        0\n",
      "EmploymentLength    0\n",
      "HomeOwnership       0\n",
      "CreditRisk          0\n",
      "dtype: int64\n"
     ]
    }
   ],
   "source": [
    "# Load the dataset\n",
    "data= pd.read_csv('credit_risk.txt')\n",
    "\n",
    "# Display the first few rows of the dataset\n",
    "print(data.head())\n",
    "\n",
    "# Display information about the dataset\n",
    "print(data.info())\n",
    "\n",
    "# Summary statistics\n",
    "print(data.describe())\n",
    "\n",
    "# Check for missing values\n",
    "print(data.isnull().sum())\n"
   ]
  },
  {
   "cell_type": "code",
   "execution_count": 48,
   "id": "11fb0066",
   "metadata": {},
   "outputs": [
    {
     "data": {
      "text/html": [
       "<div>\n",
       "<style scoped>\n",
       "    .dataframe tbody tr th:only-of-type {\n",
       "        vertical-align: middle;\n",
       "    }\n",
       "\n",
       "    .dataframe tbody tr th {\n",
       "        vertical-align: top;\n",
       "    }\n",
       "\n",
       "    .dataframe thead th {\n",
       "        text-align: right;\n",
       "    }\n",
       "</style>\n",
       "<table border=\"1\" class=\"dataframe\">\n",
       "  <thead>\n",
       "    <tr style=\"text-align: right;\">\n",
       "      <th></th>\n",
       "      <th>Age</th>\n",
       "      <th>Income</th>\n",
       "      <th>LoanAmount</th>\n",
       "      <th>CreditScore</th>\n",
       "      <th>DebtToIncome</th>\n",
       "      <th>EmploymentLength</th>\n",
       "      <th>CreditRisk</th>\n",
       "    </tr>\n",
       "  </thead>\n",
       "  <tbody>\n",
       "    <tr>\n",
       "      <th>0</th>\n",
       "      <td>25</td>\n",
       "      <td>50000</td>\n",
       "      <td>10000</td>\n",
       "      <td>700</td>\n",
       "      <td>0.30</td>\n",
       "      <td>2</td>\n",
       "      <td>Good</td>\n",
       "    </tr>\n",
       "    <tr>\n",
       "      <th>1</th>\n",
       "      <td>35</td>\n",
       "      <td>75000</td>\n",
       "      <td>20000</td>\n",
       "      <td>750</td>\n",
       "      <td>0.40</td>\n",
       "      <td>5</td>\n",
       "      <td>Good</td>\n",
       "    </tr>\n",
       "    <tr>\n",
       "      <th>2</th>\n",
       "      <td>45</td>\n",
       "      <td>100000</td>\n",
       "      <td>30000</td>\n",
       "      <td>720</td>\n",
       "      <td>0.50</td>\n",
       "      <td>10</td>\n",
       "      <td>Good</td>\n",
       "    </tr>\n",
       "    <tr>\n",
       "      <th>3</th>\n",
       "      <td>28</td>\n",
       "      <td>55000</td>\n",
       "      <td>12000</td>\n",
       "      <td>680</td>\n",
       "      <td>0.35</td>\n",
       "      <td>3</td>\n",
       "      <td>Bad</td>\n",
       "    </tr>\n",
       "    <tr>\n",
       "      <th>4</th>\n",
       "      <td>40</td>\n",
       "      <td>90000</td>\n",
       "      <td>25000</td>\n",
       "      <td>700</td>\n",
       "      <td>0.45</td>\n",
       "      <td>8</td>\n",
       "      <td>Bad</td>\n",
       "    </tr>\n",
       "    <tr>\n",
       "      <th>5</th>\n",
       "      <td>32</td>\n",
       "      <td>60000</td>\n",
       "      <td>15000</td>\n",
       "      <td>710</td>\n",
       "      <td>0.38</td>\n",
       "      <td>4</td>\n",
       "      <td>Good</td>\n",
       "    </tr>\n",
       "    <tr>\n",
       "      <th>6</th>\n",
       "      <td>50</td>\n",
       "      <td>120000</td>\n",
       "      <td>35000</td>\n",
       "      <td>730</td>\n",
       "      <td>0.55</td>\n",
       "      <td>12</td>\n",
       "      <td>Bad</td>\n",
       "    </tr>\n",
       "  </tbody>\n",
       "</table>\n",
       "</div>"
      ],
      "text/plain": [
       "   Age  Income  LoanAmount  CreditScore  DebtToIncome  EmploymentLength  \\\n",
       "0   25   50000       10000          700          0.30                 2   \n",
       "1   35   75000       20000          750          0.40                 5   \n",
       "2   45  100000       30000          720          0.50                10   \n",
       "3   28   55000       12000          680          0.35                 3   \n",
       "4   40   90000       25000          700          0.45                 8   \n",
       "5   32   60000       15000          710          0.38                 4   \n",
       "6   50  120000       35000          730          0.55                12   \n",
       "\n",
       "  CreditRisk  \n",
       "0       Good  \n",
       "1       Good  \n",
       "2       Good  \n",
       "3        Bad  \n",
       "4        Bad  \n",
       "5       Good  \n",
       "6        Bad  "
      ]
     },
     "execution_count": 48,
     "metadata": {},
     "output_type": "execute_result"
    }
   ],
   "source": [
    "data=data.drop('HomeOwnership',axis=1)\n",
    "data"
   ]
  },
  {
   "cell_type": "code",
   "execution_count": 49,
   "id": "9babdf53",
   "metadata": {},
   "outputs": [
    {
     "name": "stdout",
     "output_type": "stream",
     "text": [
      "   Age  Income  LoanAmount  CreditScore  DebtToIncome  EmploymentLength  \\\n",
      "0   25   50000       10000          700          0.30                 2   \n",
      "1   35   75000       20000          750          0.40                 5   \n",
      "2   45  100000       30000          720          0.50                10   \n",
      "3   28   55000       12000          680          0.35                 3   \n",
      "4   40   90000       25000          700          0.45                 8   \n",
      "5   32   60000       15000          710          0.38                 4   \n",
      "6   50  120000       35000          730          0.55                12   \n",
      "\n",
      "   CreditRisk  \n",
      "0           1  \n",
      "1           1  \n",
      "2           1  \n",
      "3           0  \n",
      "4           0  \n",
      "5           1  \n",
      "6           0  \n"
     ]
    }
   ],
   "source": [
    "\n",
    "\n",
    "# Create a mapping dictionary\n",
    "label_mapping = {'Bad': 0, 'Good': 1}\n",
    "\n",
    "# Replace labels in the 'CreditRisk' column\n",
    "data['CreditRisk'] = data['CreditRisk'].map(label_mapping)\n",
    "\n",
    "# Display the modified DataFrame\n",
    "print(data)\n"
   ]
  },
  {
   "cell_type": "code",
   "execution_count": 63,
   "id": "cad853ce",
   "metadata": {},
   "outputs": [],
   "source": [
    "from sklearn.model_selection import train_test_split\n",
    "from sklearn.svm import SVC\n",
    "from sklearn.metrics import accuracy_score, precision_score, recall_score, f1_score\n",
    "\n",
    "# Define features and target variable\n",
    "X = data.drop('CreditScore', axis=1)\n",
    "y = data['CreditScore']\n",
    "\n",
    "# Split the dataset into training and testing sets\n",
    "X_train, X_test, y_train, y_test = train_test_split(X, y, test_size=0.2, random_state=42)\n",
    "\n",
    "# Initialize the linear SVM model\n",
    "linear_svm_model = SVC(kernel='linear')\n",
    "\n",
    "# Train the linear SVM model\n",
    "linear_svm_model.fit(X_train, y_train)\n",
    "\n",
    "# Make predictions\n",
    "y_pred_macro= linear_svm_model.predict(X_test)\n"
   ]
  },
  {
   "cell_type": "code",
   "execution_count": 64,
   "id": "4828e06a",
   "metadata": {},
   "outputs": [],
   "source": [
    "# Initialize the non-linear SVM model with an RBF kernel\n",
    "nonlinear_svm_model = SVC(kernel='rbf')\n",
    "\n",
    "# Split the dataset into training and testing sets\n",
    "X_train, X_test, y_train, y_test = train_test_split(X, y, test_size=0.2, random_state=42)\n",
    "\n",
    "# Train the non-linear SVM model\n",
    "nonlinear_svm_model.fit(X_train, y_train)\n",
    "\n",
    "# Make predictions\n",
    "y_pred_nonlinear = nonlinear_svm_model.predict(X_test)\n"
   ]
  },
  {
   "cell_type": "code",
   "execution_count": 67,
   "id": "a20363b2",
   "metadata": {},
   "outputs": [
    {
     "name": "stdout",
     "output_type": "stream",
     "text": [
      "Precision (Linear SVM): 0.00\n",
      "Recall (Linear SVM): 0.00\n",
      "F1 Score (Linear SVM): 0.00\n",
      "Precision (Non-linear SVM): 0.00\n",
      "Recall (Non-linear SVM): 0.00\n",
      "F1 Score (Non-linear SVM): 0.00\n"
     ]
    },
    {
     "name": "stderr",
     "output_type": "stream",
     "text": [
      "C:\\Users\\thama\\anaconda3\\Lib\\site-packages\\sklearn\\metrics\\_classification.py:1471: UndefinedMetricWarning: Precision is ill-defined and being set to 0.0 in labels with no predicted samples. Use `zero_division` parameter to control this behavior.\n",
      "  _warn_prf(average, modifier, msg_start, len(result))\n",
      "C:\\Users\\thama\\anaconda3\\Lib\\site-packages\\sklearn\\metrics\\_classification.py:1471: UndefinedMetricWarning: Recall is ill-defined and being set to 0.0 in labels with no true samples. Use `zero_division` parameter to control this behavior.\n",
      "  _warn_prf(average, modifier, msg_start, len(result))\n",
      "C:\\Users\\thama\\anaconda3\\Lib\\site-packages\\sklearn\\metrics\\_classification.py:1471: UndefinedMetricWarning: Precision is ill-defined and being set to 0.0 in labels with no predicted samples. Use `zero_division` parameter to control this behavior.\n",
      "  _warn_prf(average, modifier, msg_start, len(result))\n",
      "C:\\Users\\thama\\anaconda3\\Lib\\site-packages\\sklearn\\metrics\\_classification.py:1471: UndefinedMetricWarning: Recall is ill-defined and being set to 0.0 in labels with no true samples. Use `zero_division` parameter to control this behavior.\n",
      "  _warn_prf(average, modifier, msg_start, len(result))\n"
     ]
    }
   ],
   "source": [
    "from sklearn.metrics import precision_score, recall_score, f1_score\n",
    "\n",
    "# ...\n",
    "\n",
    "# Precision for linear SVM\n",
    "precision_linear = precision_score(y_test, y_pred, average='macro')\n",
    "\n",
    "# Recall for linear SVM\n",
    "recall_linear = recall_score(y_test, y_pred, average='macro')\n",
    "\n",
    "# F1 Score for linear SVM\n",
    "f1_linear = f1_score(y_test, y_pred, average='macro')\n",
    "\n",
    "# Display metrics for linear SVM\n",
    "print(f\"Precision (Linear SVM): {precision_linear:.2f}\")\n",
    "print(f\"Recall (Linear SVM): {recall_linear:.2f}\")\n",
    "print(f\"F1 Score (Linear SVM): {f1_linear:.2f}\")\n",
    "\n",
    "# ...\n",
    "\n",
    "# Precision for non-linear SVM\n",
    "precision_nonlinear = precision_score(y_test, y_pred_nonlinear, average='macro')\n",
    "\n",
    "# Recall for non-linear SVM\n",
    "recall_nonlinear = recall_score(y_test, y_pred_nonlinear, average='macro')\n",
    "\n",
    "# F1 Score for non-linear SVM\n",
    "f1_nonlinear = f1_score(y_test, y_pred_nonlinear, average='macro')\n",
    "\n",
    "# Display metrics for non-linear SVM\n",
    "print(f\"Precision (Non-linear SVM): {precision_nonlinear:.2f}\")\n",
    "print(f\"Recall (Non-linear SVM): {recall_nonlinear:.2f}\")\n",
    "print(f\"F1 Score (Non-linear SVM): {f1_nonlinear:.2f}\")\n"
   ]
  },
  {
   "cell_type": "code",
   "execution_count": 73,
   "id": "b30528bd",
   "metadata": {},
   "outputs": [
    {
     "name": "stdout",
     "output_type": "stream",
     "text": [
      "Number of Support Vectors (Linear SVM): 5\n",
      "Number of Support Vectors (Non-linear SVM): 5\n"
     ]
    }
   ],
   "source": [
    "# Get support vectors for linear SVM\n",
    "support_vectors_linear = linear_svm_model.support_vectors_\n",
    "\n",
    "# Get support vectors for non-linear SVM\n",
    "support_vectors_nonlinear = nonlinear_svm_model.support_vectors_\n",
    "\n",
    "# Print the number of support vectors\n",
    "print(\"Number of Support Vectors (Linear SVM):\", len(support_vectors_linear))\n",
    "print(\"Number of Support Vectors (Non-linear SVM):\", len(support_vectors_nonlinear))\n"
   ]
  },
  {
   "cell_type": "code",
   "execution_count": null,
   "id": "a1ec57d4",
   "metadata": {},
   "outputs": [],
   "source": []
  }
 ],
 "metadata": {
  "kernelspec": {
   "display_name": "Python 3 (ipykernel)",
   "language": "python",
   "name": "python3"
  },
  "language_info": {
   "codemirror_mode": {
    "name": "ipython",
    "version": 3
   },
   "file_extension": ".py",
   "mimetype": "text/x-python",
   "name": "python",
   "nbconvert_exporter": "python",
   "pygments_lexer": "ipython3",
   "version": "3.11.4"
  }
 },
 "nbformat": 4,
 "nbformat_minor": 5
}
