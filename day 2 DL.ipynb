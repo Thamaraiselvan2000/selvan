{
 "cells": [
  {
   "cell_type": "code",
   "execution_count": 3,
   "id": "eb7f3ac8",
   "metadata": {},
   "outputs": [],
   "source": [
    "import tensorflow"
   ]
  },
  {
   "cell_type": "code",
   "execution_count": 4,
   "id": "b1ea6c03",
   "metadata": {},
   "outputs": [],
   "source": [
    "import keras"
   ]
  },
  {
   "cell_type": "code",
   "execution_count": 6,
   "id": "0e2e3128",
   "metadata": {},
   "outputs": [],
   "source": [
    "from keras.datasets import mnist\n",
    "from keras.models import Sequential\n",
    "from keras.layers import Dense,Dropout \n",
    "from keras.optimizers import RMSprop"
   ]
  },
  {
   "cell_type": "code",
   "execution_count": 7,
   "id": "908f4e43",
   "metadata": {},
   "outputs": [],
   "source": [
    "batch_size=128\n",
    "num_classes=10\n",
    "epochs=20"
   ]
  },
  {
   "cell_type": "code",
   "execution_count": 8,
   "id": "6de37139",
   "metadata": {},
   "outputs": [
    {
     "name": "stdout",
     "output_type": "stream",
     "text": [
      "Downloading data from https://storage.googleapis.com/tensorflow/tf-keras-datasets/mnist.npz\n",
      "11490434/11490434 [==============================] - 7s 1us/step\n",
      "Shape-x: \t (60000, 28, 28)\n",
      "Shape-y: \t (60000,)\n"
     ]
    }
   ],
   "source": [
    "(xtrain, ytrain),(xtest,ytest)=mnist.load_data() \n",
    "print('Shape-x: \\t',xtrain.shape) \n",
    "print('Shape-y: \\t',ytrain.shape)"
   ]
  },
  {
   "cell_type": "code",
   "execution_count": 13,
   "id": "0109476b",
   "metadata": {},
   "outputs": [
    {
     "name": "stdout",
     "output_type": "stream",
     "text": [
      "Shape-x-train:\t (60000, 784)\n",
      "Shape-x-Test:\t (10000, 784)\n"
     ]
    }
   ],
   "source": [
    "xtrain=xtrain.reshape(60000,784)\n",
    "xtest=xtest.reshape(10000,784) \n",
    "print('Shape-x-train:\\t',xtrain.shape)\n",
    "print('Shape-x-Test:\\t',xtest.shape)"
   ]
  },
  {
   "cell_type": "code",
   "execution_count": 15,
   "id": "4a17e8e0",
   "metadata": {},
   "outputs": [],
   "source": [
    "xtrain=xtrain.astype('float32')\n",
    "xtest=xtest.astype('float32')"
   ]
  },
  {
   "cell_type": "code",
   "execution_count": 16,
   "id": "baf2fa06",
   "metadata": {},
   "outputs": [],
   "source": [
    "xtrain-xtrain/255.\n",
    "xtest=xtest/255."
   ]
  },
  {
   "cell_type": "code",
   "execution_count": 17,
   "id": "19bfeb52",
   "metadata": {},
   "outputs": [
    {
     "name": "stdout",
     "output_type": "stream",
     "text": [
      "60000 train samples\n",
      "10000 test samples\n"
     ]
    }
   ],
   "source": [
    "print(xtrain.shape[0],'train samples')\n",
    "print(xtest.shape[0],'test samples')"
   ]
  },
  {
   "cell_type": "code",
   "execution_count": 18,
   "id": "fc8d4abf",
   "metadata": {},
   "outputs": [],
   "source": [
    "import keras\n",
    "ytrain=keras.utils.to_categorical(ytrain,num_classes)\n",
    "ytest=keras.utils.to_categorical(ytest,num_classes)"
   ]
  },
  {
   "cell_type": "code",
   "execution_count": 19,
   "id": "dbf3d720",
   "metadata": {},
   "outputs": [
    {
     "data": {
      "text/plain": [
       "(60000, 10)"
      ]
     },
     "execution_count": 19,
     "metadata": {},
     "output_type": "execute_result"
    }
   ],
   "source": [
    "ytrain.shape"
   ]
  },
  {
   "cell_type": "code",
   "execution_count": 20,
   "id": "97e846eb",
   "metadata": {},
   "outputs": [
    {
     "name": "stdout",
     "output_type": "stream",
     "text": [
      "Model: \"sequential\"\n",
      "_________________________________________________________________\n",
      " Layer (type)                Output Shape              Param #   \n",
      "=================================================================\n",
      " dense (Dense)               (None, 512)               401920    \n",
      "                                                                 \n",
      " dense_1 (Dense)             (None, 512)               262656    \n",
      "                                                                 \n",
      " dense_2 (Dense)             (None, 10)                5130      \n",
      "                                                                 \n",
      "=================================================================\n",
      "Total params: 669706 (2.55 MB)\n",
      "Trainable params: 669706 (2.55 MB)\n",
      "Non-trainable params: 0 (0.00 Byte)\n",
      "_________________________________________________________________\n"
     ]
    }
   ],
   "source": [
    "model=Sequential()\n",
    "model.add(Dense(512, activation='relu',input_shape=(784,)))\n",
    "model.add(Dense(512, activation='relu'))\n",
    "model.add(Dense(num_classes, activation='softmax'))\n",
    "model.summary()"
   ]
  },
  {
   "cell_type": "code",
   "execution_count": 22,
   "id": "bea94ae7",
   "metadata": {},
   "outputs": [],
   "source": [
    "model.compile(loss='categorical_crossentropy',optimizer=RMSprop(),metrics=['accuracy'])"
   ]
  },
  {
   "cell_type": "code",
   "execution_count": 24,
   "id": "5c67bbd6",
   "metadata": {},
   "outputs": [
    {
     "name": "stdout",
     "output_type": "stream",
     "text": [
      "Epoch 1/20\n",
      "469/469 - 6s - loss: 3.6981 - accuracy: 0.8906 - val_loss: 2.1944 - val_accuracy: 0.8966 - 6s/epoch - 12ms/step\n",
      "Epoch 2/20\n",
      "469/469 - 5s - loss: 0.3383 - accuracy: 0.9423 - val_loss: 2.1702 - val_accuracy: 0.7319 - 5s/epoch - 11ms/step\n",
      "Epoch 3/20\n",
      "469/469 - 5s - loss: 0.2754 - accuracy: 0.9546 - val_loss: 2.1692 - val_accuracy: 0.5373 - 5s/epoch - 11ms/step\n",
      "Epoch 4/20\n",
      "469/469 - 5s - loss: 0.2171 - accuracy: 0.9621 - val_loss: 2.1419 - val_accuracy: 0.5097 - 5s/epoch - 11ms/step\n",
      "Epoch 5/20\n",
      "469/469 - 5s - loss: 0.1874 - accuracy: 0.9671 - val_loss: 2.1285 - val_accuracy: 0.5143 - 5s/epoch - 11ms/step\n",
      "Epoch 6/20\n",
      "469/469 - 5s - loss: 0.1781 - accuracy: 0.9720 - val_loss: 2.1249 - val_accuracy: 0.4055 - 5s/epoch - 11ms/step\n",
      "Epoch 7/20\n",
      "469/469 - 5s - loss: 0.1593 - accuracy: 0.9748 - val_loss: 2.0605 - val_accuracy: 0.5120 - 5s/epoch - 11ms/step\n",
      "Epoch 8/20\n",
      "469/469 - 5s - loss: 0.1529 - accuracy: 0.9758 - val_loss: 2.0922 - val_accuracy: 0.3603 - 5s/epoch - 11ms/step\n",
      "Epoch 9/20\n",
      "469/469 - 5s - loss: 0.1485 - accuracy: 0.9784 - val_loss: 2.0640 - val_accuracy: 0.4365 - 5s/epoch - 11ms/step\n",
      "Epoch 10/20\n",
      "469/469 - 5s - loss: 0.1332 - accuracy: 0.9805 - val_loss: 2.0412 - val_accuracy: 0.4286 - 5s/epoch - 11ms/step\n",
      "Epoch 11/20\n",
      "469/469 - 5s - loss: 0.1270 - accuracy: 0.9818 - val_loss: 2.0422 - val_accuracy: 0.4717 - 5s/epoch - 11ms/step\n",
      "Epoch 12/20\n",
      "469/469 - 5s - loss: 0.1193 - accuracy: 0.9829 - val_loss: 2.0055 - val_accuracy: 0.4366 - 5s/epoch - 11ms/step\n",
      "Epoch 13/20\n",
      "469/469 - 5s - loss: 0.1152 - accuracy: 0.9850 - val_loss: 1.9713 - val_accuracy: 0.4852 - 5s/epoch - 11ms/step\n",
      "Epoch 14/20\n",
      "469/469 - 5s - loss: 0.1041 - accuracy: 0.9865 - val_loss: 1.9927 - val_accuracy: 0.3998 - 5s/epoch - 11ms/step\n",
      "Epoch 15/20\n",
      "469/469 - 5s - loss: 0.1021 - accuracy: 0.9867 - val_loss: 1.9220 - val_accuracy: 0.5040 - 5s/epoch - 11ms/step\n",
      "Epoch 16/20\n",
      "469/469 - 5s - loss: 0.1015 - accuracy: 0.9879 - val_loss: 1.9289 - val_accuracy: 0.4538 - 5s/epoch - 11ms/step\n",
      "Epoch 17/20\n",
      "469/469 - 5s - loss: 0.1006 - accuracy: 0.9887 - val_loss: 1.9472 - val_accuracy: 0.4155 - 5s/epoch - 11ms/step\n",
      "Epoch 18/20\n",
      "469/469 - 5s - loss: 0.0929 - accuracy: 0.9899 - val_loss: 1.8936 - val_accuracy: 0.4649 - 5s/epoch - 11ms/step\n",
      "Epoch 19/20\n",
      "469/469 - 5s - loss: 0.1027 - accuracy: 0.9894 - val_loss: 1.8459 - val_accuracy: 0.5519 - 5s/epoch - 11ms/step\n",
      "Epoch 20/20\n",
      "469/469 - 5s - loss: 0.0907 - accuracy: 0.9909 - val_loss: 1.8117 - val_accuracy: 0.5434 - 5s/epoch - 11ms/step\n",
      "313/313 [==============================] - 1s 4ms/step - loss: 1.8117 - accuracy: 0.5434\n"
     ]
    }
   ],
   "source": [
    "histroy=model.fit(xtrain,ytrain,batch_size=batch_size,epochs=epochs,verbose=2,validation_data=(xtest,ytest))\n",
    "score=model.evaluate(xtest,ytest,verbose=1)\n"
   ]
  },
  {
   "cell_type": "code",
   "execution_count": 25,
   "id": "f072125f",
   "metadata": {},
   "outputs": [
    {
     "name": "stdout",
     "output_type": "stream",
     "text": [
      "Test Loss: \t 1.8117072582244873\n",
      "Test Accuracy: \t 0.54339998960495\n"
     ]
    }
   ],
   "source": [
    "print('Test Loss: \\t',score[0])\n",
    "print('Test Accuracy: \\t',score[1])"
   ]
  },
  {
   "cell_type": "code",
   "execution_count": null,
   "id": "9856cbc8",
   "metadata": {},
   "outputs": [],
   "source": []
  }
 ],
 "metadata": {
  "kernelspec": {
   "display_name": "Python 3 (ipykernel)",
   "language": "python",
   "name": "python3"
  },
  "language_info": {
   "codemirror_mode": {
    "name": "ipython",
    "version": 3
   },
   "file_extension": ".py",
   "mimetype": "text/x-python",
   "name": "python",
   "nbconvert_exporter": "python",
   "pygments_lexer": "ipython3",
   "version": "3.11.4"
  }
 },
 "nbformat": 4,
 "nbformat_minor": 5
}
