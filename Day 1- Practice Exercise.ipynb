{
 "cells": [
  {
   "cell_type": "markdown",
   "id": "f1273ae6",
   "metadata": {},
   "source": [
    "# 1. Manipulate using a List"
   ]
  },
  {
   "cell_type": "code",
   "execution_count": 1,
   "id": "1cda0a4c",
   "metadata": {},
   "outputs": [
    {
     "data": {
      "text/plain": [
       "[4, 99, 34.44, 'python']"
      ]
     },
     "execution_count": 1,
     "metadata": {},
     "output_type": "execute_result"
    }
   ],
   "source": [
    "lst=[4,99,34.44,'python']\n",
    "lst"
   ]
  },
  {
   "cell_type": "code",
   "execution_count": 8,
   "id": "8af5e66d",
   "metadata": {},
   "outputs": [
    {
     "data": {
      "text/plain": [
       "[4, 99, 34.44, 'python', 'programming']"
      ]
     },
     "execution_count": 8,
     "metadata": {},
     "output_type": "execute_result"
    }
   ],
   "source": [
    "lst.append('programming')\n",
    "lst"
   ]
  },
  {
   "cell_type": "code",
   "execution_count": 9,
   "id": "e7fdc28d",
   "metadata": {},
   "outputs": [
    {
     "data": {
      "text/plain": [
       "['programming', 'python', 34.44, 99, 4]"
      ]
     },
     "execution_count": 9,
     "metadata": {},
     "output_type": "execute_result"
    }
   ],
   "source": [
    "lst[::-1]"
   ]
  },
  {
   "cell_type": "code",
   "execution_count": 17,
   "id": "dd070281",
   "metadata": {},
   "outputs": [
    {
     "data": {
      "text/plain": [
       "['programming', 'python', 34.44, 99, 4]"
      ]
     },
     "execution_count": 17,
     "metadata": {},
     "output_type": "execute_result"
    }
   ],
   "source": [
    "lst"
   ]
  },
  {
   "cell_type": "code",
   "execution_count": 65,
   "id": "7693f793",
   "metadata": {},
   "outputs": [
    {
     "name": "stdout",
     "output_type": "stream",
     "text": [
      "[20, 30, 40, 50, 10]\n",
      "[20, 30, 40, 50, 10]\n",
      "[20, 30, 40, 50, 10]\n"
     ]
    }
   ],
   "source": [
    "lst=[20,30,40,50,10]\n",
    "n=3\n",
    "for n in range(3):\n",
    "  print(lst)"
   ]
  },
  {
   "cell_type": "code",
   "execution_count": 29,
   "id": "ce36a12e",
   "metadata": {},
   "outputs": [
    {
     "name": "stdout",
     "output_type": "stream",
     "text": [
      "[10, 20, 30, 70, 80, 90, 100]\n"
     ]
    }
   ],
   "source": [
    "l1=[10,20,30]\n",
    "l2=[70,80,90,100]\n",
    "con=l1+l2\n",
    "print(con)"
   ]
  },
  {
   "cell_type": "code",
   "execution_count": 30,
   "id": "08337239",
   "metadata": {},
   "outputs": [
    {
     "data": {
      "text/plain": [
       "[10, 20, 30]"
      ]
     },
     "execution_count": 30,
     "metadata": {},
     "output_type": "execute_result"
    }
   ],
   "source": [
    "l1"
   ]
  },
  {
   "cell_type": "code",
   "execution_count": 33,
   "id": "97335b46",
   "metadata": {},
   "outputs": [
    {
     "name": "stdout",
     "output_type": "stream",
     "text": [
      "[22, 24, 32, 34, 56, 78]\n"
     ]
    }
   ],
   "source": [
    "lst=[32,24,56,22,78,34]\n",
    "lst.sort()\n",
    "print(lst)"
   ]
  },
  {
   "cell_type": "markdown",
   "id": "c9e42842",
   "metadata": {},
   "source": [
    "# 2. python programme to do in tuples"
   ]
  },
  {
   "cell_type": "code",
   "execution_count": 35,
   "id": "f4bf1a0c",
   "metadata": {},
   "outputs": [
    {
     "data": {
      "text/plain": [
       "[24, 56.44, 'batch']"
      ]
     },
     "execution_count": 35,
     "metadata": {},
     "output_type": "execute_result"
    }
   ],
   "source": [
    "tuple=[24,56.44,'batch']\n",
    "tuple"
   ]
  },
  {
   "cell_type": "code",
   "execution_count": 38,
   "id": "56a7e2ae",
   "metadata": {},
   "outputs": [
    {
     "data": {
      "text/plain": [
       "['batch', 56.44, 24]"
      ]
     },
     "execution_count": 38,
     "metadata": {},
     "output_type": "execute_result"
    }
   ],
   "source": [
    "tuple[::-1]"
   ]
  },
  {
   "cell_type": "code",
   "execution_count": 66,
   "id": "98fc5680",
   "metadata": {},
   "outputs": [
    {
     "name": "stdout",
     "output_type": "stream",
     "text": [
      "[24, 56.44, 'batch']\n",
      "[24, 56.44, 'batch']\n",
      "[24, 56.44, 'batch']\n"
     ]
    }
   ],
   "source": [
    "n=3\n",
    "for n in range(3):\n",
    "    print(tuple)"
   ]
  },
  {
   "cell_type": "code",
   "execution_count": 41,
   "id": "58fab2ef",
   "metadata": {},
   "outputs": [
    {
     "name": "stdout",
     "output_type": "stream",
     "text": [
      "[23, 34.54, 'batch', 34, 76, 98, 65, 'AIML']\n"
     ]
    }
   ],
   "source": [
    "tuple1=[23,34.54,'batch']\n",
    "tuple2=[34,76,98,65,'AIML']\n",
    "con=tuple1+tuple2\n",
    "print(con)"
   ]
  },
  {
   "cell_type": "code",
   "execution_count": 48,
   "id": "f308a98a",
   "metadata": {},
   "outputs": [
    {
     "name": "stdout",
     "output_type": "stream",
     "text": [
      "[21, 23, 54, 77, 100, 200]\n"
     ]
    }
   ],
   "source": [
    "tup=[100,23,54,21,200,77]\n",
    "tup.sort()\n",
    "print(tup)"
   ]
  },
  {
   "cell_type": "markdown",
   "id": "c3bbf503",
   "metadata": {},
   "source": [
    "# 3. python programming to implement the following using list"
   ]
  },
  {
   "cell_type": "code",
   "execution_count": 49,
   "id": "556cd1cf",
   "metadata": {},
   "outputs": [
    {
     "data": {
      "text/plain": [
       "88"
      ]
     },
     "execution_count": 49,
     "metadata": {},
     "output_type": "execute_result"
    }
   ],
   "source": [
    "lst=[76,45,86,99,34,54,79,10,19,88]\n",
    "lst[-1]"
   ]
  },
  {
   "cell_type": "code",
   "execution_count": 50,
   "id": "32e98257",
   "metadata": {},
   "outputs": [
    {
     "data": {
      "text/plain": [
       "[76, 45, 86, 99]"
      ]
     },
     "execution_count": 50,
     "metadata": {},
     "output_type": "execute_result"
    }
   ],
   "source": [
    "lst[0:4]"
   ]
  },
  {
   "cell_type": "code",
   "execution_count": 51,
   "id": "861a7a92",
   "metadata": {},
   "outputs": [
    {
     "data": {
      "text/plain": [
       "[86, 99, 34, 54, 79, 10, 19, 88]"
      ]
     },
     "execution_count": 51,
     "metadata": {},
     "output_type": "execute_result"
    }
   ],
   "source": [
    "lst[2:]"
   ]
  },
  {
   "cell_type": "code",
   "execution_count": 52,
   "id": "9d5582b6",
   "metadata": {},
   "outputs": [
    {
     "data": {
      "text/plain": [
       "[76, 45, 86, 99, 34, 54]"
      ]
     },
     "execution_count": 52,
     "metadata": {},
     "output_type": "execute_result"
    }
   ],
   "source": [
    "lst[:6]"
   ]
  },
  {
   "cell_type": "markdown",
   "id": "cf146a2d",
   "metadata": {},
   "source": [
    "# 4. python programme in tuple1=[10,50,20,40,30]"
   ]
  },
  {
   "cell_type": "code",
   "execution_count": 53,
   "id": "146b6bd3",
   "metadata": {},
   "outputs": [
    {
     "data": {
      "text/plain": [
       "[10, 50]"
      ]
     },
     "execution_count": 53,
     "metadata": {},
     "output_type": "execute_result"
    }
   ],
   "source": [
    "tuple1=[10,50,20,40,30]\n",
    "tuple1[:2]"
   ]
  },
  {
   "cell_type": "code",
   "execution_count": 55,
   "id": "38f8b937",
   "metadata": {},
   "outputs": [
    {
     "data": {
      "text/plain": [
       "5"
      ]
     },
     "execution_count": 55,
     "metadata": {},
     "output_type": "execute_result"
    }
   ],
   "source": [
    "len(tuple1)"
   ]
  },
  {
   "cell_type": "code",
   "execution_count": 56,
   "id": "050b83a5",
   "metadata": {},
   "outputs": [
    {
     "data": {
      "text/plain": [
       "10"
      ]
     },
     "execution_count": 56,
     "metadata": {},
     "output_type": "execute_result"
    }
   ],
   "source": [
    "min(tuple1)"
   ]
  },
  {
   "cell_type": "code",
   "execution_count": 58,
   "id": "9fdaf5e7",
   "metadata": {},
   "outputs": [
    {
     "data": {
      "text/plain": [
       "150"
      ]
     },
     "execution_count": 58,
     "metadata": {},
     "output_type": "execute_result"
    }
   ],
   "source": [
    "sum(tuple1)"
   ]
  },
  {
   "cell_type": "code",
   "execution_count": 59,
   "id": "fc0750b8",
   "metadata": {},
   "outputs": [
    {
     "data": {
      "text/plain": [
       "[10, 50, 20, 40, 30, 10, 50, 20, 40, 30, 10, 50, 20, 40, 30]"
      ]
     },
     "execution_count": 59,
     "metadata": {},
     "output_type": "execute_result"
    }
   ],
   "source": [
    "tuple1*3"
   ]
  },
  {
   "cell_type": "code",
   "execution_count": 62,
   "id": "e188fac6",
   "metadata": {},
   "outputs": [
    {
     "name": "stdout",
     "output_type": "stream",
     "text": [
      "[10, 50, 20, 40, 30]\n",
      "[10, 50, 20, 40, 30]\n",
      "[10, 50, 20, 40, 30]\n"
     ]
    }
   ],
   "source": [
    "tuple1=[10,50,20,40,30]\n",
    "n=3\n",
    "for n in range(n):\n",
    "    print(tuple1)"
   ]
  },
  {
   "cell_type": "markdown",
   "id": "1b9aa801",
   "metadata": {},
   "source": [
    "# 5. length of the string"
   ]
  },
  {
   "cell_type": "code",
   "execution_count": 81,
   "id": "0e7f25b1",
   "metadata": {},
   "outputs": [
    {
     "data": {
      "text/plain": [
       "5"
      ]
     },
     "execution_count": 81,
     "metadata": {},
     "output_type": "execute_result"
    }
   ],
   "source": [
    "str=['programming','python','c','java','oops']\n",
    "len(str)"
   ]
  },
  {
   "cell_type": "markdown",
   "id": "1e75847e",
   "metadata": {},
   "source": [
    "# reverse a word in a string"
   ]
  },
  {
   "cell_type": "code",
   "execution_count": 82,
   "id": "009a7267",
   "metadata": {},
   "outputs": [
    {
     "data": {
      "text/plain": [
       "['oops', 'java', 'c', 'python', 'programming']"
      ]
     },
     "execution_count": 82,
     "metadata": {},
     "output_type": "execute_result"
    }
   ],
   "source": [
    "str[::-1]"
   ]
  },
  {
   "cell_type": "markdown",
   "id": "1f5afff7",
   "metadata": {},
   "source": [
    "# same string multiple times"
   ]
  },
  {
   "cell_type": "code",
   "execution_count": 83,
   "id": "c9cb971d",
   "metadata": {},
   "outputs": [
    {
     "name": "stdout",
     "output_type": "stream",
     "text": [
      "['programming', 'python', 'c', 'java', 'oops']\n",
      "['programming', 'python', 'c', 'java', 'oops']\n",
      "['programming', 'python', 'c', 'java', 'oops']\n"
     ]
    }
   ],
   "source": [
    "n=3\n",
    "for n in range(3):\n",
    "    print(str)"
   ]
  },
  {
   "cell_type": "code",
   "execution_count": 100,
   "id": "fa204c93",
   "metadata": {},
   "outputs": [
    {
     "name": "stdout",
     "output_type": "stream",
     "text": [
      "python programming\n"
     ]
    }
   ],
   "source": [
    "str1='python'\n",
    "str2=' programming'\n",
    "con=str1 + str2\n",
    "print(con)"
   ]
  },
  {
   "cell_type": "code",
   "execution_count": 102,
   "id": "f186ab28",
   "metadata": {},
   "outputs": [
    {
     "data": {
      "text/plain": [
       "'India'"
      ]
     },
     "execution_count": 102,
     "metadata": {},
     "output_type": "execute_result"
    }
   ],
   "source": [
    "str1=\"South India\"\n",
    "str1[6:]"
   ]
  },
  {
   "cell_type": "markdown",
   "id": "510a5b72",
   "metadata": {},
   "source": [
    "# 7.Insert a number to any position in the list"
   ]
  },
  {
   "cell_type": "code",
   "execution_count": 21,
   "id": "cc2d38d2",
   "metadata": {},
   "outputs": [
    {
     "data": {
      "text/plain": [
       "[1, 2, 3, 30, 4, 5, 6, 7, 8, 9, 10]"
      ]
     },
     "execution_count": 21,
     "metadata": {},
     "output_type": "execute_result"
    }
   ],
   "source": [
    "lst=[1,2,3,4,5,6,7,8,9,10]\n",
    "lst.insert(3,30)\n",
    "lst"
   ]
  },
  {
   "cell_type": "markdown",
   "id": "b7366b21",
   "metadata": {},
   "source": [
    "# 8. delete a element from a list by index"
   ]
  },
  {
   "cell_type": "code",
   "execution_count": 36,
   "id": "9801942c",
   "metadata": {},
   "outputs": [
    {
     "data": {
      "text/plain": [
       "[1, 2, 4, 5, 6]"
      ]
     },
     "execution_count": 36,
     "metadata": {},
     "output_type": "execute_result"
    }
   ],
   "source": [
    "lst=[1,2,3,4,5,6]\n",
    "i=2\n",
    "if 0 <= i < len(lst):\n",
    "    del lst[i]\n",
    "else:\n",
    "    print (\"index out of range\")\n",
    "lst"
   ]
  },
  {
   "cell_type": "code",
   "execution_count": 60,
   "id": "607a9f87",
   "metadata": {},
   "outputs": [
    {
     "data": {
      "text/plain": [
       "[1, 2, 4, 5]"
      ]
     },
     "execution_count": 60,
     "metadata": {},
     "output_type": "execute_result"
    }
   ],
   "source": [
    "lst=[1,2,3,4,5]\n",
    "i=2\n",
    "del lst[i]\n",
    "lst"
   ]
  },
  {
   "cell_type": "markdown",
   "id": "9a8cbe69",
   "metadata": {},
   "source": [
    "# 9. display a number from 1 to 100"
   ]
  },
  {
   "cell_type": "code",
   "execution_count": 5,
   "id": "1d317c71",
   "metadata": {},
   "outputs": [
    {
     "name": "stdout",
     "output_type": "stream",
     "text": [
      "[1, 2, 3, 4, 5, 6, 7, 8, 9, 10, 11, 12, 13, 14, 15, 16, 17, 18, 19, 20, 21, 22, 23, 24, 25, 26, 27, 28, 29, 30, 31, 32, 33, 34, 35, 36, 37, 38, 39, 40, 41, 42, 43, 44, 45, 46, 47, 48, 49, 50, 51, 52, 53, 54, 55, 56, 57, 58, 59, 60, 61, 62, 63, 64, 65, 66, 67, 68, 69, 70, 71, 72, 73, 74, 75, 76, 77, 78, 79, 80, 81, 82, 83, 84, 85, 86, 87, 88, 89, 90, 91, 92, 93, 94, 95, 96, 97, 98, 99, 100]\n"
     ]
    }
   ],
   "source": [
    "lst=[i for i in range(1,101)]\n",
    "print(lst)"
   ]
  },
  {
   "cell_type": "markdown",
   "id": "680a3a3a",
   "metadata": {},
   "source": [
    "# 10.sum of all items in the tuple"
   ]
  },
  {
   "cell_type": "code",
   "execution_count": 48,
   "id": "243ad25b",
   "metadata": {},
   "outputs": [
    {
     "name": "stdout",
     "output_type": "stream",
     "text": [
      "sum of tuple is: 264\n"
     ]
    }
   ],
   "source": [
    "tuple=(34,45,57,43,85)\n",
    "t=sum(tuple)\n",
    "print(\"sum of tuple is:\",t)"
   ]
  },
  {
   "cell_type": "markdown",
   "id": "e9c89226",
   "metadata": {},
   "source": [
    "# 6. Dictionary"
   ]
  },
  {
   "cell_type": "code",
   "execution_count": 61,
   "id": "9a3d3970",
   "metadata": {},
   "outputs": [
    {
     "data": {
      "text/plain": [
       "{'name': 'Balaji', 'age': 35, 'city': 'chennai', 'emp_id': 11111}"
      ]
     },
     "execution_count": 61,
     "metadata": {},
     "output_type": "execute_result"
    }
   ],
   "source": [
    "detail={'name':'Balaji','age':35,'city':'chennai','emp_id':11111}\n",
    "detail"
   ]
  },
  {
   "cell_type": "code",
   "execution_count": 62,
   "id": "739b81b1",
   "metadata": {},
   "outputs": [
    {
     "data": {
      "text/plain": [
       "dict_values(['Balaji', 35, 'chennai', 11111])"
      ]
     },
     "execution_count": 62,
     "metadata": {},
     "output_type": "execute_result"
    }
   ],
   "source": [
    "detail.values()"
   ]
  },
  {
   "cell_type": "code",
   "execution_count": 63,
   "id": "22e811ce",
   "metadata": {},
   "outputs": [
    {
     "data": {
      "text/plain": [
       "dict_keys(['name', 'age', 'city', 'emp_id'])"
      ]
     },
     "execution_count": 63,
     "metadata": {},
     "output_type": "execute_result"
    }
   ],
   "source": [
    "detail.keys()"
   ]
  },
  {
   "cell_type": "code",
   "execution_count": 67,
   "id": "0d64de5d",
   "metadata": {},
   "outputs": [
    {
     "data": {
      "text/plain": [
       "11111"
      ]
     },
     "execution_count": 67,
     "metadata": {},
     "output_type": "execute_result"
    }
   ],
   "source": [
    "detail.pop('emp_id')"
   ]
  },
  {
   "cell_type": "code",
   "execution_count": 68,
   "id": "2d9cbc8e",
   "metadata": {},
   "outputs": [
    {
     "data": {
      "text/plain": [
       "{'name': 'Balaji', 'age': 35, 'city': 'chennai'}"
      ]
     },
     "execution_count": 68,
     "metadata": {},
     "output_type": "execute_result"
    }
   ],
   "source": [
    "detail"
   ]
  },
  {
   "cell_type": "code",
   "execution_count": 69,
   "id": "493e086b",
   "metadata": {},
   "outputs": [
    {
     "data": {
      "text/plain": [
       "{'name': 'Balaji', 'age': 35, 'city': 'chennai', 'emp_id': 11111}"
      ]
     },
     "execution_count": 69,
     "metadata": {},
     "output_type": "execute_result"
    }
   ],
   "source": [
    "detail.update({'emp_id':11111})\n",
    "detail"
   ]
  },
  {
   "cell_type": "markdown",
   "id": "97eebda3",
   "metadata": {},
   "source": [
    "# 11.Lambda function"
   ]
  },
  {
   "cell_type": "code",
   "execution_count": 3,
   "id": "7a467aed",
   "metadata": {},
   "outputs": [
    {
     "name": "stdout",
     "output_type": "stream",
     "text": [
      "Enter a number: 56\n",
      "Square of 56 is 3136\n",
      "Cube of 56 is 175616\n",
      "Squareroot of 56 is 7.483314773547883\n"
     ]
    }
   ],
   "source": [
    "import math\n",
    "\n",
    "# Create a dictionary with lambda functions\n",
    "calculate = {\n",
    "    \"Square\": lambda x: x**2,\n",
    "    \"Cube\": lambda x: x**3,\n",
    "    \"Squareroot\": lambda x: math.sqrt(x)\n",
    "}\n",
    "\n",
    "# Test the functions\n",
    "number = int(input(\"Enter a number: \"))\n",
    "sq_res = calculate[\"Square\"](number)\n",
    "cb_res = calculate[\"Cube\"](number)\n",
    "sqrt_res = calculate[\"Squareroot\"](number)\n",
    "\n",
    "# Print the results\n",
    "print(f\"Square of {number} is {sq_res}\")\n",
    "print(f\"Cube of {number} is {cb_res}\")\n",
    "print(f\"Squareroot of {number} is {sqrt_res}\")"
   ]
  },
  {
   "cell_type": "markdown",
   "id": "b866107d",
   "metadata": {},
   "source": [
    "# 12.Find the words from the list that have their second character in uppercase"
   ]
  },
  {
   "cell_type": "code",
   "execution_count": 4,
   "id": "0b7e28d8",
   "metadata": {},
   "outputs": [
    {
     "name": "stdout",
     "output_type": "stream",
     "text": [
      "['hOw', 'ARe']\n"
     ]
    }
   ],
   "source": [
    "ls = [\"hello\", \"Dear\", \"hOw\", \"ARe\", \"You\"]\n",
    "res = []\n",
    "for i in ls:\n",
    "    if i[1].isupper():\n",
    "        res.append(i)\n",
    "print(res)"
   ]
  },
  {
   "cell_type": "markdown",
   "id": "2703b751",
   "metadata": {},
   "source": [
    "# 13.Weight of people on the moon"
   ]
  },
  {
   "cell_type": "code",
   "execution_count": 2,
   "id": "8811eea9",
   "metadata": {},
   "outputs": [
    {
     "name": "stdout",
     "output_type": "stream",
     "text": [
      "Weight of people on the Moon:\n",
      "{'John': 7.440366972477065, 'Shelly': 10.747196738022426, 'Marry': 5.786952089704383}\n"
     ]
    }
   ],
   "source": [
    "# Define the dictionary with names and their weights on Earth\n",
    "WeightOnEarth = {'John': 45, 'Shelly': 65, 'Marry': 35}\n",
    "\n",
    "# Constants\n",
    "GMoon = 1.622\n",
    "GEarth = 9.81\n",
    "\n",
    "# Use map and lambda to calculate the weight on the Moon for each person\n",
    "WeightOnMoon = map(lambda weight: weight * GMoon / GEarth, WeightOnEarth.values())\n",
    "\n",
    "# Create a dictionary with names and their weights on the Moon\n",
    "WeightOnMoonDict = dict(zip(WeightOnEarth.keys(), WeightOnMoon))\n",
    "\n",
    "print(\"Weight of people on the Moon:\")\n",
    "print(WeightOnMoonDict)"
   ]
  },
  {
   "cell_type": "markdown",
   "id": "f0fdfd1e",
   "metadata": {},
   "source": [
    "#                                  Control structures"
   ]
  },
  {
   "cell_type": "markdown",
   "id": "183fa358",
   "metadata": {},
   "source": [
    "# 5. sum of odd numbers and even numbers between 12 and 37"
   ]
  },
  {
   "cell_type": "code",
   "execution_count": 75,
   "id": "d90df6e4",
   "metadata": {},
   "outputs": [
    {
     "name": "stdout",
     "output_type": "stream",
     "text": [
      "sum of even numbers: 312\n",
      "sum of odd numbers: 325\n"
     ]
    }
   ],
   "source": [
    "odd=0\n",
    "even=0\n",
    "for i in range(12,38):\n",
    "    if i%2==0:\n",
    "        even+=i\n",
    "    else:\n",
    "        odd+=i\n",
    "print(\"sum of even numbers:\",even)\n",
    "print(\"sum of odd numbers:\",odd)"
   ]
  },
  {
   "cell_type": "markdown",
   "id": "41949998",
   "metadata": {},
   "source": [
    "# 6. to print the table of any number"
   ]
  },
  {
   "cell_type": "code",
   "execution_count": 86,
   "id": "e21aee59",
   "metadata": {},
   "outputs": [
    {
     "name": "stdout",
     "output_type": "stream",
     "text": [
      "enter the number to print the tables for:5\n",
      "the multiplication table of: 5\n",
      "5 x 1 = 5\n",
      "5 x 2 = 10\n",
      "5 x 3 = 15\n",
      "5 x 4 = 20\n",
      "5 x 5 = 25\n",
      "5 x 6 = 30\n",
      "5 x 7 = 35\n",
      "5 x 8 = 40\n",
      "5 x 9 = 45\n",
      "5 x 10 = 50\n"
     ]
    }
   ],
   "source": [
    "number=int(input(\"enter the number to print the tables for:\"))\n",
    "print (\"the multiplication table of:\",number) \n",
    "for i in range(1,11):\n",
    "    print(number,'x',i,'=',number*i)\n"
   ]
  },
  {
   "cell_type": "markdown",
   "id": "ff9d12d9",
   "metadata": {},
   "source": [
    "# 1. to find the first N prime numbers"
   ]
  },
  {
   "cell_type": "code",
   "execution_count": 1,
   "id": "95c00efa",
   "metadata": {},
   "outputs": [
    {
     "name": "stdout",
     "output_type": "stream",
     "text": [
      "Enter a number: 20\n",
      "First 20 prime numbers are: \n",
      "2 3 5 7 11 13 17 19 23 29 31 37 41 43 47 53 59 61 67 71 "
     ]
    }
   ],
   "source": [
    "# Python Program to find first n prime numbers\n",
    "from math import sqrt\n",
    " \n",
    "num = int(input(\"Enter a number: \"))\n",
    "count = 0\n",
    "n = 2\n",
    " \n",
    "print(\"First\", num, \"prime numbers are: \")\n",
    "while count < num:\n",
    "    prime_flag = True\n",
    "     \n",
    "    for i in range(2, int(sqrt(n)) + 1):\n",
    "        if (n % i) == 0:\n",
    "            prime_flag = False\n",
    "            break\n",
    "     \n",
    "    # check if flag is True\n",
    "    if prime_flag:\n",
    "        print(n, end =\" \")\n",
    "        count = count + 1\n",
    "    n = n + 1"
   ]
  },
  {
   "cell_type": "markdown",
   "id": "2d605407",
   "metadata": {},
   "source": [
    "# 15.Program to determine the eldest and youngest of the three."
   ]
  },
  {
   "cell_type": "code",
   "execution_count": 89,
   "id": "2a2f910a",
   "metadata": {},
   "outputs": [
    {
     "name": "stdout",
     "output_type": "stream",
     "text": [
      "Enter Ram's age: 25\n",
      "Enter Sam's age: 35\n",
      "Enter Khan's age: 45\n",
      "The eldest among Ram, Sam, and Khan is: Khan\n",
      "The youngest among Ram, Sam, and Khan is: Ram\n"
     ]
    }
   ],
   "source": [
    "ram_age = int(input(\"Enter Ram's age: \"))\n",
    "sam_age = int(input(\"Enter Sam's age: \"))\n",
    "khan_age = int(input(\"Enter Khan's age: \"))\n",
    "\n",
    "# Determine the eldest and youngest\n",
    "if ram_age >= sam_age and ram_age >= khan_age:\n",
    "    eldest = \"Ram\"\n",
    "    if sam_age <= khan_age:\n",
    "        youngest = \"Sam\"\n",
    "    else:\n",
    "        youngest = \"Khan\"\n",
    "elif sam_age >= ram_age and sam_age >= khan_age:\n",
    "    eldest = \"Sam\"\n",
    "    if ram_age <= khan_age:\n",
    "        youngest = \"Ram\"\n",
    "    else:\n",
    "        youngest = \"Khan\"\n",
    "else:\n",
    "    eldest = \"Khan\"\n",
    "    if ram_age <= sam_age:\n",
    "        youngest = \"Ram\"\n",
    "    else:\n",
    "        youngest = \"Sam\"\n",
    "\n",
    "# Print the results\n",
    "print(f\"The eldest among Ram, Sam, and Khan is: {eldest}\")\n",
    "print(f\"The youngest among Ram, Sam, and Khan is: {youngest}\")"
   ]
  },
  {
   "cell_type": "markdown",
   "id": "4bd1b5e1",
   "metadata": {},
   "source": [
    "# 14.Days in each school year"
   ]
  },
  {
   "cell_type": "code",
   "execution_count": 90,
   "id": "4b54f0aa",
   "metadata": {},
   "outputs": [
    {
     "name": "stdout",
     "output_type": "stream",
     "text": [
      "Total hours spent in school from year 7 to year 11: 51840 hours\n"
     ]
    }
   ],
   "source": [
    "days_in_each_school_year = 192\n",
    "\n",
    "# Years 7 to 11\n",
    "years = range(7, 12)\n",
    "\n",
    "# Calculate the total hours spent in school\n",
    "total_hours = sum(year * days_in_each_school_year * 6 for year in years)\n",
    "\n",
    "print(f\"Total hours spent in school from year 7 to year 11: {total_hours} hours\")"
   ]
  },
  {
   "cell_type": "markdown",
   "id": "1856c4f4",
   "metadata": {},
   "source": [
    "# 16.Rotate a list by right n times"
   ]
  },
  {
   "cell_type": "code",
   "execution_count": 93,
   "id": "f8f06830",
   "metadata": {},
   "outputs": [
    {
     "name": "stdout",
     "output_type": "stream",
     "text": [
      "Enter the number of times to rotate to the right: 7\n",
      "Rotated list using slicing technique: [4, 5, 1, 2, 3]\n"
     ]
    }
   ],
   "source": [
    "def rotate_list_using_slicing(input_list, n):\n",
    "    if len(input_list) == 0:\n",
    "        return input_list\n",
    "\n",
    "    n %= len(input_list)  # Ensure n is within the length of the list\n",
    "    rotated_list = input_list[-n:] + input_list[:-n]\n",
    "    return rotated_list\n",
    "\n",
    "# Input list\n",
    "my_list = [1, 2, 3, 4, 5]\n",
    "n = int(input(\"Enter the number of times to rotate to the right: \"))\n",
    "\n",
    "rotated_list = rotate_list_using_slicing(my_list, n)\n",
    "print(\"Rotated list using slicing technique:\", rotated_list)\n",
    "\n",
    "def rotate_list_without_slicing(input_list, n):\n",
    "    if len(input_list) == 0:\n",
    "        return input_list\n",
    "\n",
    "    n %= len(input_list)  # Ensure n is within the length of the list\n",
    "    for _ in range(n):\n",
    "        temp = input_list.pop()\n",
    "        input_list.insert(0, temp)\n",
    "    return input_list"
   ]
  },
  {
   "cell_type": "markdown",
   "id": "5f4f09c4",
   "metadata": {},
   "source": [
    "# 13. A high-speed train can travel at an average speed of 150 mph, how long will it take a train travelling at this speed to travel from London to Glasgow which is 414 miles away"
   ]
  },
  {
   "cell_type": "code",
   "execution_count": 94,
   "id": "17de6db0",
   "metadata": {},
   "outputs": [
    {
     "name": "stdout",
     "output_type": "stream",
     "text": [
      "The time it takes the train to travel from London to Glasgow is 2.76 hours\n"
     ]
    }
   ],
   "source": [
    "speed = 150  # mph\n",
    "distance = 414  # miles\n",
    "\n",
    "time = distance / speed\n",
    "\n",
    "print(\"The time it takes the train to travel from London to Glasgow is\", time, \"hours\")"
   ]
  },
  {
   "cell_type": "markdown",
   "id": "56adffe7",
   "metadata": {},
   "source": [
    "# 12.Number of seconds in a year"
   ]
  },
  {
   "cell_type": "code",
   "execution_count": 95,
   "id": "aa016f17",
   "metadata": {},
   "outputs": [
    {
     "name": "stdout",
     "output_type": "stream",
     "text": [
      "The number of seconds in a year (assuming 365 days) is: 31536000 seconds\n"
     ]
    }
   ],
   "source": [
    "days_per_year = 365\n",
    "hours_per_day = 24\n",
    "minutes_per_hour = 60\n",
    "seconds_per_minute = 60\n",
    "\n",
    "total_seconds = days_per_year * hours_per_day * minutes_per_hour * seconds_per_minute\n",
    "\n",
    "print(f\"The number of seconds in a year (assuming 365 days) is: {total_seconds} seconds\")"
   ]
  },
  {
   "cell_type": "markdown",
   "id": "2f5aa989",
   "metadata": {},
   "source": [
    "# 11.Numbers of seconds in a 30 day month"
   ]
  },
  {
   "cell_type": "code",
   "execution_count": 96,
   "id": "f9308ed4",
   "metadata": {},
   "outputs": [
    {
     "name": "stdout",
     "output_type": "stream",
     "text": [
      "There are 2592000 seconds in a 30-day month.\n"
     ]
    }
   ],
   "source": [
    "days_in_month = 30\n",
    "hours_in_day = 24\n",
    "minutes_in_hour = 60\n",
    "seconds_in_minute = 60\n",
    "\n",
    "seconds_in_30_days = days_in_month * hours_in_day * minutes_in_hour * seconds_in_minute\n",
    "\n",
    "print(f\"There are {seconds_in_30_days} seconds in a 30-day month.\")"
   ]
  },
  {
   "cell_type": "markdown",
   "id": "a43aa718",
   "metadata": {},
   "source": [
    "# 10. Write a python program to find a maximum and minimum number in a list without using an inbuilt function"
   ]
  },
  {
   "cell_type": "code",
   "execution_count": 98,
   "id": "83f0f3fa",
   "metadata": {},
   "outputs": [
    {
     "name": "stdout",
     "output_type": "stream",
     "text": [
      "The maximum number is 98\n",
      "The minimum number is 23\n"
     ]
    }
   ],
   "source": [
    "def max_min(list1):\n",
    "  max_num = list1[0]\n",
    "  min_num = list1[0]\n",
    "  for num in list1:\n",
    "    if num > max_num:\n",
    "      max_num = num\n",
    "    elif num < min_num:\n",
    "      min_num = num\n",
    "  return max_num, min_num\n",
    "\n",
    "list1 = [56,78,66,98,23,53]\n",
    "max_num, min_num = max_min(list1)\n",
    "print(\"The maximum number is\", max_num)\n",
    "print(\"The minimum number is\", min_num)"
   ]
  },
  {
   "cell_type": "markdown",
   "id": "2817edef",
   "metadata": {},
   "source": [
    "# 9.Celsius to Fahrenheit"
   ]
  },
  {
   "cell_type": "code",
   "execution_count": 99,
   "id": "69a2072e",
   "metadata": {},
   "outputs": [
    {
     "name": "stdout",
     "output_type": "stream",
     "text": [
      "Enter temperature in Celsius: 37\n",
      "37.0 degrees Celsius is equal to 98.6 degrees Fahrenheit\n"
     ]
    }
   ],
   "source": [
    "celsius = float(input(\"Enter temperature in Celsius: \"))\n",
    "\n",
    "fahrenheit = (celsius * 9/5) + 32\n",
    "\n",
    "print(f\"{celsius} degrees Celsius is equal to {fahrenheit} degrees Fahrenheit\")"
   ]
  },
  {
   "cell_type": "markdown",
   "id": "232b4bb7",
   "metadata": {},
   "source": [
    "# 8.Implement arithmetic operation using nested if statement"
   ]
  },
  {
   "cell_type": "code",
   "execution_count": 100,
   "id": "6dc19303",
   "metadata": {},
   "outputs": [
    {
     "name": "stdout",
     "output_type": "stream",
     "text": [
      "Enter the first number: 56\n",
      "Enter the second number: 66\n",
      "Enter an arithmetic operation (+, -, *, /): +\n",
      "Result: 122.0\n"
     ]
    }
   ],
   "source": [
    "num1 = float(input(\"Enter the first number: \"))\n",
    "num2 = float(input(\"Enter the second number: \"))\n",
    "\n",
    "operation = input(\"Enter an arithmetic operation (+, -, *, /): \")\n",
    "\n",
    "if operation == \"+\":\n",
    "    result = num1 + num2\n",
    "elif operation == \"-\":\n",
    "    result = num1 - num2\n",
    "elif operation == \"*\":\n",
    "    result = num1 * num2\n",
    "elif operation == \"/\":\n",
    "    if num2 != 0:\n",
    "        result = num1 / num2\n",
    "    else:\n",
    "        result = \"Division by zero is not allowed.\"\n",
    "else:\n",
    "    result = \"Invalid operation\"\n",
    "\n",
    "print(f\"Result: {result}\")"
   ]
  },
  {
   "cell_type": "markdown",
   "id": "fba3c7a2",
   "metadata": {},
   "source": [
    "# 7.Sum of first 10 prime numbers"
   ]
  },
  {
   "cell_type": "code",
   "execution_count": 101,
   "id": "c65125ba",
   "metadata": {},
   "outputs": [
    {
     "name": "stdout",
     "output_type": "stream",
     "text": [
      "The sum of the first 10 prime numbers is: 129\n"
     ]
    }
   ],
   "source": [
    "def is_prime(num):\n",
    "    if num <= 1:\n",
    "        return False\n",
    "    if num <= 3:\n",
    "        return True\n",
    "    if num % 2 == 0 or num % 3 == 0:\n",
    "        return False\n",
    "    i = 5\n",
    "    while i * i <= num:\n",
    "        if num % i == 0 or num % (i + 2) == 0:\n",
    "            return False\n",
    "        i += 6\n",
    "    return True\n",
    "\n",
    "count = 0\n",
    "number = 2\n",
    "prime_sum = 0\n",
    "\n",
    "while count < 10:\n",
    "    if is_prime(number):\n",
    "        prime_sum += number\n",
    "        count += 1\n",
    "    number += 1\n",
    "\n",
    "print(\"The sum of the first 10 prime numbers is:\", prime_sum)"
   ]
  },
  {
   "cell_type": "markdown",
   "id": "33ed7da1",
   "metadata": {},
   "source": [
    "# 2. Write the python code that calculates the salary of an employee. Prompt the user to enter the Basic Salary, HRA, TA, and DA. Add these components to calculate the Gross Salary. Also, deduct 10% of salary from the Gross Salary to be paid as tax and display gross minus tax as net salary"
   ]
  },
  {
   "cell_type": "code",
   "execution_count": 7,
   "id": "f88a3f64",
   "metadata": {},
   "outputs": [
    {
     "name": "stdout",
     "output_type": "stream",
     "text": [
      "Enter Basic Salary: 30000\n",
      "Enter HRA: 2000\n",
      "Enter TA: 1000\n",
      "Enter DA: 500\n",
      "Basic Salary: 30000.0\n",
      "HRA: 2000.0\n",
      "TA: 1000.0\n",
      "DA: 500.0\n",
      "Gross Salary: 33500.0\n",
      "Tax: 3350.0\n",
      "Net Salary: 30150.0\n"
     ]
    }
   ],
   "source": [
    "basic_salary = float(input(\"Enter Basic Salary: \"))\n",
    "hra = float(input(\"Enter HRA: \"))\n",
    "ta = float(input(\"Enter TA: \"))\n",
    "da = float(input(\"Enter DA: \"))\n",
    "\n",
    "\n",
    "gross_salary = basic_salary + hra + ta + da\n",
    "\n",
    "tax = 0.1 * gross_salary\n",
    "net_salary = gross_salary - tax\n",
    "\n",
    "\n",
    "print(f\"Basic Salary: {basic_salary}\")\n",
    "print(f\"HRA: {hra}\")\n",
    "print(f\"TA: {ta}\")\n",
    "print(f\"DA: {da}\")\n",
    "print(f\"Gross Salary: {gross_salary}\")\n",
    "print(f\"Tax: {tax}\")\n",
    "print(f\"Net Salary: {net_salary}\")\n"
   ]
  },
  {
   "cell_type": "markdown",
   "id": "82213fdf",
   "metadata": {},
   "source": [
    "# 3. Write a python program to search for a string in the given list."
   ]
  },
  {
   "cell_type": "code",
   "execution_count": 9,
   "id": "dc13fc78",
   "metadata": {},
   "outputs": [
    {
     "name": "stdout",
     "output_type": "stream",
     "text": [
      "Enter a string to search for: ganesh\n",
      "'ganesh' was found in the list.\n"
     ]
    }
   ],
   "source": [
    "my_list = [\"ramesh\", \"suresh\", \"ganesh\", \"balaji\", \"kannan\", \"shiva\"]\n",
    "search_string = input(\"Enter a string to search for: \")\n",
    "\n",
    "found = False\n",
    "\n",
    "for item in my_list:\n",
    "    if search_string.lower() == item.lower():\n",
    "        found = True\n",
    "        break\n",
    "\n",
    "# Display the result\n",
    "if found:\n",
    "    print(f\"'{search_string}' was found in the list.\")\n",
    "else:\n",
    "    print(f\"'{search_string}' was not found in the list.\")\n"
   ]
  },
  {
   "cell_type": "markdown",
   "id": "7c5ae4d2",
   "metadata": {},
   "source": [
    "# 4. Write a Python function that accepts a string and calculates the number of upper-case letters and low-case letters\n",
    "\n"
   ]
  },
  {
   "cell_type": "code",
   "execution_count": 10,
   "id": "78fb4391",
   "metadata": {},
   "outputs": [
    {
     "name": "stdout",
     "output_type": "stream",
     "text": [
      "Enter a string: Hello all ,Welcome TO Python Session\n",
      "Uppercase letters: 6\n",
      "Lowercase letters: 24\n"
     ]
    }
   ],
   "source": [
    "def count_case_letters(input_string):\n",
    "    uppercase_count = 0\n",
    "    lowercase_count = 0\n",
    "\n",
    "    \n",
    "    for char in input_string:\n",
    "        if char.isupper():\n",
    "            uppercase_count += 1\n",
    "        elif char.islower():\n",
    "            lowercase_count += 1\n",
    "\n",
    "    return uppercase_count, lowercase_count\n",
    "\n",
    "# Example \n",
    "input_string = input(\"Enter a string: \")\n",
    "uppercase, lowercase = count_case_letters(input_string)\n",
    "\n",
    "print(f\"Uppercase letters: {uppercase}\")\n",
    "print(f\"Lowercase letters: {lowercase}\")\n"
   ]
  },
  {
   "cell_type": "markdown",
   "id": "5db3b32a",
   "metadata": {},
   "source": [
    "# 17.Program to print the pattern"
   ]
  },
  {
   "cell_type": "code",
   "execution_count": 11,
   "id": "b5bc57c2",
   "metadata": {},
   "outputs": [
    {
     "name": "stdout",
     "output_type": "stream",
     "text": [
      "Enter the number of rows: 7\n",
      "1 \n",
      "1 1 \n",
      "1 2 1 \n",
      "1 3 3 1 \n",
      "1 4 6 4 1 \n",
      "1 5 10 10 5 1 \n",
      "1 6 15 20 15 6 1 \n"
     ]
    }
   ],
   "source": [
    "n = int(input(\"Enter the number of rows: \"))\n",
    "\n",
    "def binomial_coefficient(n, k):\n",
    "    if k == 0 or k == n:\n",
    "        return 1\n",
    "    return binomial_coefficient(n - 1, k - 1) + binomial_coefficient(n - 1, k)\n",
    "\n",
    "for i in range(n):\n",
    "    for j in range(i + 1):\n",
    "        print(binomial_coefficient(i, j), end=\" \")\n",
    "    print()"
   ]
  },
  {
   "cell_type": "code",
   "execution_count": 15,
   "id": "11d532e6",
   "metadata": {},
   "outputs": [
    {
     "name": "stdout",
     "output_type": "stream",
     "text": [
      "* \n",
      "* * \n",
      "* * * \n",
      "* * * * \n",
      "* * * * * \n",
      "Enter the number of rows: 6\n",
      "     * \n",
      "    * * \n",
      "   * * * \n",
      "  * * * * \n",
      " * * * * * \n",
      "* * * * * * \n",
      "\n",
      "P\n",
      "Py\n",
      "Pyt\n",
      "Pyth\n",
      "Pytho\n",
      "Python\n",
      "Python program\n"
     ]
    }
   ],
   "source": [
    "get_ipython().run_line_magic('pinfo', '*')\n",
    "\n",
    "n = 5  \n",
    "\n",
    "for i in range(n):\n",
    "    for j in range(i + 1):\n",
    "        print(\"*\", end=\" \")\n",
    "    print()  # Move to the next line after each row\n",
    "\n",
    "\n",
    "3 # Input the number of rows for the pattern\n",
    "n = int(input(\"Enter the number of rows: \"))\n",
    "\n",
    "for i in range(1, n + 1):\n",
    "    print(\" \" * (n - i), end=\"\")  \n",
    "    print(\"* \" * i)  \n",
    "\n",
    "\n",
    "# In[25]:\n",
    "\n",
    "\n",
    "word = \"Python\"\n",
    "for i in range(len(word) + 1):\n",
    "    print(word[:i])\n",
    "print(\"Python program\")"
   ]
  }
 ],
 "metadata": {
  "kernelspec": {
   "display_name": "Python 3 (ipykernel)",
   "language": "python",
   "name": "python3"
  },
  "language_info": {
   "codemirror_mode": {
    "name": "ipython",
    "version": 3
   },
   "file_extension": ".py",
   "mimetype": "text/x-python",
   "name": "python",
   "nbconvert_exporter": "python",
   "pygments_lexer": "ipython3",
   "version": "3.11.4"
  }
 },
 "nbformat": 4,
 "nbformat_minor": 5
}
