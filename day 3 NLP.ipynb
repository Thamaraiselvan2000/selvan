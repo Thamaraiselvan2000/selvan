{
 "cells": [
  {
   "cell_type": "code",
   "execution_count": 3,
   "id": "70b73a32",
   "metadata": {},
   "outputs": [],
   "source": [
    "import warnings\n",
    "warnings.filterwarnings('ignore')\n",
    "\n",
    "from nltk.tokenize import sent_tokenize,word_tokenize\n",
    "import gensim\n",
    "from gensim.models import Word2Vec"
   ]
  },
  {
   "cell_type": "code",
   "execution_count": 4,
   "id": "b90420ef",
   "metadata": {},
   "outputs": [],
   "source": [
    "text=open('word_analogy.txt','r')\n",
    "s=text.read()"
   ]
  },
  {
   "cell_type": "code",
   "execution_count": 5,
   "id": "f4670553",
   "metadata": {},
   "outputs": [],
   "source": [
    "f=s.replace('\\n',\"\")"
   ]
  },
  {
   "cell_type": "code",
   "execution_count": 10,
   "id": "84842291",
   "metadata": {},
   "outputs": [],
   "source": [
    "data=[]"
   ]
  },
  {
   "cell_type": "code",
   "execution_count": 13,
   "id": "fb9b69d4",
   "metadata": {},
   "outputs": [],
   "source": [
    "#Iterate through each sentence in the file\n",
    "\n",
    "for i in sent_tokenize(f):\n",
    "    temp=[]\n",
    "    #tokenize the sentence into words\n",
    "    for j in word_tokenize(i):\n",
    "        temp.append(j.lower())\n",
    "    \n",
    "    data.append(temp)"
   ]
  },
  {
   "cell_type": "code",
   "execution_count": 15,
   "id": "8b60d3ba",
   "metadata": {},
   "outputs": [
    {
     "data": {
      "text/plain": [
       "1250"
      ]
     },
     "execution_count": 15,
     "metadata": {},
     "output_type": "execute_result"
    }
   ],
   "source": [
    "len(data)"
   ]
  },
  {
   "cell_type": "code",
   "execution_count": 16,
   "id": "28ec48bf",
   "metadata": {},
   "outputs": [],
   "source": [
    "model_1=gensim.models.Word2Vec(data,min_count=1,vector_size=100,window=5)"
   ]
  },
  {
   "cell_type": "code",
   "execution_count": 18,
   "id": "26c0176a",
   "metadata": {},
   "outputs": [
    {
     "name": "stdout",
     "output_type": "stream",
     "text": [
      "Cosine similarity b/w \"Alice\" and 'Wonderland' -CBOW: 0.66244185\n"
     ]
    }
   ],
   "source": [
    "print('Cosine similarity b/w \"Alice\" ' + \"and 'Wonderland' -CBOW:\",\n",
    "      model_1.wv.similarity('alice','wonderland'))"
   ]
  },
  {
   "cell_type": "code",
   "execution_count": 19,
   "id": "f53d3dfc",
   "metadata": {},
   "outputs": [
    {
     "data": {
      "text/plain": [
       "0.97328705"
      ]
     },
     "execution_count": 19,
     "metadata": {},
     "output_type": "execute_result"
    }
   ],
   "source": [
    "model_1.wv.similarity('alice','machines')"
   ]
  },
  {
   "cell_type": "code",
   "execution_count": 20,
   "id": "2b025e43",
   "metadata": {},
   "outputs": [
    {
     "data": {
      "text/plain": [
       "[('an', 0.9974814653396606),\n",
       " (':', 0.9973644614219666),\n",
       " ('my', 0.9973480701446533),\n",
       " ('keep', 0.9972900152206421),\n",
       " ('without', 0.9972721934318542),\n",
       " ('these', 0.9972134828567505),\n",
       " ('any', 0.9972115755081177),\n",
       " ('ever', 0.9971397519111633),\n",
       " ('within', 0.9971218109130859),\n",
       " ('tone', 0.9971165657043457)]"
      ]
     },
     "execution_count": 20,
     "metadata": {},
     "output_type": "execute_result"
    }
   ],
   "source": [
    "model_1.wv.similar_by_word('play')"
   ]
  },
  {
   "cell_type": "code",
   "execution_count": 22,
   "id": "d971a42b",
   "metadata": {},
   "outputs": [],
   "source": [
    "model_2=gensim.models.Word2Vec(data,min_count=1,vector_size=100,window=5,sg=1)"
   ]
  },
  {
   "cell_type": "code",
   "execution_count": 23,
   "id": "9bc29cbb",
   "metadata": {},
   "outputs": [
    {
     "name": "stdout",
     "output_type": "stream",
     "text": [
      "Cosine similarity b/w \"Alice\" and 'Wonderland'-CBOW: 0.5351879\n"
     ]
    }
   ],
   "source": [
    "print('Cosine similarity b/w \"Alice\" ' + \"and 'Wonderland'-CBOW:\",\n",
    "      model_2.wv.similarity('alice','wonderland'))"
   ]
  },
  {
   "cell_type": "code",
   "execution_count": 25,
   "id": "20fd1438",
   "metadata": {},
   "outputs": [
    {
     "name": "stdout",
     "output_type": "stream",
     "text": [
      "Cosine similarity b/w \"Alice\" and 'Wonderland' - CBOW: 0.5850189\n"
     ]
    }
   ],
   "source": [
    "model_3=gensim.models.Word2Vec(data,min_count=1,vector_size=100,window=5,sg=2)\n",
    "print('Cosine similarity b/w \"Alice\" ' + \"and 'Wonderland' - CBOW:\",\n",
    "      model_3.wv.similarity('alice','wonderland'))"
   ]
  },
  {
   "cell_type": "code",
   "execution_count": null,
   "id": "6d52f0d0",
   "metadata": {},
   "outputs": [],
   "source": []
  },
  {
   "cell_type": "code",
   "execution_count": null,
   "id": "8533e30b",
   "metadata": {},
   "outputs": [],
   "source": []
  }
 ],
 "metadata": {
  "kernelspec": {
   "display_name": "Python 3 (ipykernel)",
   "language": "python",
   "name": "python3"
  },
  "language_info": {
   "codemirror_mode": {
    "name": "ipython",
    "version": 3
   },
   "file_extension": ".py",
   "mimetype": "text/x-python",
   "name": "python",
   "nbconvert_exporter": "python",
   "pygments_lexer": "ipython3",
   "version": "3.11.4"
  }
 },
 "nbformat": 4,
 "nbformat_minor": 5
}
