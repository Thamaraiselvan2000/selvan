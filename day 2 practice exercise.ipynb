{
 "cells": [
  {
   "cell_type": "markdown",
   "id": "aa2e287c",
   "metadata": {},
   "source": [
    "# 1. Write a python Function to list even and odd numbers in a list."
   ]
  },
  {
   "cell_type": "code",
   "execution_count": 4,
   "id": "eea13f2f",
   "metadata": {},
   "outputs": [
    {
     "name": "stdout",
     "output_type": "stream",
     "text": [
      "Even numbers: [66, 84, 4, 6]\n",
      "Odd numbers: [67, 77, 91, 7]\n"
     ]
    }
   ],
   "source": [
    "def separate_even_odd(numbers):\n",
    "    even_numbers = []\n",
    "    odd_numbers = []\n",
    "\n",
    "    for number in numbers:\n",
    "        if number % 2 == 0:\n",
    "            even_numbers.append(number)\n",
    "        else:\n",
    "            odd_numbers.append(number)\n",
    "\n",
    "    return even_numbers, odd_numbers\n",
    "\n",
    "\n",
    "numbers_list = [66,67,77,84,91,4,6,7]\n",
    "even, odd = separate_even_odd(numbers_list)\n",
    "print(\"Even numbers:\", even)\n",
    "print(\"Odd numbers:\", odd)\n"
   ]
  },
  {
   "cell_type": "markdown",
   "id": "8405c4fe",
   "metadata": {},
   "source": [
    "# 2. Write and run a Python program that asks the user to enter 8 integers (one at a time), and then prints out how many of those Integers were even numbers. For example, if the user entered 19, 6, 9, 20, 13, 7, 6, and 1, then your program should print out 3 since 3 of those numbers were even"
   ]
  },
  {
   "cell_type": "code",
   "execution_count": 7,
   "id": "04bde90e",
   "metadata": {},
   "outputs": [
    {
     "name": "stdout",
     "output_type": "stream",
     "text": [
      "Enter integer 1: 19\n",
      "Enter integer 2: 6\n",
      "Enter integer 3: 9\n",
      "Enter integer 4: 20\n",
      "Enter integer 5: 13\n",
      "Enter integer 6: 7\n",
      "Enter integer 7: 6\n",
      "Enter integer 8: 1\n",
      "Number of even integers entered: 3\n"
     ]
    }
   ],
   "source": [
    "even_count = 0\n",
    "for i in range(8):\n",
    "    try:\n",
    "        user_input = int(input(f\"Enter integer {i + 1}: \"))\n",
    "        if user_input % 2 == 0:\n",
    "            even_count += 1\n",
    "    except ValueError:\n",
    "        print(\"Invalid input. Please enter an integer.\")\n",
    "print(f\"Number of even integers entered: {even_count}\")\n"
   ]
  },
  {
   "cell_type": "markdown",
   "id": "94848911",
   "metadata": {},
   "source": [
    "# 3. Write a Python program where you take any positive integer n, if n is even, divide it by Z to get n /2. If n is odd, multiply it by 3 and add 1 to obtain 3n+ 1. Repeat the process until you reach 1."
   ]
  },
  {
   "cell_type": "code",
   "execution_count": 10,
   "id": "0d359f18",
   "metadata": {},
   "outputs": [
    {
     "name": "stdout",
     "output_type": "stream",
     "text": [
      "Enter a positive integer: 23\n",
      "23 -> 70 -> 35 -> 106 -> 53 -> 160 -> 80 -> 40 -> 20 -> 10 -> 5 -> 16 -> 8 -> 4 -> 2 -> 1\n"
     ]
    }
   ],
   "source": [
    "def collatz_sequence(n):\n",
    "    while n != 1:\n",
    "        print(n, end=\" -> \")\n",
    "        if n % 2 == 0:\n",
    "            n = n // 2\n",
    "        else:\n",
    "            n = 3 * n + 1\n",
    "    print(1)\n",
    "\n",
    "try:\n",
    "    n = int(input(\"Enter a positive integer: \"))\n",
    "    if n <= 0:\n",
    "        print(\"Please enter a  positive integer.\")\n",
    "    else:\n",
    "        collatz_sequence(n)\n",
    "except ValueError:\n",
    "    print(\"Invalid input. Please enter a positive integer.\")\n"
   ]
  },
  {
   "cell_type": "markdown",
   "id": "5ab642fe",
   "metadata": {},
   "source": [
    "# 4. Write a Python program to compute the sum of all the multiples of 3 or 5 below 500."
   ]
  },
  {
   "cell_type": "code",
   "execution_count": 11,
   "id": "bd8c4aae",
   "metadata": {},
   "outputs": [
    {
     "name": "stdout",
     "output_type": "stream",
     "text": [
      "The sum of all multiples of 3 or 5 below 500 is: 57918\n"
     ]
    }
   ],
   "source": [
    "sum_multiples = 0\n",
    "\n",
    "for num in range(1, 500):\n",
    "    if num % 3 == 0 or num % 5 == 0:\n",
    "        sum_multiples += num\n",
    "\n",
    "print(\"The sum of all multiples of 3 or 5 below 500 is:\", sum_multiples)\n"
   ]
  },
  {
   "cell_type": "markdown",
   "id": "eb059a8a",
   "metadata": {},
   "source": [
    "# 5. To write a Python program to find first 'n' prime numbers from a list of given numbers."
   ]
  },
  {
   "cell_type": "code",
   "execution_count": 15,
   "id": "1ce1c397",
   "metadata": {},
   "outputs": [
    {
     "name": "stdout",
     "output_type": "stream",
     "text": [
      "The first 5 prime numbers from the list are: [47, 53, 59, 61, 67]\n"
     ]
    }
   ],
   "source": [
    "def is_prime(num):\n",
    "    if num <= 1:\n",
    "        return False\n",
    "    for i in range(2, int(num**0.5) + 1):\n",
    "        if num % i == 0:\n",
    "            return False\n",
    "    return True\n",
    "\n",
    "def first_n_primes_from_list(numbers, n):\n",
    "    prime_numbers = []\n",
    "    for num in numbers:\n",
    "        if is_prime(num):\n",
    "            prime_numbers.append(num)\n",
    "            if len(prime_numbers) == n:\n",
    "                break\n",
    "    return prime_numbers\n",
    "\n",
    "number_list = [47,50,51,52,52,53,56,57,58,59,60,61,67]\n",
    "n = 5\n",
    "result = first_n_primes_from_list(number_list, n)\n",
    "print(f\"The first {n} prime numbers from the list are: {result}\")\n"
   ]
  },
  {
   "cell_type": "markdown",
   "id": "4deb6d1c",
   "metadata": {},
   "source": [
    "# 6. To write a Python program to compute matrix multiplication."
   ]
  },
  {
   "cell_type": "code",
   "execution_count": 18,
   "id": "e5e365bd",
   "metadata": {},
   "outputs": [
    {
     "name": "stdout",
     "output_type": "stream",
     "text": [
      "[88, 70]\n",
      "[211, 181]\n"
     ]
    }
   ],
   "source": [
    "def matrix_multiply(matrix1, matrix2):\n",
    "    result = [[0 for _ in range(len(matrix2[0]))] for _ in range(len(matrix1))]\n",
    "\n",
    "    for i in range(len(matrix1)):\n",
    "        for j in range(len(matrix2[0])):\n",
    "            for k in range(len(matrix2)):\n",
    "                result[i][j] += matrix1[i][k] * matrix2[k][j]\n",
    "\n",
    "    return result\n",
    "\n",
    "matrix_a = [[3, 2, 1], [6, 5, 4]]\n",
    "matrix_b = [[17, 8], [13, 17], [11, 12]]\n",
    "result_matrix = matrix_multiply(matrix_a, matrix_b)\n",
    "for row in result_matrix:\n",
    "    print(row)\n"
   ]
  },
  {
   "cell_type": "markdown",
   "id": "b68938cd",
   "metadata": {},
   "source": [
    "# 7. Write a python Function to count the number of vowels in a string."
   ]
  },
  {
   "cell_type": "code",
   "execution_count": 19,
   "id": "8f2078a1",
   "metadata": {},
   "outputs": [
    {
     "name": "stdout",
     "output_type": "stream",
     "text": [
      "Number of vowels in the string: 4\n"
     ]
    }
   ],
   "source": [
    "def count_vowels(string):\n",
    "    vowels = \"AEIOUaeiou\"\n",
    "    vowel_count = 0\n",
    "    for char in string:\n",
    "        if char in vowels:\n",
    "            vowel_count += 1\n",
    "    return vowel_count\n",
    "\n",
    "# Example\n",
    "input_string = \"Python Programming\"\n",
    "result = count_vowels(input_string)\n",
    "print(\"Number of vowels in the string:\", result)\n"
   ]
  },
  {
   "cell_type": "markdown",
   "id": "129ac1f5",
   "metadata": {},
   "source": [
    "# 8. Write a python Function for finding factorial for the given number using a recursive function."
   ]
  },
  {
   "cell_type": "code",
   "execution_count": 25,
   "id": "35de9216",
   "metadata": {},
   "outputs": [
    {
     "name": "stdout",
     "output_type": "stream",
     "text": [
      "The factorial of 6 is: 720\n"
     ]
    }
   ],
   "source": [
    "def factorial_recursive(n):\n",
    "    if n == 0:\n",
    "        return 1\n",
    "    else:\n",
    "        return n * factorial_recursive(n - 1)\n",
    "#Example\n",
    "number = 6\n",
    "result = factorial_recursive(number)\n",
    "print(f\"The factorial of {number} is:\",result)\n"
   ]
  },
  {
   "cell_type": "markdown",
   "id": "e0b479ad",
   "metadata": {},
   "source": [
    "# 9. Write a python Function for generating the Fibonacci series using the function."
   ]
  },
  {
   "cell_type": "code",
   "execution_count": 27,
   "id": "d7cda70f",
   "metadata": {},
   "outputs": [
    {
     "name": "stdout",
     "output_type": "stream",
     "text": [
      "Fibonacci Series: [0, 1, 1, 2, 3, 5, 8, 13, 21, 34, 55, 89, 144]\n"
     ]
    }
   ],
   "source": [
    "def fibonacci_recursive(n):\n",
    "    if n <= 0:\n",
    "        return []\n",
    "    elif n == 1:\n",
    "        return [0]\n",
    "    elif n == 2:\n",
    "        return [0, 1]\n",
    "    else:\n",
    "        fib_series = fibonacci_recursive(n - 1)\n",
    "        fib_series.append(fib_series[-1] + fib_series[-2])\n",
    "        return fib_series\n",
    "\n",
    "#Example\n",
    "n = 13 \n",
    "result = fibonacci_recursive(n)\n",
    "print(\"Fibonacci Series:\", result)\n"
   ]
  },
  {
   "cell_type": "markdown",
   "id": "02f676a2",
   "metadata": {},
   "source": [
    "# 10. Python program to display the given integer in reverse order using the function without an in-built function."
   ]
  },
  {
   "cell_type": "code",
   "execution_count": 30,
   "id": "e260560b",
   "metadata": {},
   "outputs": [
    {
     "name": "stdout",
     "output_type": "stream",
     "text": [
      "Reversed Number: 3852\n"
     ]
    }
   ],
   "source": [
    "def reverse_integer(num):\n",
    "    reversed_num = 0\n",
    "\n",
    "    while num > 0:\n",
    "        last_digit = num % 10\n",
    "        reversed_num = reversed_num * 10 + last_digit\n",
    "        num = num // 10\n",
    "\n",
    "    return reversed_num\n",
    "\n",
    "# Example\n",
    "input_number = 2583\n",
    "result = reverse_integer(input_number)\n",
    "print(\"Reversed Number:\", result)\n"
   ]
  },
  {
   "cell_type": "markdown",
   "id": "88ea712a",
   "metadata": {},
   "source": [
    "# 11. Write a Python Function to display all integers within the range 200-300 whose sum of digits is an even number."
   ]
  },
  {
   "cell_type": "code",
   "execution_count": 35,
   "id": "e6d3d206",
   "metadata": {},
   "outputs": [
    {
     "name": "stdout",
     "output_type": "stream",
     "text": [
      "Integers in the range 200-300 with even digit sum:\n",
      "200\n",
      "202\n",
      "204\n",
      "206\n",
      "208\n",
      "211\n",
      "213\n",
      "215\n",
      "217\n",
      "219\n",
      "220\n",
      "222\n",
      "224\n",
      "226\n",
      "228\n",
      "231\n",
      "233\n",
      "235\n",
      "237\n",
      "239\n",
      "240\n",
      "242\n",
      "244\n",
      "246\n",
      "248\n",
      "251\n",
      "253\n",
      "255\n",
      "257\n",
      "259\n",
      "260\n",
      "262\n",
      "264\n",
      "266\n",
      "268\n",
      "271\n",
      "273\n",
      "275\n",
      "277\n",
      "279\n",
      "280\n",
      "282\n",
      "284\n",
      "286\n",
      "288\n",
      "291\n",
      "293\n",
      "295\n",
      "297\n",
      "299\n"
     ]
    }
   ],
   "source": [
    "def sum_of_digits_even(num):\n",
    "    digit_sum = sum(int(digit) for digit in str(num))\n",
    "    return digit_sum % 2 == 0\n",
    "\n",
    "def display_integers_with_even_digit_sum(start, end):\n",
    "    for num in range(start, end + 1):\n",
    "        if is_sum_of_digits_even(num):\n",
    "            print(num)\n",
    "\n",
    "start_range = 200\n",
    "end_range = 300\n",
    "print(f\"Integers in the range {start_range}-{end_range} with even digit sum:\")\n",
    "display_integers_with_even_digit_sum(start_range, end_range)\n"
   ]
  },
  {
   "cell_type": "markdown",
   "id": "5b0a3046",
   "metadata": {},
   "source": [
    "# 12. Write a python Function to find the number of digits and sum of digits for a given integer."
   ]
  },
  {
   "cell_type": "code",
   "execution_count": 37,
   "id": "e016e719",
   "metadata": {},
   "outputs": [
    {
     "name": "stdout",
     "output_type": "stream",
     "text": [
      "Number of digits: 6\n",
      "Sum of digits: 27\n"
     ]
    }
   ],
   "source": [
    "def count_digits_and_sum(num):\n",
    "    digit_count = 0\n",
    "    digit_sum = 0\n",
    "\n",
    "    num = abs(num)\n",
    "    \n",
    "    while num > 0:\n",
    "        digit = num % 10\n",
    "        digit_count += 1\n",
    "        digit_sum += digit\n",
    "        num = num // 10\n",
    "    \n",
    "    return digit_count, digit_sum\n",
    "\n",
    "# Example\n",
    "input_number = 543267\n",
    "count, total = count_digits_and_sum(input_number)\n",
    "print(f\"Number of digits: {count}\")\n",
    "print(f\"Sum of digits: {total}\")\n"
   ]
  },
  {
   "cell_type": "markdown",
   "id": "80ac6c02",
   "metadata": {},
   "source": [
    "# 13. Write functions called is sorted that takes a list as a parameter and returns True if the list is sorted in ascending order and False otherwise and has duplicates that takes a list and returns True if there is any element that appears more than once. It should not modify the original list."
   ]
  },
  {
   "cell_type": "code",
   "execution_count": 48,
   "id": "477c68ce",
   "metadata": {},
   "outputs": [
    {
     "name": "stdout",
     "output_type": "stream",
     "text": [
      "is_sorted for list1: True\n",
      "is_sorted for list2: False\n",
      "has_duplicates for list3: True\n",
      "has_duplicates for list4: False\n"
     ]
    }
   ],
   "source": [
    "def is_sorted(input_list):\n",
    "    return all(input_list[i] <= input_list[i+1] for i in range(len(input_list)-1))\n",
    "\n",
    "def has_duplicates(input_list):\n",
    "    unique_elements = set()\n",
    "\n",
    "    for element in input_list:\n",
    "        if element in unique_elements:\n",
    "            return True\n",
    "        unique_elements.add(element)\n",
    "\n",
    "    return False\n",
    "\n",
    "# Example\n",
    "list1 = [1, 2, 3, 4, 5]\n",
    "list2 = [1,2,5,9,7]\n",
    "list3 = [1, 2, 1, 4, 5]\n",
    "list4= [1, 2, 3,  4]\n",
    "\n",
    "print(\"is_sorted for list1:\", is_sorted(list1))\n",
    "print(\"is_sorted for list2:\", is_sorted(list2))\n",
    "print(\"has_duplicates for list3:\", has_duplicates(list3))\n",
    "print(\"has_duplicates for list4:\", has_duplicates(list4))\n"
   ]
  },
  {
   "cell_type": "markdown",
   "id": "92923d07",
   "metadata": {},
   "source": [
    "# 14. Write functions called nested sum that takes a list of integers and adds up the elements from all the nested lists and cumsum that takes a list of numbers and returns the cumulative sum; that is, a new list where the element is the sum of the first + 1 elements from the original list"
   ]
  },
  {
   "cell_type": "code",
   "execution_count": 49,
   "id": "5abb8f43",
   "metadata": {},
   "outputs": [
    {
     "name": "stdout",
     "output_type": "stream",
     "text": [
      "Nested Sum: 116\n",
      "Cumulative Sum: [1, 3, 6, 10, 15]\n"
     ]
    }
   ],
   "source": [
    "def nested_sum(input_list):\n",
    "    total = 0\n",
    "\n",
    "    for item in input_list:\n",
    "        if isinstance(item, list):\n",
    "            total += nested_sum(item)\n",
    "        else:\n",
    "            total += item\n",
    "\n",
    "    return total\n",
    "\n",
    "def cumsum(input_list):\n",
    "    cum_sum_list = []\n",
    "    current_sum = 0\n",
    "\n",
    "    for num in input_list:\n",
    "        current_sum += num\n",
    "        cum_sum_list.append(current_sum)\n",
    "\n",
    "    return cum_sum_list\n",
    "\n",
    "# Example \n",
    "nested_list = [11, 12, [13,14], [15, [16, 17]], 18]\n",
    "numbers_list = [1, 2, 3, 4, 5]\n",
    "\n",
    "result_nested_sum = nested_sum(nested_list)\n",
    "result_cumsum = cumsum(numbers_list)\n",
    "\n",
    "print(\"Nested Sum:\", result_nested_sum)\n",
    "print(\"Cumulative Sum:\", result_cumsum)\n"
   ]
  }
 ],
 "metadata": {
  "kernelspec": {
   "display_name": "Python 3 (ipykernel)",
   "language": "python",
   "name": "python3"
  },
  "language_info": {
   "codemirror_mode": {
    "name": "ipython",
    "version": 3
   },
   "file_extension": ".py",
   "mimetype": "text/x-python",
   "name": "python",
   "nbconvert_exporter": "python",
   "pygments_lexer": "ipython3",
   "version": "3.11.4"
  }
 },
 "nbformat": 4,
 "nbformat_minor": 5
}
