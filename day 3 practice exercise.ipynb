{
 "cells": [
  {
   "cell_type": "markdown",
   "id": "a2df41b2",
   "metadata": {},
   "source": [
    "# 1. Write a python function that copies a file reading and writing up to 50 characters at a time.\n"
   ]
  },
  {
   "cell_type": "code",
   "execution_count": 6,
   "id": "1a035907",
   "metadata": {},
   "outputs": [
    {
     "name": "stdout",
     "output_type": "stream",
     "text": [
      "File 'source.txt' copied to 'destination1.txt' successfully.\n"
     ]
    }
   ],
   "source": [
    "def copy_file(source_file, destination_file):\n",
    "    try:\n",
    "        with open(source_file, 'rb') as source:\n",
    "            with open(destination_file, 'wb') as destination:\n",
    "                while True:\n",
    "                    data = source.read(50)\n",
    "                    if not data:\n",
    "                        break\n",
    "                    destination.write(data)\n",
    "        print(f\"File '{source_file}' copied to '{destination_file}' successfully.\")\n",
    "    except FileNotFoundError:\n",
    "        print(\"Source file not found.\")\n",
    "    except Exception as e:\n",
    "        print(f\"An error occurred: {str(e)}\")\n",
    "\n",
    "# Example\n",
    "source_file = 'source.txt'  \n",
    "destination_file = 'destination1.txt' \n",
    "\n",
    "copy_file(source_file, destination_file)\n"
   ]
  },
  {
   "cell_type": "markdown",
   "id": "b9dead2e",
   "metadata": {},
   "source": [
    "# 2. Print all numbers present in the text file and print the number of blank spaces in that file"
   ]
  },
  {
   "cell_type": "code",
   "execution_count": 31,
   "id": "6e0cde53",
   "metadata": {},
   "outputs": [
    {
     "name": "stdout",
     "output_type": "stream",
     "text": [
      "Numbers in the file: []\n",
      "Number of blank spaces in the file: 0\n"
     ]
    }
   ],
   "source": [
    "def extract_numbers_and_count_spaces(file_path):\n",
    "    numbers = []\n",
    "    space_count = 0\n",
    "\n",
    "    try:\n",
    "        with open(file_path, 'r') as file:\n",
    "            for line in file:\n",
    "                for word in line.split():\n",
    "                    # Check if the word is a number\n",
    "                    if word.isdigit():\n",
    "                        numbers.append(int(word))\n",
    "                    # Count blank spaces\n",
    "                    space_count += word.count(' ')\n",
    "\n",
    "        print(\"Numbers in the file:\", numbers)\n",
    "        print(\"Number of blank spaces in the file:\", space_count)\n",
    "    except FileNotFoundError:\n",
    "        print(\"File not found.\")\n",
    "    except Exception as e:\n",
    "        print(f\"An error occurred: {str(e)}\")\n",
    "\n",
    "# Example\n",
    "file_path = 'source.txt'  \n",
    "\n",
    "extract_numbers_and_count_spaces(file_path)\n"
   ]
  },
  {
   "cell_type": "markdown",
   "id": "5bd099ee",
   "metadata": {},
   "source": [
    "# 3. Write a function called sed that takes as arguments a pattern string, a replacement string. and two filenames; it should read the first file and write the contents into the second file (creating it if necessary). If the pattern string appears anywhere in the file, it should be replaced with the replacement string. If an error occurs while opening, reading, writing. or closing files, your program should catch the exception, print an error message, and exit.\n"
   ]
  },
  {
   "cell_type": "code",
   "execution_count": 32,
   "id": "52a495b8",
   "metadata": {},
   "outputs": [
    {
     "name": "stdout",
     "output_type": "stream",
     "text": [
      "Pattern 'old_string' replaced with 'new_string' in 'source.txt' and saved as 'output.txt' successfully.\n"
     ]
    }
   ],
   "source": [
    "def sed(pattern, replacement, input_file, output_file):\n",
    "    try:\n",
    "        # Open the input file for reading\n",
    "        with open(input_file, 'r') as infile:\n",
    "            # Read the content of the input file\n",
    "            content = infile.read()\n",
    "\n",
    "        # Perform the pattern replacement\n",
    "        modified_content = content.replace(pattern, replacement)\n",
    "\n",
    "        # Open the output file for writing\n",
    "        with open(output_file, 'w') as outfile:\n",
    "            # Write the modified content to the output file\n",
    "            outfile.write(modified_content)\n",
    "\n",
    "        print(f\"Pattern '{pattern}' replaced with '{replacement}' in '{input_file}' \"\n",
    "              f\"and saved as '{output_file}' successfully.\")\n",
    "    except FileNotFoundError:\n",
    "        print(f\"Input file '{input_file}' not found.\")\n",
    "    except Exception as e:\n",
    "        print(f\"An error occurred: {str(e)}\")\n",
    "\n",
    "# Example usage:\n",
    "pattern = 'old_string'  # Replace with the pattern you want to replace\n",
    "replacement = 'new_string'  # Replace with the replacement string\n",
    "input_file = 'source.txt'  # Replace with the path to your input file\n",
    "output_file = 'output.txt'  # Replace with the path to your output file\n",
    "\n",
    "sed(pattern, replacement, input_file, output_file)\n"
   ]
  },
  {
   "cell_type": "markdown",
   "id": "32a698cc",
   "metadata": {},
   "source": [
    "# 5. Text File Search and Replace: You have a text file with a large amount of text, and you want to search for specific words or phrases and replace them with new content.\n",
    "\n",
    "a. Write Python code to search for and replace text within a text file.\n",
    "\n",
    "b. How would you handle cases where you need to perform multiple replacements in a single pass?"
   ]
  },
  {
   "cell_type": "code",
   "execution_count": 1,
   "id": "540ab863",
   "metadata": {},
   "outputs": [
    {
     "name": "stdout",
     "output_type": "stream",
     "text": [
      "Replaced 'Python' with 'Java' in 'source.txt' successfully.\n"
     ]
    }
   ],
   "source": [
    "def search_and_replace(file_path, search_text, replace_text):\n",
    "    try:\n",
    "        with open(file_path, 'r') as file:\n",
    "            file_content = file.read()\n",
    "\n",
    "        # Perform the replacement\n",
    "        updated_content = file_content.replace(search_text, replace_text)\n",
    "\n",
    "        with open(file_path, 'w') as file:\n",
    "            file.write(updated_content)\n",
    "\n",
    "        print(f\"Replaced '{search_text}' with '{replace_text}' in '{file_path}' successfully.\")\n",
    "    except FileNotFoundError:\n",
    "        print(\"File not found.\")\n",
    "    except Exception as e:\n",
    "        print(f\"An error occurred: {str(e)}\")\n",
    "\n",
    "# Example usage:\n",
    "file_path = 'source.txt'  # Replace with the path to your text file\n",
    "search_text = 'Python'  # Replace with the text you want to search for\n",
    "replace_text = 'Java'  # Replace with the text you want to replace with\n",
    "\n",
    "search_and_replace(file_path, search_text, replace_text)\n"
   ]
  },
  {
   "cell_type": "code",
   "execution_count": 2,
   "id": "ed08b0d4",
   "metadata": {},
   "outputs": [
    {
     "name": "stdout",
     "output_type": "stream",
     "text": [
      "Multiple replacements completed successfully.\n"
     ]
    }
   ],
   "source": [
    "def multiple_search_and_replace(file_path, replacements):\n",
    "    try:\n",
    "        with open(file_path, 'r') as file:\n",
    "            file_content = file.read()\n",
    "\n",
    "        # Perform multiple replacements\n",
    "        for search_text, replace_text in replacements.items():\n",
    "            file_content = file_content.replace(search_text, replace_text)\n",
    "\n",
    "        with open(file_path, 'w') as file:\n",
    "            file.write(file_content)\n",
    "\n",
    "        print(\"Multiple replacements completed successfully.\")\n",
    "    except FileNotFoundError:\n",
    "        print(\"File not found.\")\n",
    "    except Exception as e:\n",
    "        print(f\"An error occurred: {str(e)}\")\n",
    "\n",
    "# Example usage:\n",
    "file_path = 'source.txt'  # Replace with the path to your text file\n",
    "replacements = {\n",
    "    'high-level': 'low-level',  # Add more search and replace pairs as needed\n",
    "    'multiple': 'single',\n",
    "}\n",
    "\n",
    "multiple_search_and_replace(file_path, replacements)\n"
   ]
  },
  {
   "cell_type": "markdown",
   "id": "0ac0bb13",
   "metadata": {},
   "source": [
    "# 6. Write a Python script that concatenates the contents of multiple text files into a single output file. Allow the user to specify the input files and the output file"
   ]
  },
  {
   "cell_type": "code",
   "execution_count": 7,
   "id": "0997b07c",
   "metadata": {},
   "outputs": [
    {
     "name": "stdout",
     "output_type": "stream",
     "text": [
      "Concatenated 2 copies of 'source.txt' into 'destination.txt' successfully.\n"
     ]
    }
   ],
   "source": [
    "def concatenate_files(input_file, num_copies, output_file):\n",
    "    try:\n",
    "        with open(output_file, 'w') as output:\n",
    "            for _ in range(num_copies):\n",
    "                with open(input_file, 'r') as file:\n",
    "                    output.write(file.read())\n",
    "                    output.write(\"\\n\")  \n",
    "\n",
    "        print(f\"Concatenated {num_copies} copies of '{input_file}' into '{output_file}' successfully.\")\n",
    "    except FileNotFoundError:\n",
    "        print(f\"Input file '{input_file}' not found.\")\n",
    "    except Exception as e:\n",
    "        print(f\"An error occurred: {str(e)}\")\n",
    "\n",
    "\n",
    "input_file = 'source.txt'\n",
    "num_copies=2\n",
    "output_file = 'destination.txt'\n",
    "concatenate_files(input_file, num_copies, output_file)\n"
   ]
  },
  {
   "cell_type": "markdown",
   "id": "094bc564",
   "metadata": {},
   "source": [
    "# 7. You are given a text file named input.txt containing a list of words, one word per line. Your task is to create a Python program that reads the contents of input.txt, processes the words, and writes the result to an output file named output.txt.\n",
    "\n",
    "a. The program should perform the following operations: i. Read the words from input.txt.\n",
    "\n",
    "ii. For each word in the input file, calculate the length of the word and store it in a dictionary where the word is the key, and the length is the value.\n",
    "\n",
    "iii. Write the word-length dictionary to output.txt in the following format:\n",
    "\n",
    "Word1: Length1 Word2: Length2\n",
    "\n",
    "iv. Close both input and output files properly. v. Write Python code to accomplish this task. Ensure proper error handling for file operations.\n",
    "\n",
    "Sample Input(\"input.txt\")\n",
    "\n",
    "apple\n",
    "\n",
    "banana\n",
    "\n",
    "cherry\n",
    "\n",
    "date\n",
    "\n",
    "Sample Output(\"output.txt')\n",
    "\n",
    "apple: 5 banana: 6\n",
    "\n",
    "cherry: 6"
   ]
  },
  {
   "cell_type": "code",
   "execution_count": 8,
   "id": "ef9d9d0b",
   "metadata": {},
   "outputs": [
    {
     "name": "stdout",
     "output_type": "stream",
     "text": [
      "Processed 1 words from 'source.txt' and saved results in 'output1.txt' successfully.\n"
     ]
    }
   ],
   "source": [
    "def process_word_lengths(input_file, output_file):\n",
    "    try:\n",
    "    \n",
    "        with open(input_file, 'r') as infile:\n",
    "            words = infile.read().splitlines()\n",
    "\n",
    "        word_lengths = {word: len(word) for word in words}\n",
    "\n",
    "        \n",
    "        with open(output_file, 'w') as outfile:\n",
    "            for word, length in word_lengths.items():\n",
    "                outfile.write(f\"{word}: {length}\\n\")\n",
    "\n",
    "        print(f\"Processed {len(words)} words from '{input_file}' and saved results in '{output_file}' successfully.\")\n",
    "    except FileNotFoundError:\n",
    "        print(\"Input file not found.\")\n",
    "    except Exception as e:\n",
    "        print(f\"An error occurred: {str(e)}\")\n",
    "\n",
    "# Example\n",
    "input_file = 'source.txt'  \n",
    "output_file = 'output1.txt'  \n",
    "\n",
    "process_word_lengths(input_file, output_file)\n"
   ]
  },
  {
   "cell_type": "markdown",
   "id": "691134c5",
   "metadata": {},
   "source": [
    "# 8. Assume that you are developing a student gradebook system for a school. The system should allow teachers to input student grades for various subjects, store the data in files, and provide students with the ability to view their grades. Design a Python program that accomplishes the following tasks:\n",
    "\n",
    "i. Teachers should be able to input grades for students in different subjects. ii. Store the student grade data in separate text files for each subject.\n",
    "\n",
    "iii. Students should be able to view their grades for each subject.\n",
    "\n",
    "iv. Implement error handling for file operations, such as file not found or\n",
    "\n",
    "permission issues."
   ]
  },
  {
   "cell_type": "code",
   "execution_count": 12,
   "id": "5f292859",
   "metadata": {},
   "outputs": [
    {
     "name": "stdout",
     "output_type": "stream",
     "text": [
      "\n",
      "Student Gradebook System\n",
      "1. Teacher: Input Grades\n",
      "2. Student: View Grades\n",
      "3. Quit\n",
      "Enter your choice: 3\n",
      "Thank you for using the Student Gradebook System!\n"
     ]
    }
   ],
   "source": [
    "import os\n",
    "\n",
    "def input_grades(subject):\n",
    "    try:\n",
    "        grades = {}\n",
    "        while True:\n",
    "            student_name = input(\"Enter student name (or 'done' to finish): \")\n",
    "            if student_name.lower() == 'done':\n",
    "                break\n",
    "            grade = float(input(f\"Enter {student_name}'s grade for {subject}: \"))\n",
    "            grades[student_name] = grade\n",
    "\n",
    "        with open(f\"{subject}.txt\", 'w') as file:\n",
    "            for student, grade in grades.items():\n",
    "                file.write(f\"{student}: {grade}\\n\")\n",
    "\n",
    "        print(f\"Grades for {subject} saved successfully.\")\n",
    "    except Exception as e:\n",
    "        print(f\"An error occurred: {str(e)}\")\n",
    "\n",
    "def view_grades(subject):\n",
    "    try:\n",
    "        with open(f\"{subject}.txt\", 'r') as file:\n",
    "            grades = file.read()\n",
    "        print(f\"Grades for {subject}:\\n{grades}\")\n",
    "    except FileNotFoundError:\n",
    "        print(f\"Grades for {subject} not found.\")\n",
    "    except Exception as e:\n",
    "        print(f\"An error occurred: {str(e)}\")\n",
    "\n",
    "2\n",
    "while True:\n",
    "    print(\"\\nStudent Gradebook System\")\n",
    "    print(\"1. Teacher: Input Grades\")\n",
    "    print(\"2. Student: View Grades\")\n",
    "    print(\"3. Quit\")\n",
    "    choice = input(\"Enter your choice: \")\n",
    "\n",
    "    if choice == '1':\n",
    "        subject = input(\"Enter the subject name: \")\n",
    "        input_grades(subject)\n",
    "    elif choice == '2':\n",
    "        subject = input(\"Enter the subject name: \")\n",
    "        view_grades(subject)\n",
    "    elif choice == '3':\n",
    "        break\n",
    "    else:\n",
    "        print(\"Invalid choice. Please try again.\")\n",
    "\n",
    "print(\"Thank you for using the Student Gradebook System!\")\n"
   ]
  },
  {
   "cell_type": "markdown",
   "id": "7ae0cfe6",
   "metadata": {},
   "source": [
    "# 4. Log File Analysis: You have a log file containing records of user activities on a website. Each line in the file represents a log entry with details like timestamp, user ID, and action performed. Your task is to analyze this log file.\n",
    "\n",
    "a. Write Python code to read the log file and extract specific information, such as the number of unique users or the most common action.\n",
    "\n",
    "b. How would you handle large log files efficiently without loading the entire file into memory?\n"
   ]
  },
  {
   "cell_type": "code",
   "execution_count": 4,
   "id": "80a531b6",
   "metadata": {},
   "outputs": [
    {
     "name": "stdout",
     "output_type": "stream",
     "text": [
      "Number of unique users: 1\n",
      "Most common action:  branch=c5558820f367665758d4d719b7553a02ff4954e0 (count: 3)\n"
     ]
    }
   ],
   "source": [
    "from collections import Counter\n",
    "unique_users = set()\n",
    "action_count = Counter()\n",
    "log_file_path = 'log.txt'\n",
    "try:\n",
    "    with open(log_file_path, 'r') as log_file:\n",
    "        for line in log_file:\n",
    "            parts = line.strip().split(',')\n",
    "            if len(parts) == 3:\n",
    "                timestamp, user_id, action = parts\n",
    "                unique_users.add(user_id)\n",
    "                action_count[action] += 1\n",
    "\n",
    "    print(f\"Number of unique users: {len(unique_users)}\")\n",
    "    most_common_action, most_common_count = action_count.most_common(1)[0]\n",
    "    print(f\"Most common action: {most_common_action} (count: {most_common_count})\")\n",
    "\n",
    "except FileNotFoundError:\n",
    "    print(f\"log.txt '{log_file_path}' not found.\")\n",
    "except Exception as e:\n",
    "    print(f\"Error: {str(e)}\")"
   ]
  }
 ],
 "metadata": {
  "kernelspec": {
   "display_name": "Python 3 (ipykernel)",
   "language": "python",
   "name": "python3"
  },
  "language_info": {
   "codemirror_mode": {
    "name": "ipython",
    "version": 3
   },
   "file_extension": ".py",
   "mimetype": "text/x-python",
   "name": "python",
   "nbconvert_exporter": "python",
   "pygments_lexer": "ipython3",
   "version": "3.11.4"
  }
 },
 "nbformat": 4,
 "nbformat_minor": 5
}
