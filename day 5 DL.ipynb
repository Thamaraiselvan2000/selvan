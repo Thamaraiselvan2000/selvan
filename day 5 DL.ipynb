{
 "cells": [
  {
   "cell_type": "code",
   "execution_count": 14,
   "id": "a7abaf89",
   "metadata": {},
   "outputs": [],
   "source": [
    "import keras \n",
    "from keras.models import Sequential \n",
    "from keras.layers import Dense,Dropout,Flatten \n",
    "from keras.layers import Conv2D,MaxPool2D \n",
    "from keras import backend as k"
   ]
  },
  {
   "cell_type": "code",
   "execution_count": 15,
   "id": "9b589de7",
   "metadata": {},
   "outputs": [],
   "source": [
    "batch_size=128\n",
    "num_classes=10\n",
    "epochs=12"
   ]
  },
  {
   "cell_type": "code",
   "execution_count": 16,
   "id": "a0db39a5",
   "metadata": {},
   "outputs": [],
   "source": [
    "#input image dimensions \n",
    "img_rows,img_cols=28,28"
   ]
  },
  {
   "cell_type": "code",
   "execution_count": 18,
   "id": "23c5eab5",
   "metadata": {},
   "outputs": [],
   "source": [
    "#Load mnist dataset from keras\n",
    "from keras.datasets import mnist\n",
    "\n",
    "#download mnist data and split into train & test set\n",
    "\n",
    "(xtrain, ytrain), (xtest, ytest)=mnist.load_data()"
   ]
  },
  {
   "cell_type": "code",
   "execution_count": 19,
   "id": "628ec371",
   "metadata": {},
   "outputs": [
    {
     "name": "stdout",
     "output_type": "stream",
     "text": [
      "Training set images shape: (60000, 28, 28)\n",
      "Training set labels shape: (60000,)\n",
      "Test set images shape: (10000, 28, 28)\n",
      "Test set labels shape: (10000,)\n"
     ]
    }
   ],
   "source": [
    "print('Training set images shape: {}'.format(xtrain.shape)) \n",
    "print('Training set labels shape: {}'.format(ytrain.shape))\n",
    "\n",
    "print('Test set images shape: {}'.format(xtest.shape))\n",
    "print('Test set labels shape: {}'.format(ytest.shape))"
   ]
  },
  {
   "cell_type": "code",
   "execution_count": 23,
   "id": "00c73441",
   "metadata": {},
   "outputs": [
    {
     "data": {
      "text/plain": [
       "<matplotlib.image.AxesImage at 0x25beab129d0>"
      ]
     },
     "execution_count": 23,
     "metadata": {},
     "output_type": "execute_result"
    },
    {
     "data": {
      "image/png": "[encoded data removed]",
      "text/plain": [
       "<Figure size 640x480 with 1 Axes>"
      ]
     },
     "metadata": {},
     "output_type": "display_data"
    }
   ],
   "source": [
    "import matplotlib.pyplot as plt\n",
    "plt.imshow(xtrain[4])"
   ]
  },
  {
   "cell_type": "code",
   "execution_count": 24,
   "id": "53eee2e1",
   "metadata": {},
   "outputs": [
    {
     "data": {
      "text/plain": [
       "(28, 28)"
      ]
     },
     "execution_count": 24,
     "metadata": {},
     "output_type": "execute_result"
    }
   ],
   "source": [
    "xtrain[0].shape"
   ]
  },
  {
   "cell_type": "code",
   "execution_count": 25,
   "id": "8b275158",
   "metadata": {},
   "outputs": [
    {
     "name": "stdout",
     "output_type": "stream",
     "text": [
      "(60000, 28, 28, 1)\n",
      "(10000, 28, 28, 1)\n"
     ]
    }
   ],
   "source": [
    "#reshape data to fit model\n",
    "\n",
    "xtrain=xtrain.reshape(xtrain.shape[0],img_rows,img_cols,1)\n",
    "xtest=xtest.reshape(xtest.shape[0],img_rows,img_cols,1)\n",
    "\n",
    "print(xtrain.shape)\n",
    "print(xtest.shape)"
   ]
  },
  {
   "cell_type": "code",
   "execution_count": 26,
   "id": "b20d5d69",
   "metadata": {},
   "outputs": [],
   "source": [
    "xtrain=xtrain.astype('float32')\n",
    "xtest=xtest.astype('float32')"
   ]
  },
  {
   "cell_type": "code",
   "execution_count": 27,
   "id": "66e564ef",
   "metadata": {},
   "outputs": [],
   "source": [
    "xtrain/=255\n",
    "xtest/=255"
   ]
  },
  {
   "cell_type": "code",
   "execution_count": 28,
   "id": "83083564",
   "metadata": {},
   "outputs": [
    {
     "name": "stdout",
     "output_type": "stream",
     "text": [
      "xtrain shape: (60000, 28, 28, 1)\n",
      "60000 train samples\n",
      "10000 test samples\n"
     ]
    }
   ],
   "source": [
    "print('xtrain shape:',xtrain.shape)\n",
    "print(xtrain.shape[0], 'train samples')\n",
    "print(xtest.shape[0],'test samples')"
   ]
  },
  {
   "cell_type": "code",
   "execution_count": 30,
   "id": "ac6af9a1",
   "metadata": {},
   "outputs": [],
   "source": [
    "#Convert class vectors to binary class matrices\n",
    "\n",
    "ytrain=keras.utils.to_categorical(ytrain)\n",
    "ytest=keras.utils.to_categorical(ytest)"
   ]
  },
  {
   "cell_type": "code",
   "execution_count": 43,
   "id": "dfaac231",
   "metadata": {},
   "outputs": [
    {
     "data": {
      "text/plain": [
       "array([0., 0., 0., 0., 0., 1., 0., 0., 0., 0.], dtype=float32)"
      ]
     },
     "execution_count": 43,
     "metadata": {},
     "output_type": "execute_result"
    }
   ],
   "source": [
    "ytrain[0]"
   ]
  },
  {
   "cell_type": "code",
   "execution_count": 37,
   "id": "e75c8882",
   "metadata": {},
   "outputs": [
    {
     "name": "stdout",
     "output_type": "stream",
     "text": [
      "Model: \"sequential_8\"\n",
      "_________________________________________________________________\n",
      " Layer (type)                Output Shape              Param #   \n",
      "=================================================================\n",
      " conv2d_11 (Conv2D)          (None, 26, 26, 64)        640       \n",
      "                                                                 \n",
      " dropout_1 (Dropout)         (None, 26, 26, 64)        0         \n",
      "                                                                 \n",
      " conv2d_12 (Conv2D)          (None, 24, 24, 32)        18464     \n",
      "                                                                 \n",
      " max_pooling2d_9 (MaxPoolin  (None, 12, 12, 32)        0         \n",
      " g2D)                                                            \n",
      "                                                                 \n",
      " flatten_3 (Flatten)         (None, 4608)              0         \n",
      "                                                                 \n",
      " dense_6 (Dense)             (None, 10)                46090     \n",
      "                                                                 \n",
      "=================================================================\n",
      "Total params: 65194 (254.66 KB)\n",
      "Trainable params: 65194 (254.66 KB)\n",
      "Non-trainable params: 0 (0.00 Byte)\n",
      "_________________________________________________________________\n"
     ]
    }
   ],
   "source": [
    "model=Sequential()\n",
    "\n",
    "#add model Layers\n",
    "model.add(Conv2D(64, kernel_size=3,activation='relu',input_shape=(28,28,1)))\n",
    "model.add(Dropout (0.2))\n",
    "model.add(Conv2D(32, kernel_size=3,activation='relu'))\n",
    "model.add(MaxPool2D(pool_size=(2,2)))\n",
    "model.add(Flatten())\n",
    "\n",
    "#output Layer \n",
    "model.add(Dense(10, activation='softmax'))\n",
    "\n",
    "model.summary()"
   ]
  },
  {
   "cell_type": "code",
   "execution_count": 40,
   "id": "073769e0",
   "metadata": {},
   "outputs": [],
   "source": [
    "#compile\n",
    "model.compile(optimizer=keras.optimizers.Adam(),loss=keras.losses.categorical_crossentropy,metrics=['accuracy'])"
   ]
  },
  {
   "cell_type": "code",
   "execution_count": 42,
   "id": "f6de2b54",
   "metadata": {},
   "outputs": [
    {
     "name": "stdout",
     "output_type": "stream",
     "text": [
      "Epoch 1/5\n",
      "469/469 [==============================] - 102s 216ms/step - loss: 0.2429 - accuracy: 0.9284 - val_loss: 0.0741 - val_accuracy: 0.9772\n",
      "Epoch 2/5\n",
      "469/469 [==============================] - 109s 233ms/step - loss: 0.0726 - accuracy: 0.9780 - val_loss: 0.0515 - val_accuracy: 0.9840\n",
      "Epoch 3/5\n",
      "469/469 [==============================] - 101s 216ms/step - loss: 0.0523 - accuracy: 0.9841 - val_loss: 0.0435 - val_accuracy: 0.9852\n",
      "Epoch 4/5\n",
      "469/469 [==============================] - 95s 203ms/step - loss: 0.0415 - accuracy: 0.9873 - val_loss: 0.0399 - val_accuracy: 0.9859\n",
      "Epoch 5/5\n",
      "469/469 [==============================] - 96s 204ms/step - loss: 0.0343 - accuracy: 0.9891 - val_loss: 0.0445 - val_accuracy: 0.9859\n"
     ]
    }
   ],
   "source": [
    "result=model.fit(xtrain,ytrain,batch_size=batch_size,epochs=5,verbose=1,validation_data=(xtest,ytest))"
   ]
  },
  {
   "cell_type": "code",
   "execution_count": 44,
   "id": "88e34a6c",
   "metadata": {},
   "outputs": [
    {
     "name": "stdout",
     "output_type": "stream",
     "text": [
      "Test Loss: 0.044517409056425095\n",
      "\n",
      "Test Accuracy: 0.9858999848365784\n"
     ]
    }
   ],
   "source": [
    "score=model.evaluate(xtest,ytest, verbose=0)\n",
    "print('Test Loss:',score[0])\n",
    "print()\n",
    "print('Test Accuracy:',score[1])"
   ]
  },
  {
   "cell_type": "code",
   "execution_count": 45,
   "id": "586eb48e",
   "metadata": {},
   "outputs": [
    {
     "data": {
      "text/plain": [
       "dict_keys(['loss', 'accuracy', 'val_loss', 'val_accuracy'])"
      ]
     },
     "execution_count": 45,
     "metadata": {},
     "output_type": "execute_result"
    }
   ],
   "source": [
    "result.history.keys()"
   ]
  },
  {
   "cell_type": "code",
   "execution_count": 51,
   "id": "bd890451",
   "metadata": {},
   "outputs": [
    {
     "data": {
      "text/plain": [
       "<matplotlib.legend.Legend at 0x25be84dc410>"
      ]
     },
     "execution_count": 51,
     "metadata": {},
     "output_type": "execute_result"
    },
    {
     "data": {
      "image/png": "[encoded data removed]",
      "text/plain": [
       "<Figure size 1600x500 with 2 Axes>"
      ]
     },
     "metadata": {},
     "output_type": "display_data"
    }
   ],
   "source": [
    "import matplotlib.pyplot as plt\n",
    "fig,(ax1,ax2)=plt.subplots(nrows=1,ncols=2,figsize=(16,5))\n",
    "\n",
    "#plot training & validation accuracy values\n",
    "\n",
    "ax1.plot(result.history['accuracy']) \n",
    "ax1.plot(result.history['val_accuracy'])\n",
    "\n",
    "ax1.set_title('Model Performance') \n",
    "ax1.set_ylabel('accuracy') \n",
    "ax1.set_xlabel('Epochs') \n",
    "ax1.legend(['Train', 'Test'])\n",
    "\n",
    "#plot training & validation Loss values\n",
    "\n",
    "ax2.plot(result.history['loss']) \n",
    "ax2.plot(result.history['val_loss'])\n",
    "\n",
    "ax2.set_title('Model Loss') \n",
    "ax2.set_ylabel('Loss')\n",
    "ax2.set_xlabel('Epochs') \n",
    "ax2.legend(['Train','Test'])"
   ]
  },
  {
   "cell_type": "code",
   "execution_count": 52,
   "id": "3a8fb5fe",
   "metadata": {},
   "outputs": [
    {
     "name": "stdout",
     "output_type": "stream",
     "text": [
      "1/1 [==============================] - 0s 90ms/step\n"
     ]
    },
    {
     "data": {
      "text/plain": [
       "array([[3.6746305e-12, 3.1078291e-12, 5.2365188e-08, 9.2220725e-06,\n",
       "        1.1333683e-13, 5.7481225e-11, 2.7083577e-18, 9.9999082e-01,\n",
       "        3.5593386e-09, 2.5402937e-08],\n",
       "       [3.0119132e-09, 1.6074404e-07, 9.9999714e-01, 7.4014417e-09,\n",
       "        8.0504586e-14, 7.9063645e-11, 2.7215083e-06, 7.4916299e-13,\n",
       "        4.1899806e-08, 5.5288885e-11],\n",
       "       [1.7864887e-06, 9.9965072e-01, 4.2142990e-05, 6.6066377e-07,\n",
       "        1.1042690e-04, 2.8693878e-06, 2.8256673e-06, 9.6275471e-05,\n",
       "        9.2195827e-05, 2.0455987e-07],\n",
       "       [9.9725795e-01, 7.6480058e-09, 1.4735803e-04, 8.6360587e-06,\n",
       "        1.5179387e-08, 6.6887624e-05, 2.3828263e-03, 2.3531425e-06,\n",
       "        4.5606330e-06, 1.2941044e-04]], dtype=float32)"
      ]
     },
     "execution_count": 52,
     "metadata": {},
     "output_type": "execute_result"
    }
   ],
   "source": [
    "ypred=model.predict(xtest[:4])\n",
    "ypred"
   ]
  },
  {
   "cell_type": "code",
   "execution_count": 53,
   "id": "f2e0d71f",
   "metadata": {},
   "outputs": [
    {
     "name": "stdout",
     "output_type": "stream",
     "text": [
      "Model: \"sequential_9\"\n",
      "_________________________________________________________________\n",
      " Layer (type)                Output Shape              Param #   \n",
      "=================================================================\n",
      " conv2d_13 (Conv2D)          (None, 30, 30, 32)        896       \n",
      "                                                                 \n",
      " max_pooling2d_10 (MaxPooli  (None, 15, 15, 32)        0         \n",
      " ng2D)                                                           \n",
      "                                                                 \n",
      " conv2d_14 (Conv2D)          (None, 13, 13, 64)        18496     \n",
      "                                                                 \n",
      " max_pooling2d_11 (MaxPooli  (None, 6, 6, 64)          0         \n",
      " ng2D)                                                           \n",
      "                                                                 \n",
      " conv2d_15 (Conv2D)          (None, 4, 4, 128)         73856     \n",
      "                                                                 \n",
      " max_pooling2d_12 (MaxPooli  (None, 2, 2, 128)         0         \n",
      " ng2D)                                                           \n",
      "                                                                 \n",
      " flatten_4 (Flatten)         (None, 512)               0         \n",
      "                                                                 \n",
      " dense_7 (Dense)             (None, 128)               65664     \n",
      "                                                                 \n",
      " dense_8 (Dense)             (None, 1)                 129       \n",
      "                                                                 \n",
      "=================================================================\n",
      "Total params: 159041 (621.25 KB)\n",
      "Trainable params: 159041 (621.25 KB)\n",
      "Non-trainable params: 0 (0.00 Byte)\n",
      "_________________________________________________________________\n"
     ]
    }
   ],
   "source": [
    "import tensorflow as tf\n",
    "from tensorflow.keras import layers, models\n",
    "\n",
    "# Assume you have binary classification data with shape (image_height, image_width, channels)\n",
    "# Adjust the input shape accordingly\n",
    "\n",
    "model_binary = models.Sequential()\n",
    "\n",
    "model_binary.add(layers.Conv2D(32, (3, 3), activation='relu', input_shape=(32,32,3)))\n",
    "model_binary.add(layers.MaxPooling2D((2, 2)))\n",
    "\n",
    "model_binary.add(layers.Conv2D(64, (3, 3), activation='relu'))\n",
    "model_binary.add(layers.MaxPooling2D((2, 2)))\n",
    "\n",
    "model_binary.add(layers.Conv2D(128, (3, 3), activation='relu'))\n",
    "model_binary.add(layers.MaxPooling2D((2, 2)))\n",
    "\n",
    "model_binary.add(layers.Flatten())\n",
    "model_binary.add(layers.Dense(128, activation='relu'))\n",
    "model_binary.add(layers.Dense(1, activation='sigmoid'))\n",
    "\n",
    "# Compile the model\n",
    "model_binary.compile(optimizer='adam',\n",
    "              loss='binary_crossentropy',\n",
    "              metrics=['accuracy'])\n",
    "\n",
    "# Print the model summary\n",
    "model_binary.summary()"
   ]
  },
  {
   "cell_type": "code",
   "execution_count": 54,
   "id": "b569d705",
   "metadata": {},
   "outputs": [
    {
     "name": "stdout",
     "output_type": "stream",
     "text": [
      "Model: \"sequential_10\"\n",
      "_________________________________________________________________\n",
      " Layer (type)                Output Shape              Param #   \n",
      "=================================================================\n",
      " conv2d_16 (Conv2D)          (None, 30, 30, 32)        896       \n",
      "                                                                 \n",
      " max_pooling2d_13 (MaxPooli  (None, 15, 15, 32)        0         \n",
      " ng2D)                                                           \n",
      "                                                                 \n",
      " conv2d_17 (Conv2D)          (None, 13, 13, 64)        18496     \n",
      "                                                                 \n",
      " max_pooling2d_14 (MaxPooli  (None, 6, 6, 64)          0         \n",
      " ng2D)                                                           \n",
      "                                                                 \n",
      " conv2d_18 (Conv2D)          (None, 4, 4, 128)         73856     \n",
      "                                                                 \n",
      " max_pooling2d_15 (MaxPooli  (None, 2, 2, 128)         0         \n",
      " ng2D)                                                           \n",
      "                                                                 \n",
      " flatten_5 (Flatten)         (None, 512)               0         \n",
      "                                                                 \n",
      " dense_9 (Dense)             (None, 64)                32832     \n",
      "                                                                 \n",
      " dense_10 (Dense)            (None, 10)                650       \n",
      "                                                                 \n",
      "=================================================================\n",
      "Total params: 126730 (495.04 KB)\n",
      "Trainable params: 126730 (495.04 KB)\n",
      "Non-trainable params: 0 (0.00 Byte)\n",
      "_________________________________________________________________\n"
     ]
    }
   ],
   "source": [
    "from tensorflow.keras.datasets import cifar10\n",
    "from tensorflow.keras.utils import to_categorical\n",
    "\n",
    "# Load and preprocess the CIFAR-10 dataset\n",
    "(train_images, train_labels), (test_images, test_labels) = cifar10.load_data()\n",
    "train_images, test_images = train_images / 255.0, test_images / 255.0\n",
    "train_labels = to_categorical(train_labels)\n",
    "test_labels = to_categorical(test_labels)\n",
    "\n",
    "model_multiclass = models.Sequential()\n",
    "\n",
    "model_multiclass.add(layers.Conv2D(32, (3, 3), activation='relu', input_shape=(32, 32, 3)))\n",
    "model_multiclass.add(layers.MaxPooling2D((2, 2)))\n",
    "\n",
    "model_multiclass.add(layers.Conv2D(64, (3, 3), activation='relu'))\n",
    "model_multiclass.add(layers.MaxPooling2D((2, 2)))\n",
    "\n",
    "model_multiclass.add(layers.Conv2D(128, (3, 3), activation='relu'))\n",
    "model_multiclass.add(layers.MaxPooling2D((2, 2)))\n",
    "\n",
    "model_multiclass.add(layers.Flatten())\n",
    "model_multiclass.add(layers.Dense(64, activation='relu'))\n",
    "model_multiclass.add(layers.Dense(10, activation='softmax'))  # 10 classes in CIFAR-10\n",
    "\n",
    "# Compile the model\n",
    "model_multiclass.compile(optimizer='adam',\n",
    "                         loss='categorical_crossentropy',\n",
    "                         metrics=['accuracy'])\n",
    "\n",
    "# Print the model summary\n",
    "model_multiclass.summary()\n"
   ]
  },
  {
   "cell_type": "code",
   "execution_count": null,
   "id": "8147c906",
   "metadata": {},
   "outputs": [],
   "source": []
  }
 ],
 "metadata": {
  "kernelspec": {
   "display_name": "Python 3 (ipykernel)",
   "language": "python",
   "name": "python3"
  },
  "language_info": {
   "codemirror_mode": {
    "name": "ipython",
    "version": 3
   },
   "file_extension": ".py",
   "mimetype": "text/x-python",
   "name": "python",
   "nbconvert_exporter": "python",
   "pygments_lexer": "ipython3",
   "version": "3.11.4"
  }
 },
 "nbformat": 4,
 "nbformat_minor": 5
}
