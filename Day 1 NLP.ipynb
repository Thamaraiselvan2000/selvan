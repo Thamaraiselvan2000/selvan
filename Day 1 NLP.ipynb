{
 "cells": [
  {
   "cell_type": "code",
   "execution_count": 22,
   "id": "1634eae9",
   "metadata": {},
   "outputs": [
    {
     "name": "stderr",
     "output_type": "stream",
     "text": [
      "[nltk_data] Downloading package punkt to\n",
      "[nltk_data]     C:\\Users\\thama\\AppData\\Roaming\\nltk_data...\n",
      "[nltk_data]   Package punkt is already up-to-date!\n"
     ]
    },
    {
     "data": {
      "text/plain": [
       "True"
      ]
     },
     "execution_count": 22,
     "metadata": {},
     "output_type": "execute_result"
    }
   ],
   "source": [
    "import nltk\n",
    "nltk.download('punkt')"
   ]
  },
  {
   "cell_type": "code",
   "execution_count": 1,
   "id": "a1c4380f",
   "metadata": {},
   "outputs": [
    {
     "name": "stdout",
     "output_type": "stream",
     "text": [
      "original text:\n",
      "====================================================================================================\n",
      "Hello Mr. John, Hope you are doing good.\n",
      "By the way I have a plan to visit to your house in the next week of the month\n",
      "====================================================================================================\n",
      "\n",
      "After Sentence Tokenization:\n",
      " ['Hello Mr. John, Hope you are doing good.', 'By the way I have a plan to visit to your house in the next week of the month']\n",
      "====================================================================================================\n",
      "No.of Sentences: \t 2\n"
     ]
    }
   ],
   "source": [
    "from nltk.tokenize import sent_tokenize\n",
    "\n",
    "text=\"\"\"Hello Mr. John, Hope you are doing good.\n",
    "By the way I have a plan to visit to your house in the next week of the month\"\"\"\n",
    "\n",
    "print('original text:')\n",
    "print('='*100)\n",
    "print(text)\n",
    "print('='*100)\n",
    "print()\n",
    "tokenised_sent=sent_tokenize(text)\n",
    "print('After Sentence Tokenization:\\n', tokenised_sent)\n",
    "print('='*100)\n",
    "print('No.of Sentences: \\t',len(tokenised_sent))"
   ]
  },
  {
   "cell_type": "code",
   "execution_count": 2,
   "id": "ef1f3326",
   "metadata": {},
   "outputs": [
    {
     "name": "stdout",
     "output_type": "stream",
     "text": [
      "original text:\n",
      "====================================================================================================\n",
      "Hello Mr. John, Hope you are doing good.\n",
      "By the way I have a plan to visit to your house in the next week of the month\n",
      "====================================================================================================\n",
      "\n",
      "After word Tokenization:\n",
      " ['Hello', 'Mr.', 'John', ',', 'Hope', 'you', 'are', 'doing', 'good', '.', 'By', 'the', 'way', 'I', 'have', 'a', 'plan', 'to', 'visit', 'to', 'your', 'house', 'in', 'the', 'next', 'week', 'of', 'the', 'month']\n",
      "====================================================================================================\n",
      "No.of word: \t 29\n",
      "====================================================================================================\n",
      "word: Hello & length: 5\n",
      "word: Mr. & length: 3\n",
      "word: John & length: 4\n",
      "word: , & length: 1\n",
      "word: Hope & length: 4\n",
      "word: you & length: 3\n",
      "word: are & length: 3\n",
      "word: doing & length: 5\n",
      "word: good & length: 4\n",
      "word: . & length: 1\n",
      "word: By & length: 2\n",
      "word: the & length: 3\n",
      "word: way & length: 3\n",
      "word: I & length: 1\n",
      "word: have & length: 4\n",
      "word: a & length: 1\n",
      "word: plan & length: 4\n",
      "word: to & length: 2\n",
      "word: visit & length: 5\n",
      "word: to & length: 2\n",
      "word: your & length: 4\n",
      "word: house & length: 5\n",
      "word: in & length: 2\n",
      "word: the & length: 3\n",
      "word: next & length: 4\n",
      "word: week & length: 4\n",
      "word: of & length: 2\n",
      "word: the & length: 3\n",
      "word: month & length: 5\n"
     ]
    }
   ],
   "source": [
    "from nltk.tokenize import word_tokenize\n",
    "\n",
    "text=\"\"\"Hello Mr. John, Hope you are doing good.\n",
    "By the way I have a plan to visit to your house in the next week of the month\"\"\"\n",
    "\n",
    "print('original text:')\n",
    "print('='*100)\n",
    "print(text)\n",
    "print('='*100)\n",
    "print()\n",
    "tokenised_word=word_tokenize(text)\n",
    "print('After word Tokenization:\\n', tokenised_word)\n",
    "print('='*100)\n",
    "print('No.of word: \\t',len(tokenised_word))\n",
    "print('='*100)\n",
    "\n",
    "for i in tokenised_word:\n",
    "    print('word:',i,'&','length:',len(i))\n"
   ]
  },
  {
   "cell_type": "code",
   "execution_count": 19,
   "id": "f418f4f9",
   "metadata": {},
   "outputs": [
    {
     "name": "stderr",
     "output_type": "stream",
     "text": [
      "[nltk_data] Downloading package stopwords to\n",
      "[nltk_data]     C:\\Users\\thama\\AppData\\Roaming\\nltk_data...\n",
      "[nltk_data]   Unzipping corpora\\stopwords.zip.\n"
     ]
    },
    {
     "data": {
      "text/plain": [
       "True"
      ]
     },
     "execution_count": 19,
     "metadata": {},
     "output_type": "execute_result"
    }
   ],
   "source": [
    "nltk.download('stopwords')"
   ]
  },
  {
   "cell_type": "code",
   "execution_count": 3,
   "id": "b2692a7d",
   "metadata": {},
   "outputs": [
    {
     "name": "stdout",
     "output_type": "stream",
     "text": [
      "Total No.of Stopwords:\t 179\n",
      "====================================================================================================\n",
      "The Stop words are:\n",
      "\n",
      "{'been', \"you've\", \"she's\", 'can', 'ma', 're', 's', 'ain', 'to', 'wouldn', 'below', 'is', 'will', 'have', 'them', 'are', 'had', 'where', 'no', 'whom', 'again', 'weren', 'won', 'very', 'some', 'be', 'me', 'll', 'itself', 'haven', 'that', 'theirs', 'at', 'under', \"don't\", 'too', 'during', 'when', 'he', \"haven't\", 'yours', 'him', 'being', 'between', 'its', 'off', 'your', 'did', 'of', 'hasn', 'don', 'not', 'then', 'and', \"mightn't\", 'into', 'they', 'than', 't', 'from', 'mightn', 'most', 'didn', 'but', 'there', 'doesn', 'am', 've', 'after', \"hasn't\", 'she', 'd', 'here', \"didn't\", 'hadn', 'isn', 'does', 'myself', 'has', 'ourselves', 'how', \"hadn't\", 'ours', \"needn't\", 'because', 'were', 'as', 'yourself', 'what', 'was', 'down', 'before', 'herself', 'any', 'm', 'the', 'himself', \"you're\", 'about', 'with', \"doesn't\", 'other', 'it', 'shouldn', \"shouldn't\", \"couldn't\", 'themselves', 'y', 'all', 'this', 'we', \"that'll\", 'nor', 'her', 'having', 'by', 'why', 'i', \"should've\", 'which', 'such', 'mustn', 'if', \"shan't\", 'once', 'couldn', \"you'll\", 'my', 'same', 'do', 'a', 'wasn', 'until', 'in', 'these', 'out', \"mustn't\", \"it's\", \"aren't\", 'while', 'their', 'so', 'against', \"you'd\", 'up', 'now', 'hers', 'over', \"wouldn't\", 'few', 'own', 'yourselves', 'who', 'more', 'only', 'further', \"wasn't\", 'on', 'those', \"weren't\", 'both', \"won't\", 'o', \"isn't\", 'doing', 'through', 'his', 'an', 'or', 'each', 'shan', 'above', 'for', 'should', 'aren', 'needn', 'our', 'just', 'you'}\n"
     ]
    }
   ],
   "source": [
    "from nltk.corpus import stopwords\n",
    "stop_words=set(stopwords.words('english'))\n",
    "\n",
    "print('Total No.of Stopwords:\\t',len(stop_words))\n",
    "print('='*100)\n",
    "print('The Stop words are:\\n')\n",
    "print(stop_words)\n"
   ]
  },
  {
   "cell_type": "code",
   "execution_count": 4,
   "id": "114593ac",
   "metadata": {},
   "outputs": [
    {
     "name": "stdout",
     "output_type": "stream",
     "text": [
      "Length of words: \t 29\n",
      "====================================================================================================\n",
      "Tokenized words-with stopwords: \n",
      "\n",
      "\t ['Hello', 'Mr.', 'John', ',', 'Hope', 'you', 'are', 'doing', 'good', '.', 'By', 'the', 'way', 'I', 'have', 'a', 'plan', 'to', 'visit', 'to', 'your', 'house', 'in', 'the', 'next', 'week', 'of', 'the', 'month']\n",
      "====================================================================================================\n",
      "Length after Remove stopwords: \t 16\n",
      "====================================================================================================\n",
      "\n",
      " After Removing stopwords- words are: \n",
      "\t ['Hello', 'Mr.', 'John', ',', 'Hope', 'good', '.', 'By', 'way', 'I', 'plan', 'visit', 'house', 'next', 'week', 'month']\n"
     ]
    }
   ],
   "source": [
    "filtered_tokens=[]\n",
    "\n",
    "for w in tokenised_word:\n",
    "    if w not in stop_words:\n",
    "        filtered_tokens.append(w)\n",
    "\n",
    "print('Length of words: \\t',len(tokenised_word))\n",
    "print('='*100)\n",
    "print('Tokenized words-with stopwords: \\n\\n\\t', tokenised_word)\n",
    "print('='*100)\n",
    "print('Length after Remove stopwords: \\t',len(filtered_tokens))\n",
    "print('='*100)\n",
    "print('\\n After Removing stopwords- words are: \\n\\t', filtered_tokens)"
   ]
  },
  {
   "cell_type": "code",
   "execution_count": 6,
   "id": "70329ab1",
   "metadata": {},
   "outputs": [
    {
     "name": "stdout",
     "output_type": "stream",
     "text": [
      "<class 'nltk.probability.FreqDist'>\n",
      "<FreqDist with 26 samples and 29 outcomes>\n"
     ]
    }
   ],
   "source": [
    "from nltk.probability import FreqDist\n",
    "freq_dist=FreqDist(tokenised_word)\n",
    "print(type(freq_dist))\n",
    "print(freq_dist)"
   ]
  },
  {
   "cell_type": "code",
   "execution_count": 7,
   "id": "2af901e1",
   "metadata": {},
   "outputs": [
    {
     "data": {
      "text/plain": [
       "[('the', 3),\n",
       " ('to', 2),\n",
       " ('Hello', 1),\n",
       " ('Mr.', 1),\n",
       " ('John', 1),\n",
       " (',', 1),\n",
       " ('Hope', 1),\n",
       " ('you', 1),\n",
       " ('are', 1),\n",
       " ('doing', 1),\n",
       " ('good', 1),\n",
       " ('.', 1),\n",
       " ('By', 1),\n",
       " ('way', 1),\n",
       " ('I', 1),\n",
       " ('have', 1),\n",
       " ('a', 1),\n",
       " ('plan', 1),\n",
       " ('visit', 1),\n",
       " ('your', 1),\n",
       " ('house', 1),\n",
       " ('in', 1),\n",
       " ('next', 1),\n",
       " ('week', 1),\n",
       " ('of', 1),\n",
       " ('month', 1)]"
      ]
     },
     "execution_count": 7,
     "metadata": {},
     "output_type": "execute_result"
    }
   ],
   "source": [
    "freq_dist.most_common()"
   ]
  },
  {
   "cell_type": "code",
   "execution_count": 8,
   "id": "35c166a2",
   "metadata": {},
   "outputs": [
    {
     "data": {
      "image/png": "[encoded data removed]",
      "text/plain": [
       "<Figure size 640x480 with 1 Axes>"
      ]
     },
     "metadata": {},
     "output_type": "display_data"
    }
   ],
   "source": [
    "import matplotlib.pyplot as plt\n",
    "freq_dist.plot(27,cumulative=False)\n",
    "plt.show()"
   ]
  },
  {
   "cell_type": "code",
   "execution_count": 10,
   "id": "a648ea9a",
   "metadata": {},
   "outputs": [
    {
     "name": "stdout",
     "output_type": "stream",
     "text": [
      "Length of words: \t 16\n",
      "----------------------------------------------------------------------------------------------------\n",
      "Filtered words: \n",
      "\n",
      "\t ['Hello', 'Mr.', 'John', ',', 'Hope', 'good', '.', 'By', 'way', 'I', 'plan', 'visit', 'house', 'next', 'week', 'month']\n",
      "====================================================================================================\n",
      "Length after Stemmer: \t 16\n",
      "----------------------------------------------------------------------------------------------------\n",
      "\n",
      " After Stemming- words are:\n",
      "\t ['hello', 'mr.', 'john', ',', 'hope', 'good', '.', 'by', 'way', 'i', 'plan', 'visit', 'hous', 'next', 'week', 'month']\n"
     ]
    }
   ],
   "source": [
    "from nltk.stem import PorterStemmer\n",
    "\n",
    "ps=PorterStemmer()\n",
    "\n",
    "stemmed_words=[]\n",
    "\n",
    "for w in filtered_tokens:\n",
    "    stemmed_words.append(ps.stem(w))\n",
    "print('Length of words: \\t', len (filtered_tokens))\n",
    "print('-'*100)\n",
    "print('Filtered words: \\n\\n\\t', filtered_tokens)\n",
    "print('='*100)\n",
    "print('Length after Stemmer: \\t',len(stemmed_words))\n",
    "print('-'*100)\n",
    "print('\\n After Stemming- words are:\\n\\t',stemmed_words)"
   ]
  },
  {
   "cell_type": "code",
   "execution_count": 23,
   "id": "0947056b",
   "metadata": {},
   "outputs": [
    {
     "name": "stderr",
     "output_type": "stream",
     "text": [
      "[nltk_data] Downloading package wordnet to\n",
      "[nltk_data]     C:\\Users\\thama\\AppData\\Roaming\\nltk_data...\n"
     ]
    },
    {
     "data": {
      "text/plain": [
       "True"
      ]
     },
     "execution_count": 23,
     "metadata": {},
     "output_type": "execute_result"
    }
   ],
   "source": [
    "import nltk\n",
    "nltk.download('wordnet')"
   ]
  },
  {
   "cell_type": "code",
   "execution_count": 27,
   "id": "d4f6ae50",
   "metadata": {},
   "outputs": [
    {
     "name": "stdout",
     "output_type": "stream",
     "text": [
      "Enter a sentences: \n",
      "\n",
      "\tThis is a cat\n",
      "====================================================================================================\n",
      "Tokens of word: \n",
      " ['This', 'is', 'a', 'cat']\n",
      "Length: \t 4\n",
      "****************************************************************************************************\n",
      "----------------------------------------------------------------------------------------------------\n",
      "Original text: \n",
      " This is a cat\n",
      "====================================================================================================\n",
      "Lemmatized words: \n",
      " ['This', 'be', 'a', 'cat']\n"
     ]
    }
   ],
   "source": [
    "from nltk.stem import WordNetLemmatizer\n",
    "\n",
    "#Initialize the wordnet Lemmatizer\n",
    "lemma=WordNetLemmatizer()\n",
    "\n",
    "#prompt to take input string\n",
    "text=input('Enter a sentences: \\n\\n\\t')\n",
    "\n",
    "#split as word tokens\n",
    "\n",
    "words=word_tokenize(text)\n",
    "\n",
    "print('='*100)\n",
    "print('Tokens of word: \\n', words)\n",
    "print('Length: \\t',len(words))\n",
    "print('*'*100)\n",
    "\n",
    "#Apply Lemmatization to each word\n",
    "\n",
    "lemma_words=[lemma.lemmatize(word, pos='v') for word in words ]\n",
    "print('-'*100)\n",
    "print('Original text: \\n',text)\n",
    "print('='*100)\n",
    "print('Lemmatized words: \\n',lemma_words)"
   ]
  },
  {
   "cell_type": "code",
   "execution_count": 28,
   "id": "597ab8e3",
   "metadata": {},
   "outputs": [
    {
     "name": "stderr",
     "output_type": "stream",
     "text": [
      "[nltk_data] Downloading package averaged_perceptron_tagger to\n",
      "[nltk_data]     C:\\Users\\thama\\AppData\\Roaming\\nltk_data...\n",
      "[nltk_data]   Unzipping taggers\\averaged_perceptron_tagger.zip.\n"
     ]
    },
    {
     "data": {
      "text/plain": [
       "True"
      ]
     },
     "execution_count": 28,
     "metadata": {},
     "output_type": "execute_result"
    }
   ],
   "source": [
    "nltk.download('averaged_perceptron_tagger')"
   ]
  },
  {
   "cell_type": "code",
   "execution_count": 33,
   "id": "e3daea13",
   "metadata": {},
   "outputs": [
    {
     "name": "stdout",
     "output_type": "stream",
     "text": [
      "Enter a sentences: \n",
      "\n",
      "\tHello Rohit,Hope you are doing good,I have a plan  to visit your house in the next week\n",
      "====================================================================================================\n",
      "Tokens of word: \n",
      " ['Hello', 'Rohit', ',', 'Hope', 'you', 'are', 'doing', 'good', ',', 'I', 'have', 'a', 'plan', 'to', 'visit', 'your', 'house', 'in', 'the', 'next', 'week']\n",
      "Length: \t 21\n",
      "****************************************************************************************************\n",
      "----------------------------------------------------------------------------------------------------\n",
      "Original text: \n",
      " Hello Rohit,Hope you are doing good,I have a plan  to visit your house in the next week\n",
      "====================================================================================================\n",
      "----------------------------------------\n",
      "POS Tagging ('Hello', 'NNP')\n",
      "----------------------------------------\n",
      "----------------------------------------\n",
      "POS Tagging ('Rohit', 'NNP')\n",
      "----------------------------------------\n",
      "----------------------------------------\n",
      "POS Tagging (',', ',')\n",
      "----------------------------------------\n",
      "----------------------------------------\n",
      "POS Tagging ('Hope', 'NNP')\n",
      "----------------------------------------\n",
      "----------------------------------------\n",
      "POS Tagging ('you', 'PRP')\n",
      "----------------------------------------\n",
      "----------------------------------------\n",
      "POS Tagging ('are', 'VBP')\n",
      "----------------------------------------\n",
      "----------------------------------------\n",
      "POS Tagging ('doing', 'VBG')\n",
      "----------------------------------------\n",
      "----------------------------------------\n",
      "POS Tagging ('good', 'JJ')\n",
      "----------------------------------------\n",
      "----------------------------------------\n",
      "POS Tagging (',', ',')\n",
      "----------------------------------------\n",
      "----------------------------------------\n",
      "POS Tagging ('I', 'PRP')\n",
      "----------------------------------------\n",
      "----------------------------------------\n",
      "POS Tagging ('have', 'VBP')\n",
      "----------------------------------------\n",
      "----------------------------------------\n",
      "POS Tagging ('a', 'DT')\n",
      "----------------------------------------\n",
      "----------------------------------------\n",
      "POS Tagging ('plan', 'NN')\n",
      "----------------------------------------\n",
      "----------------------------------------\n",
      "POS Tagging ('to', 'TO')\n",
      "----------------------------------------\n",
      "----------------------------------------\n",
      "POS Tagging ('visit', 'VB')\n",
      "----------------------------------------\n",
      "----------------------------------------\n",
      "POS Tagging ('your', 'PRP$')\n",
      "----------------------------------------\n",
      "----------------------------------------\n",
      "POS Tagging ('house', 'NN')\n",
      "----------------------------------------\n",
      "----------------------------------------\n",
      "POS Tagging ('in', 'IN')\n",
      "----------------------------------------\n",
      "----------------------------------------\n",
      "POS Tagging ('the', 'DT')\n",
      "----------------------------------------\n",
      "----------------------------------------\n",
      "POS Tagging ('next', 'JJ')\n",
      "----------------------------------------\n",
      "----------------------------------------\n",
      "POS Tagging ('week', 'NN')\n",
      "----------------------------------------\n"
     ]
    }
   ],
   "source": [
    "import nltk \n",
    "from nltk import pos_tag\n",
    "\n",
    "#prompt to take input string\n",
    "text=input('Enter a sentences: \\n\\n\\t')\n",
    "\n",
    "#split as word tokens\n",
    "\n",
    "words=word_tokenize (text)\n",
    "\n",
    "print('='*100)\n",
    "print('Tokens of word: \\n', words)\n",
    "print('Length: \\t',len(words))\n",
    "print('*'*100)\n",
    "\n",
    "#Apply POS tag to each word\n",
    "\n",
    "pos_tags=pos_tag(words)\n",
    "print('-'*100)\n",
    "print('Original text: \\n', text)\n",
    "print('='*100)\n",
    "\n",
    "for w in pos_tags:\n",
    "    print('-'*40)\n",
    "    print('POS Tagging',w)\n",
    "    print('-'*40)\n",
    "\n",
    "#print(\"POS Tags:\\n',pos_tags)"
   ]
  },
  {
   "cell_type": "code",
   "execution_count": 36,
   "id": "2c442f6e",
   "metadata": {},
   "outputs": [
    {
     "name": "stdout",
     "output_type": "stream",
     "text": [
      "Enter a sentences: \n",
      "\n",
      "\tHello Rohit,Hope you are doing good,I have a plan  to visit your house in the next week\n",
      "====================================================================================================\n",
      "Length: \t 21\n",
      "Tokens of word: \n",
      " ['Hello', 'Rohit', ',', 'Hope', 'you', 'are', 'doing', 'good', ',', 'I', 'have', 'a', 'plan', 'to', 'visit', 'your', 'house', 'in', 'the', 'next', 'week']\n",
      "****************************************************************************************************\n",
      "----------------------------------------------------------------------------------------------------\n",
      "Original text:\n",
      " Hello Rohit,Hope you are doing good,I have a plan  to visit your house in the next week\n",
      "====================================================================================================\n",
      "After Removing Punctuation:\n",
      "\n",
      "['Hello', 'Rohit', 'Hope', 'you', 'are', 'doing', 'good', 'I', 'have', 'a', 'plan', 'to', 'visit', 'your', 'house', 'in', 'the', 'next', 'week'] 19\n"
     ]
    }
   ],
   "source": [
    "import nltk\n",
    "from nltk import pos_tag\n",
    "\n",
    "#prompt to take input string\n",
    "\n",
    "text=input('Enter a sentences: \\n\\n\\t')\n",
    "#split as word tokens\n",
    "\n",
    "tokens=word_tokenize(text)\n",
    "\n",
    "print('='*100)\n",
    "print('Length: \\t',len(tokens))\n",
    "print('Tokens of word: \\n', tokens)\n",
    "print('*'*100)\n",
    "\n",
    "#Remove all tokens that are not alphabetic\n",
    "\n",
    "words=[word for word in tokens if word.isalpha()]\n",
    "\n",
    "print('-'*100)\n",
    "print('Original text:\\n', text)\n",
    "print('='*100)\n",
    "\n",
    "print('After Removing Punctuation:\\n')\n",
    "print(words,len(words))"
   ]
  },
  {
   "cell_type": "code",
   "execution_count": 38,
   "id": "900037c8",
   "metadata": {},
   "outputs": [
    {
     "name": "stdout",
     "output_type": "stream",
     "text": [
      "Text paragraph please:\n",
      "\n",
      "\tAlice was not a bit hurt, and she jumped up on to her feet in a moment: she looked up, but it was all dark overhead; before her was another long passage, and the White Rabbit was still in sight, hurrying down it. There was not a moment to be lost: away went Alice like the wind, and was just in time to hear it say, as it turned a corner, ‘Oh my ears and whiskers, how late it’s getting!’ She was close behind it when she turned the corner, but the Rabbit was no longer to be seen: she found herself in a long, low hall, which was lit up by a row of lamps hanging from the roof.\n",
      "Sentences as tokens:\n",
      "Alice was not a bit hurt, and she jumped up on to her feet in a moment: she looked up, but it was all dark overhead; before her was another long passage, and the White Rabbit was still in sight, hurrying down it.\n",
      "There was not a moment to be lost: away went Alice like the wind, and was just in time to hear it say, as it turned a corner, ‘Oh my ears and whiskers, how late it’s getting!’ She was close behind it when she turned the corner, but the Rabbit was no longer to be seen: she found herself in a long, low hall, which was lit up by a row of lamps hanging from the roof.\n",
      "Feature names: \n",
      " ['alice' 'all' 'and' 'another' 'as' 'away' 'be' 'before' 'behind' 'bit'\n",
      " 'but' 'by' 'close' 'corner' 'dark' 'down' 'ears' 'feet' 'found' 'from'\n",
      " 'getting' 'hall' 'hanging' 'hear' 'her' 'herself' 'how' 'hurrying' 'hurt'\n",
      " 'in' 'it' 'jumped' 'just' 'lamps' 'late' 'like' 'lit' 'long' 'longer'\n",
      " 'looked' 'lost' 'low' 'moment' 'my' 'no' 'not' 'of' 'oh' 'on' 'overhead'\n",
      " 'passage' 'rabbit' 'roof' 'row' 'say' 'seen' 'she' 'sight' 'still' 'the'\n",
      " 'there' 'time' 'to' 'turned' 'up' 'was' 'went' 'when' 'which' 'whiskers'\n",
      " 'white' 'wind']\n",
      "====================================================================================================\n",
      "Token Counts Matrix:\n",
      "[[1 1 2 1 0 0 0 1 0 1 1 0 0 0 1 1 0 1 0 0 0 0 0 0 2 0 0 1 1 2 2 1 0 0 0 0\n",
      "  0 1 0 1 0 0 1 0 0 1 0 0 1 1 1 1 0 0 0 0 2 1 1 1 0 0 1 0 2 4 0 0 0 0 1 0]\n",
      " [1 0 2 0 1 1 2 0 1 0 1 1 1 2 0 0 1 0 1 1 1 1 1 1 0 1 1 0 0 2 4 0 1 1 1 1\n",
      "  1 1 1 0 1 1 1 1 1 1 1 1 0 0 0 1 1 1 1 1 3 0 0 4 1 1 3 2 1 5 1 1 1 1 0 1]]\n"
     ]
    }
   ],
   "source": [
    "import numpy as np\n",
    "from sklearn.feature_extraction.text import CountVectorizer\n",
    "\n",
    "documents=input('Text paragraph please:\\n\\n\\t')\n",
    "\n",
    "sent_tokens=sent_tokenize(documents)\n",
    "print('Sentences as tokens:')\n",
    "\n",
    "for sent in sent_tokens:\n",
    "    print(sent)\n",
    "\n",
    "#Initialize countvectorizer\n",
    "vector=CountVectorizer()\n",
    "\n",
    "#Fit and transform the documents\n",
    "x=vector.fit_transform(sent_tokens)\n",
    "\n",
    "#get the feature names (words)\n",
    "\n",
    "feature_names=vector.get_feature_names_out()\n",
    "\n",
    "#Display the matrix of token counts\n",
    "\n",
    "print('Feature names: \\n', feature_names)\n",
    "print('='*100)\n",
    "print('Token Counts Matrix:')\n",
    "print(x.toarray())"
   ]
  },
  {
   "cell_type": "code",
   "execution_count": null,
   "id": "fce24eeb",
   "metadata": {},
   "outputs": [],
   "source": []
  }
 ],
 "metadata": {
  "kernelspec": {
   "display_name": "Python 3 (ipykernel)",
   "language": "python",
   "name": "python3"
  },
  "language_info": {
   "codemirror_mode": {
    "name": "ipython",
    "version": 3
   },
   "file_extension": ".py",
   "mimetype": "text/x-python",
   "name": "python",
   "nbconvert_exporter": "python",
   "pygments_lexer": "ipython3",
   "version": "3.11.4"
  }
 },
 "nbformat": 4,
 "nbformat_minor": 5
}
