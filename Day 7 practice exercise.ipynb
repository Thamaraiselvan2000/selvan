{
 "cells": [
  {
   "cell_type": "code",
   "execution_count": 8,
   "id": "5ccb8f3d",
   "metadata": {},
   "outputs": [
    {
     "name": "stdout",
     "output_type": "stream",
     "text": [
      "Enter No. of elements to be inserted:\t6\n",
      "Enter the Element 1:23\n",
      "Enter the Element 2:43\n",
      "Enter the Element 3:54\n",
      "Enter the Element 4:75\n",
      "Enter the Element 5:64\n",
      "Enter the Element 6:90\n",
      "Enter the value to be searched: \t75\n",
      "Element 75 Found at Position 4\n",
      "[23, 43, 54, 75, 64, 90]\n"
     ]
    }
   ],
   "source": [
    "data=[]\n",
    "n=int(input('Enter No. of elements to be inserted:\\t'))\n",
    "for i in range(0,n):\n",
    "    x=int(input('Enter the Element %d:'%(i+1)))\n",
    "    data.append(x)\n",
    "    \n",
    "e=int(input('Enter the value to be searched: \\t'))\n",
    "pos=0\n",
    "found=False\n",
    "while pos <n and not found:\n",
    "    if data[pos]==e:\n",
    "        found=True\n",
    "    else:\n",
    "        pos+=1\n",
    "        \n",
    "if found:\n",
    "    print('Element %d Found at Position %d'%(e,pos+1))\n",
    "    \n",
    "else:\n",
    "    print('Element %d not found in the list'%e)\n",
    "    \n",
    "print(data)"
   ]
  },
  {
   "cell_type": "code",
   "execution_count": 14,
   "id": "d68358f3",
   "metadata": {},
   "outputs": [
    {
     "name": "stdout",
     "output_type": "stream",
     "text": [
      "Enter # of elements to be inserted:\t7\n",
      "Enter the Element 1:23\n",
      "Enter the Element 2:43\n",
      "Enter the Element 3:33\n",
      "Enter the Element 4:56\n",
      "Enter the Element 5:65\n",
      "Enter the Element 6:89\n",
      "Enter the Element 7:78\n",
      "Enter the value to be searched:\t89\n",
      "Element 89 Found at Position 5\n",
      "[23, 43, 33, 56, 65, 89, 78]\n"
     ]
    }
   ],
   "source": [
    "data=[]\n",
    "n=int(input('Enter # of elements to be inserted:\\t'))\n",
    "for i in range(0,n):\n",
    "    x=int(input('Enter the Element %d:'%(i+1)))\n",
    "    data.append(x)\n",
    "    \n",
    "e=int(input('Enter the value to be searched:\\t'))\n",
    "first=0\n",
    "last=n-1\n",
    "found=False\n",
    "while(first<=last and not found):\n",
    "    mid=(first+last)//2\n",
    "    if data[mid]==e:\n",
    "        found=True\n",
    "        \n",
    "    else:\n",
    "        if e<data[mid]:\n",
    "            last=mid-1\n",
    "        else:\n",
    "            first=mid+1\n",
    "            \n",
    "if found:\n",
    "    print('Element %d Found at Position %d'%(e,mid))\n",
    "else:\n",
    "    print('Element %d is not found in the list'%(e))\n",
    "    \n",
    "print(data)"
   ]
  },
  {
   "cell_type": "code",
   "execution_count": 21,
   "id": "548a2350",
   "metadata": {},
   "outputs": [
    {
     "data": {
      "text/plain": [
       "-1"
      ]
     },
     "execution_count": 21,
     "metadata": {},
     "output_type": "execute_result"
    }
   ],
   "source": [
    "def binary_search(data, low, high, x):\n",
    " \n",
    "    if high >= low:\n",
    " \n",
    "        mid = (high + low) // 2\n",
    " \n",
    "        if data[mid] == x:\n",
    "            return mid\n",
    " \n",
    "        \n",
    "        elif data[mid] > x:\n",
    "            return binary_search(data, low, mid - 1, x)\n",
    " \n",
    "        else:\n",
    "            return binary_search(data, mid + 1, high, x)\n",
    " \n",
    "    else:\n",
    "        return -1\n",
    "binary_search([23,43,33,22], 0, len(data)-1, 3)  "
   ]
  },
  {
   "cell_type": "code",
   "execution_count": 18,
   "id": "48ab669d",
   "metadata": {},
   "outputs": [
    {
     "name": "stdout",
     "output_type": "stream",
     "text": [
      "Hello,welcome to the 14th day training session,wednesday is the 12th day session,where we will discuss about sorting,tree & graphs\n",
      "\n",
      "['Hello,welcome', 'to', 'the', '14th', 'day', 'training', 'session,wednesday', 'is', 'the', '12th', 'day', 'session,where', 'we', 'will', 'discuss', 'about', 'sorting,tree', '&', 'graphs']\n"
     ]
    }
   ],
   "source": [
    "import re\n",
    "text='Hello,welcome to the 14th day training session,wednesday is the 12th day session,where we will discuss about sorting,tree & graphs'\n",
    "pattern='\\S+'\n",
    "print(text)\n",
    "print()\n",
    "print(re.findall(pattern,text))"
   ]
  },
  {
   "cell_type": "markdown",
   "id": "58c7ce02",
   "metadata": {},
   "source": [
    "# 1. Write a Python program to find a target values in a list using linear search with following steps: a. Initialize the list to store the input elements.\n",
    "\n",
    "b. Initialize found-False. c. Enter the item to be searched (match item).\n",
    "\n",
    "d. For each element in the list\n",
    "\n",
    "1. if match item = value\n",
    "\n",
    "a. return match item's position.\n",
    "\n",
    "e. If the match item is not in the list, display an error message that the item is not found in the list."
   ]
  },
  {
   "cell_type": "code",
   "execution_count": 23,
   "id": "21d521e0",
   "metadata": {},
   "outputs": [
    {
     "name": "stdout",
     "output_type": "stream",
     "text": [
      "Enter the item to be searched: 57\n",
      "Item 57 found at position 2.\n"
     ]
    }
   ],
   "source": [
    "def linear_search(lst, match_item):\n",
    "    found = False\n",
    "    position = -1  \n",
    "\n",
    "    for i, value in enumerate(lst):\n",
    "        if value == match_item:\n",
    "            found = True\n",
    "            position = i\n",
    "            break\n",
    "\n",
    "    return found, position\n",
    "\n",
    "#input\n",
    "input_list = [77,67,57,47,37]\n",
    "\n",
    "# Enter the item to be searched\n",
    "match_item = int(input(\"Enter the item to be searched: \"))\n",
    "\n",
    "found, position = linear_search(input_list, match_item)\n",
    "\n",
    "if found:\n",
    "    print(f\"Item {match_item} found at position {position}.\")\n",
    "else:\n",
    "    print(f\"Item {match_item} is not found in the list.\")\n"
   ]
  },
  {
   "cell_type": "markdown",
   "id": "2726f917",
   "metadata": {},
   "source": [
    "# 2. Write a Python program to implement binary search to find the target values from the list:\n",
    "\n",
    "a. Create a separate function to do binary search, b. Get the number of inputs from the user.\n",
    "\n",
    "c. Store the inputs individually in a list. d. In binary search function at first sort the list in order to start the search from middle of the\n",
    "\n",
    "list. e. Compare the middle element to right and left elements to search target element. f. If greater, move to right of list or else move to another side of the list.\n",
    "\n",
    "g. Print the result along with the position of the element."
   ]
  },
  {
   "cell_type": "code",
   "execution_count": 24,
   "id": "0bdc8723",
   "metadata": {},
   "outputs": [
    {
     "name": "stdout",
     "output_type": "stream",
     "text": [
      "Enter the number of inputs: 5\n",
      "Enter element 1: 66\n",
      "Enter element 2: 56\n",
      "Enter element 3: 46\n",
      "Enter element 4: 36\n",
      "Enter element 5: 76\n",
      "Enter the target element to search for: 46\n",
      "Element 46 found at position 1.\n"
     ]
    }
   ],
   "source": [
    "def binary_search(arr, target):\n",
    "    # Sort the list\n",
    "    arr.sort()\n",
    "\n",
    "    left, right = 0, len(arr) - 1\n",
    "\n",
    "    while left <= right:\n",
    "        mid = (left + right) // 2\n",
    "        mid_value = arr[mid]\n",
    "\n",
    "        if mid_value == target:\n",
    "            return True, mid  \n",
    "        elif mid_value < target:\n",
    "            left = mid + 1\n",
    "        else:\n",
    "            right = mid - 1\n",
    "\n",
    "    return False, -1  \n",
    "\n",
    "#input  no. of elements \n",
    "num_inputs = int(input(\"Enter the number of inputs: \"))\n",
    "\n",
    "#input\n",
    "input_list = []\n",
    "\n",
    "for i in range(num_inputs):\n",
    "    input_element = int(input(f\"Enter element {i + 1}: \"))\n",
    "    input_list.append(input_element)\n",
    "\n",
    "target = int(input(\"Enter the target element to search for: \"))\n",
    "\n",
    "found, position = binary_search(input_list, target)\n",
    "\n",
    "if found:\n",
    "    print(f\"Element {target} found at position {position}.\")\n",
    "else:\n",
    "    print(f\"Element {target} is not found in the list.\")\n"
   ]
  },
  {
   "cell_type": "markdown",
   "id": "21e401e2",
   "metadata": {},
   "source": [
    "# 3. Write a Python program for sorting a list of elements using selection sort algorithm: a. Assume two lists: Sorted list- Initially empty and Unsorted List-Given input list.\n",
    "\n",
    "b. In the first iteration, find the smallest element in the unsorted list and place it in the sorted list.\n",
    "c. In the second iteration, find the smallest element in the unsorted list and place it in the\n",
    "\n",
    "correct position by comparing with the element in the sorted list.\n",
    "\n",
    "d. In the third iteration, again find the smallest element in the unsorted list and place it in the correct position by comparing with the elements in the sorted list. e. This process continues till the unsorted list becomes empty.\n",
    "\n",
    "L. Display the sorted list."
   ]
  },
  {
   "cell_type": "code",
   "execution_count": 26,
   "id": "479ac32f",
   "metadata": {},
   "outputs": [
    {
     "name": "stdout",
     "output_type": "stream",
     "text": [
      "Sorted list: [100, 200, 300, 400, 500]\n"
     ]
    }
   ],
   "source": [
    "def selection_sort(arr):\n",
    "    sorted_list = []\n",
    "\n",
    "    while arr:\n",
    "        min_element = min(arr)\n",
    "        sorted_list.append(min_element)\n",
    "        arr.remove(min_element)\n",
    "\n",
    "    return sorted_list\n",
    "\n",
    "# Input \n",
    "input_list = [100,300,200,500,400]\n",
    "\n",
    "sorted_result = selection_sort(input_list)\n",
    "\n",
    "# Display the sorted list\n",
    "print(\"Sorted list:\", sorted_result)\n"
   ]
  },
  {
   "cell_type": "markdown",
   "id": "4b5e9c2a",
   "metadata": {},
   "source": [
    "# 4. Write a Python program for sorting a list of elements using insertion sort algorithm:\n",
    "\n",
    "a. Assume two lists: Sorted list- Initially empty and Unsorted List-Given input list. b. In the first iteration, take the first element in the unsorted list and insert it in Sorted list.\n",
    "\n",
    "c. In the second iteration, take the second element in the given list and compare with the element in the sorted sub list and place it in the correct position.\n",
    "\n",
    "d. In the third iteration, take the third element in the given list and compare with the elements in the sorted sub list and place the elements in the correct position. e. This process continues until the last element is inserted in the sorted sub list.\n",
    "f. Display the sorted elements."
   ]
  },
  {
   "cell_type": "code",
   "execution_count": 2,
   "id": "c4cd09d9",
   "metadata": {},
   "outputs": [
    {
     "name": "stdout",
     "output_type": "stream",
     "text": [
      "Sorted list: [34, 45, 58, 66, 86]\n"
     ]
    }
   ],
   "source": [
    "def insertion_sort(arr):\n",
    "    for i in range(1, len(arr)):\n",
    "        key = arr[i]  \n",
    "        j = i - 1\n",
    "\n",
    "        while j >= 0 and key < arr[j]:\n",
    "            arr[j + 1] = arr[j]\n",
    "            j -= 1\n",
    "        arr[j + 1] = key\n",
    "\n",
    "# Input\n",
    "input_list = [66,34,45,86,58]\n",
    "\n",
    "insertion_sort(input_list)\n",
    "\n",
    "# Display the sorted list\n",
    "print(\"Sorted list:\", input_list)\n"
   ]
  },
  {
   "cell_type": "code",
   "execution_count": 15,
   "id": "4de51ac7",
   "metadata": {},
   "outputs": [
    {
     "name": "stdout",
     "output_type": "stream",
     "text": [
      "Insertion Sort :\n",
      "Enter Number of Elements in the Array: 5\n",
      "Enter the Element 1:5\n",
      "Enter the Element 2:4\n",
      "Enter the Element 3:3\n",
      "Enter the Element 4:2\n",
      "Enter the Element 5:1\n",
      "Original Array:\n",
      "['5', '4', '3', '2', '1']\n",
      "Intermediates:\n",
      "[4, '5', '3', '2', '1']\n",
      "[3, 4, '5', '2', '1']\n",
      "[2, 3, 4, '5', '1']\n",
      "[1, 2, 3, 4, '5']\n"
     ]
    }
   ],
   "source": [
    "data= []\n",
    "print('Insertion Sort :')\n",
    "n= int(input('Enter Number of Elements in the Array: ')) \n",
    "for i in range(0, n):\n",
    "   x=input('Enter the Element %d:' %(i+1))\n",
    "   data.append(x) \n",
    "print('Original Array:')\n",
    "print(data)\n",
    "print('Intermediates:')\n",
    "for i in range(1,n): \n",
    "    temp=int(data[i])\n",
    "    j=i-1\n",
    "    while temp<int(data[j]) and j>=0:\n",
    "        data[j+1]=data[j]\n",
    "        j=j-1\n",
    "    data[j+1]=temp\n",
    "    print(data)\n",
    "\n"
   ]
  },
  {
   "cell_type": "code",
   "execution_count": 14,
   "id": "d5ec3d16",
   "metadata": {},
   "outputs": [
    {
     "name": "stdout",
     "output_type": "stream",
     "text": [
      "sorted array is:\n",
      "[1, 2, 3, 4, '5']\n"
     ]
    }
   ],
   "source": [
    "print('sorted array is:')\n",
    "print (data)"
   ]
  },
  {
   "cell_type": "markdown",
   "id": "e4f7b582",
   "metadata": {},
   "source": [
    "# 5. Write a Python program that performs merge sort on a list of numbers:\n",
    "\n",
    "Divide: If the given array has zero or one element, return.\n",
    "\n",
    "1. Otherwise ii. Divide the input list in to two halves\n",
    "\n",
    "elements. i.e. left half and right half.\n",
    "\n",
    "each containing half of the\n",
    "\n",
    "b. Conquer: Recursively sort the two lists (left half and right half).\n",
    "\n",
    "a. Call the merge sort on left half. b. Call the merge sort on right half.\n",
    "\n",
    "c. Combine: Combine the elements back in the input list by merging the two sorted lists into a sorted sequence."
   ]
  },
  {
   "cell_type": "code",
   "execution_count": 28,
   "id": "453fb4f2",
   "metadata": {},
   "outputs": [
    {
     "name": "stdout",
     "output_type": "stream",
     "text": [
      "Sorted list: [13, 25, 34, 54, 63]\n"
     ]
    }
   ],
   "source": [
    "def merge_sort(arr):\n",
    "    if len(arr) <= 1:\n",
    "        return\n",
    "\n",
    "    mid = len(arr) // 2\n",
    "    left_half = arr[:mid]\n",
    "    right_half = arr[mid:]\n",
    "\n",
    "    merge_sort(left_half)\n",
    "    merge_sort(right_half)\n",
    "\n",
    "    merge(arr, left_half, right_half)\n",
    "\n",
    "def merge(arr, left, right):\n",
    "    i = j = k = 0\n",
    "\n",
    "    while i < len(left) and j < len(right):\n",
    "        if left[i] < right[j]:\n",
    "            arr[k] = left[i]\n",
    "            i += 1\n",
    "        else:\n",
    "            arr[k] = right[j]\n",
    "            j += 1\n",
    "        k += 1\n",
    "\n",
    "    while i < len(left):\n",
    "        arr[k] = left[i]\n",
    "        i += 1\n",
    "        k += 1\n",
    "\n",
    "    while j < len(right):\n",
    "        arr[k] = right[j]\n",
    "        j += 1\n",
    "        k += 1\n",
    "\n",
    "# Input \n",
    "input_list = [25,34,63,54,13]\n",
    "\n",
    "merge_sort(input_list)\n",
    "\n",
    "# Display the sorted list\n",
    "print(\"Sorted list:\", input_list)\n"
   ]
  },
  {
   "cell_type": "markdown",
   "id": "f39553c8",
   "metadata": {},
   "source": [
    "# 6. Write a Python script to perform the following operations on a singly linked list\n",
    "\n",
    "a. Create a list\n",
    "\n",
    "b. Find the smallest element from the list\n",
    "\n",
    "c. Insert an element if it is not a duplicate element d. Display the elements in reverse order"
   ]
  },
  {
   "cell_type": "code",
   "execution_count": 21,
   "id": "845b6872",
   "metadata": {},
   "outputs": [
    {
     "name": "stdout",
     "output_type": "stream",
     "text": [
      "Smallest element: 10\n",
      "Elements in reverse order:\n",
      "50 -> 40 -> 30 -> 20 -> 10 -> None\n"
     ]
    }
   ],
   "source": [
    "class Node:\n",
    "    def __init__(self, data):\n",
    "        self.data = data\n",
    "        self.next = None\n",
    "\n",
    "class SinglyLinkedList:\n",
    "    def __init__(self):\n",
    "        self.head = None\n",
    "\n",
    "    def insert(self, data):\n",
    "        new_node = Node(data)\n",
    "        if not self.head:\n",
    "            self.head = new_node\n",
    "        else:\n",
    "            current = self.head\n",
    "            while current.next:\n",
    "                current = current.next\n",
    "            current.next = new_node\n",
    "\n",
    "    def find_smallest(self):\n",
    "        if not self.head:\n",
    "            return None\n",
    "        current = self.head\n",
    "        smallest = current.data\n",
    "        while current:\n",
    "            if current.data < smallest:\n",
    "                smallest = current.data\n",
    "            current = current.next\n",
    "        return smallest\n",
    "\n",
    "    def insert_unique(self, data):\n",
    "        if not self.head:\n",
    "            self.head = Node(data)\n",
    "            return\n",
    "        current = self.head\n",
    "        while current:\n",
    "            if current.data == data:\n",
    "                return  \n",
    "            if not current.next:\n",
    "                current.next = Node(data)\n",
    "                return\n",
    "            current = current.next\n",
    "\n",
    "    def display_reverse(self):\n",
    "        if not self.head:\n",
    "            return\n",
    "        stack = []\n",
    "        current = self.head\n",
    "        while current:\n",
    "            stack.append(current.data)\n",
    "            current = current.next\n",
    "        while stack:\n",
    "            print(stack.pop(), end=\" -> \")\n",
    "        print(\"None\")\n",
    "\n",
    "# Create a singly linked list\n",
    "linked_list = SinglyLinkedList()\n",
    "linked_list.insert(10)\n",
    "linked_list.insert(20)\n",
    "linked_list.insert(30)\n",
    "linked_list.insert(40)\n",
    "\n",
    "\n",
    "# Find the smallest element\n",
    "smallest = linked_list.find_smallest()\n",
    "print(f\"Smallest element: {smallest}\")\n",
    "\n",
    "# Insert an element if it's not a duplicate\n",
    "linked_list.insert_unique(20)\n",
    "linked_list.insert_unique(50)\n",
    "\n",
    "# Display elements in reverse order\n",
    "print(\"Elements in reverse order:\")\n",
    "linked_list.display_reverse()\n"
   ]
  },
  {
   "cell_type": "markdown",
   "id": "eda9d9e2",
   "metadata": {},
   "source": [
    "# 7.Write a python program to implement the various cerations for Stack ADT i) Pash ii) Pop in.) Display."
   ]
  },
  {
   "cell_type": "code",
   "execution_count": 22,
   "id": "ec43e202",
   "metadata": {},
   "outputs": [
    {
     "name": "stdout",
     "output_type": "stream",
     "text": [
      "Stack elements:\n",
      "30\n",
      "20\n",
      "10\n",
      "Popped item: 30\n",
      "Stack elements after popping:\n",
      "20\n",
      "10\n"
     ]
    }
   ],
   "source": [
    "class Stack:\n",
    "    def __init__(self):\n",
    "        self.items = []\n",
    "\n",
    "    def push(self, item):\n",
    "        self.items.append(item)\n",
    "\n",
    "    def pop(self):\n",
    "        if not self.is_empty():\n",
    "            return self.items.pop()\n",
    "        else:\n",
    "            return None  \n",
    "\n",
    "    def is_empty(self):\n",
    "        return len(self.items) == 0\n",
    "\n",
    "    def display(self):\n",
    "        if not self.is_empty():\n",
    "            for item in self.items[::-1]:\n",
    "                print(item)\n",
    "        else:\n",
    "            print(\"Stack is empty\")\n",
    "\n",
    "# Create a stack\n",
    "stack = Stack()\n",
    "\n",
    "# Push elements \n",
    "stack.push(10)\n",
    "stack.push(20)\n",
    "stack.push(30)\n",
    "\n",
    "# Display the stack\n",
    "print(\"Stack elements:\")\n",
    "stack.display()\n",
    "\n",
    "# Pop elements \n",
    "popped_item = stack.pop()\n",
    "if popped_item is not None:\n",
    "    print(f\"Popped item: {popped_item}\")\n",
    "\n",
    "# Display the stack after popping\n",
    "print(\"Stack elements after popping:\")\n",
    "stack.display()\n"
   ]
  },
  {
   "cell_type": "markdown",
   "id": "7706da04",
   "metadata": {},
   "source": [
    "# 8. Write a python script to implement the various operations for Queue ADT 1.) Insert ii.) Delete iii.) Display."
   ]
  },
  {
   "cell_type": "code",
   "execution_count": 26,
   "id": "ff208a15",
   "metadata": {},
   "outputs": [
    {
     "name": "stdout",
     "output_type": "stream",
     "text": [
      "Queue elements:\n",
      "100\n",
      "200\n",
      "300\n",
      "Deleted item: 100\n",
      "Queue elements after deleting:\n",
      "200\n",
      "300\n"
     ]
    }
   ],
   "source": [
    "class Queue:\n",
    "    def __init__(self):\n",
    "        self.items = []\n",
    "\n",
    "    def insert(self, item):\n",
    "        self.items.append(item)\n",
    "\n",
    "    def delete(self):\n",
    "        if not self.is_empty():\n",
    "            return self.items.pop(0)\n",
    "        else:\n",
    "            return None  \n",
    "\n",
    "    def is_empty(self):\n",
    "        return len(self.items) == 0\n",
    "\n",
    "    def display(self):\n",
    "        if not self.is_empty():\n",
    "            for item in self.items:\n",
    "                print(item)\n",
    "        else:\n",
    "            print(\"Queue is empty\")\n",
    "\n",
    "# Create a queue\n",
    "queue = Queue()\n",
    "\n",
    "# Insert elements\n",
    "queue.insert(100)\n",
    "queue.insert(200)\n",
    "queue.insert(300)\n",
    "\n",
    "# Display the queue\n",
    "print(\"Queue elements:\")\n",
    "queue.display()\n",
    "\n",
    "# Delete elements \n",
    "deleted_item = queue.delete()\n",
    "if deleted_item is not None:\n",
    "    print(f\"Deleted item: {deleted_item}\")\n",
    "\n",
    "# Display the queue after deleting\n",
    "print(\"Queue elements after deleting:\")\n",
    "queue.display()\n"
   ]
  },
  {
   "cell_type": "markdown",
   "id": "8b2580a8",
   "metadata": {},
   "source": [
    "# 9. Write a program in python to convert the following infix expression to its postfix form using push and pop operations of a Stack\n",
    "\n",
    "a. A/B/C+D E-F G\n",
    "b. (B^2-4 A-C)^(1/2) (100) "
   ]
  },
  {
   "cell_type": "code",
   "execution_count": 27,
   "id": "4ba42a86",
   "metadata": {},
   "outputs": [
    {
     "name": "stdout",
     "output_type": "stream",
     "text": [
      "Postfix expression for a: A B C / / D E F G - +\n",
      "Postfix expression for b: B 2 ^ 4 A C - - 1 2 / 1 0 0 ^\n"
     ]
    }
   ],
   "source": [
    "def infix_to_postfix(expression):\n",
    "    precedence = {'+': 1, '-': 1, '*': 2, '/': 2, '^': 3}\n",
    "\n",
    "    def is_operator(token):\n",
    "        return token in \"+-*/^\"\n",
    "\n",
    "    def higher_precedence(op1, op2):\n",
    "        return precedence[op1] > precedence[op2]\n",
    "\n",
    "    def infix_to_postfix_helper(infix):\n",
    "        stack = []\n",
    "        postfix = []\n",
    "        for token in infix:\n",
    "            if token.isalnum():\n",
    "                postfix.append(token)\n",
    "            elif token == '(':\n",
    "                stack.append(token)\n",
    "            elif token == ')':\n",
    "                while stack and stack[-1] != '(':\n",
    "                    postfix.append(stack.pop())\n",
    "                stack.pop()  \n",
    "            elif is_operator(token):\n",
    "                while (stack and is_operator(stack[-1]) and\n",
    "                       higher_precedence(stack[-1], token)):\n",
    "                    postfix.append(stack.pop())\n",
    "                stack.append(token)\n",
    "\n",
    "        while stack:\n",
    "            postfix.append(stack.pop())\n",
    "\n",
    "        return ' '.join(postfix)\n",
    "\n",
    "    # Remove spaces and convert the expression to a list of tokens\n",
    "    expression = expression.replace(\" \", \"\")\n",
    "    postfix_expression = infix_to_postfix_helper(expression)\n",
    "    return postfix_expression\n",
    "\n",
    "# Test cases\n",
    "infix_expression_a = \"A/B/C+D E-F G\"\n",
    "infix_expression_b = \"(B^2-4 A-C)^(1/2) (100)\"\n",
    "\n",
    "postfix_a = infix_to_postfix(infix_expression_a)\n",
    "postfix_b = infix_to_postfix(infix_expression_b)\n",
    "\n",
    "print(\"Postfix expression for a:\", postfix_a)\n",
    "print(\"Postfix expression for b:\", postfix_b)\n"
   ]
  },
  {
   "cell_type": "code",
   "execution_count": null,
   "id": "ee9452f5",
   "metadata": {},
   "outputs": [],
   "source": []
  }
 ],
 "metadata": {
  "kernelspec": {
   "display_name": "Python 3 (ipykernel)",
   "language": "python",
   "name": "python3"
  },
  "language_info": {
   "codemirror_mode": {
    "name": "ipython",
    "version": 3
   },
   "file_extension": ".py",
   "mimetype": "text/x-python",
   "name": "python",
   "nbconvert_exporter": "python",
   "pygments_lexer": "ipython3",
   "version": "3.11.4"
  }
 },
 "nbformat": 4,
 "nbformat_minor": 5
}
