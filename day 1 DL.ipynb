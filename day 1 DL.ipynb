{
 "cells": [
  {
   "cell_type": "code",
   "execution_count": 45,
   "id": "fe15fb38",
   "metadata": {},
   "outputs": [],
   "source": [
    "from numpy import exp\n",
    "from numpy import array\n",
    "from numpy import random,dot"
   ]
  },
  {
   "cell_type": "code",
   "execution_count": 46,
   "id": "686dee71",
   "metadata": {},
   "outputs": [],
   "source": [
    "class NeuralNetwork():\n",
    "    def __init__(self):\n",
    "        # Seed the random number generator, so it generates the same number\n",
    "        # every time the program runs\n",
    "        random.seed(2)\n",
    "        # We model a single neuron with 3 input and 1 output connection\n",
    "        # Assign random weights to a 3*1 matrix with values in the range [-1, 1]\n",
    "        self.synaptic_weights = 2 * np.random.random((3, 1)) - 1\n",
    "\n",
    "    # Create a sigmoid activation function\n",
    "    def _sigmoid(self, x):\n",
    "        return 1 / (1 + np.exp(-x))\n",
    "\n",
    "    def _sigmoid_derivative(self, x):\n",
    "        return x * (1 - x)\n",
    "\n",
    "    def think(self, inputs):\n",
    "        return self._sigmoid(np.dot(inputs, self.synaptic_weights))\n",
    "\n",
    "    def train(self, training_set_inputs, training_set_outputs, number_of_training_iterations):\n",
    "        for iteration in range(number_of_training_iterations):\n",
    "            output = self.think(training_set_inputs)\n",
    "            error = training_set_outputs - output\n",
    "            adjustment = np.dot(training_set_inputs.T, error * self._sigmoid_derivative(output))\n",
    "            self.synaptic_weights += adjustment"
   ]
  },
  {
   "cell_type": "code",
   "execution_count": 47,
   "id": "8122ce22",
   "metadata": {},
   "outputs": [
    {
     "name": "stdout",
     "output_type": "stream",
     "text": [
      "Random starting weights:\n",
      "\n",
      "[[-0.1280102 ]\n",
      " [-0.94814754]\n",
      " [ 0.09932496]]\n"
     ]
    }
   ],
   "source": [
    "if __name__ == '__main__':\n",
    "    # Initialize a single neuron neural network\n",
    "    neural_network = NeuralNetwork()\n",
    "    print('Random starting weights:\\n')\n",
    "    print(neural_network.synaptic_weights)\n",
    "\n",
    "    # Define a training set\n",
    "    training_set_inputs = np.array([[0, 0, 1], [1, 1, 1], [1, 0, 1], [0, 1, 1]])\n",
    "    training_set_outputs = np.array([[0, 1, 1, 0]]).T  # Transpose the matrix"
   ]
  },
  {
   "cell_type": "code",
   "execution_count": 48,
   "id": "71b77111",
   "metadata": {},
   "outputs": [
    {
     "name": "stdout",
     "output_type": "stream",
     "text": [
      "New weights after training:\n",
      "\n",
      "[[ 9.67282529]\n",
      " [-0.20892653]\n",
      " [-4.62890667]]\n",
      "Considering new input [1 0 0], the output is:\n",
      "[0.99993703]\n"
     ]
    }
   ],
   "source": [
    "# Train the neural network\n",
    "number_of_training_iterations = 10000\n",
    "neural_network.train(training_set_inputs, training_set_outputs, number_of_training_iterations)\n",
    "\n",
    "print('New weights after training:\\n')\n",
    "print(neural_network.synaptic_weights)\n",
    "\n",
    "    # Test the neural network with a new input\n",
    "new_input = np.array([1, 0, 0])\n",
    "output = neural_network.think(new_input)\n",
    "print(f\"Considering new input {new_input}, the output is:\")\n",
    "print(output)"
   ]
  },
  {
   "cell_type": "code",
   "execution_count": 55,
   "id": "69a2b834",
   "metadata": {},
   "outputs": [],
   "source": [
    "class MLP:\n",
    "    def __init__(self, input_size, hidden_size, output_size):\n",
    "        # Initialize weights and biases for the layers\n",
    "        self.weights_input_hidden = np.random.randn(input_size, hidden_size)\n",
    "        self.bias_hidden = np.zeros((1, hidden_size))\n",
    "        self.weights_hidden_output = np.random.randn(hidden_size, output_size)\n",
    "        self.bias_output = np.zeros((1, output_size))\n",
    "\n",
    "    def sigmoid(self, x):\n",
    "        # Sigmoid activation function\n",
    "        return 1 / (1 + np.exp(-x))\n",
    "\n",
    "    def sigmoid_derivative(self, x):\n",
    "        # Derivative of the sigmoid function\n",
    "        return x * (1 - x)\n",
    "\n",
    "    def forward(self, inputs):\n",
    "        # Forward pass\n",
    "        self.hidden_layer_input = np.dot(inputs, self.weights_input_hidden)\n",
    "        self.hidden_layer_output = self.sigmoid(self.hidden_layer_input + self.bias_hidden)\n",
    "        self.output_layer_input = np.dot(self.hidden_layer_output, self.weights_hidden_output)\n",
    "        self.predictions = self.sigmoid(self.output_layer_input + self.bias_output)\n",
    "        return self.predictions\n",
    "\n",
    "    def backward(self, inputs, targets, learning_rate):\n",
    "        # Backward pass\n",
    "        error = targets - self.predictions\n",
    "        output_delta = error * self.sigmoid_derivative(self.predictions)\n",
    "\n",
    "        hidden_error = output_delta.dot(self.weights_hidden_output.T)\n",
    "        hidden_delta = hidden_error * self.sigmoid_derivative(self.hidden_layer_output)\n",
    "\n",
    "        # Update weights and biases\n",
    "        self.weights_hidden_output += self.hidden_layer_output.T.dot(output_delta) * learning_rate\n",
    "        self.bias_output += np.sum(output_delta, axis=0, keepdims=True) * learning_rate\n",
    "        self.weights_input_hidden += inputs.T.dot(hidden_delta) * learning_rate\n",
    "        self.bias_hidden += np.sum(hidden_delta, axis=0, keepdims=True) * learning_rate\n",
    "\n",
    "    def train(self, inputs, targets, epochs, learning_rate):\n",
    "        # Training loop\n",
    "        for epoch in range(epochs):\n",
    "            for i in range(len(inputs)):\n",
    "                input_sample = np.array(inputs[i], ndmin=2)\n",
    "                target_sample = np.array(targets[i], ndmin=2)\n",
    "\n",
    "                # Forward and backward pass\n",
    "                self.forward(input_sample)\n",
    "                self.backward(input_sample, target_sample, learning_rate)\n",
    "\n",
    "                # Print the loss every 1000 epochs\n",
    "                if epoch % 1000 == 0:\n",
    "                    loss = np.mean(np.square(target_sample - self.predictions))\n",
    "                    print(f\"Epoch {epoch}, Loss: {loss}\")"
   ]
  },
  {
   "cell_type": "code",
   "execution_count": 56,
   "id": "b8af92c3",
   "metadata": {},
   "outputs": [
    {
     "name": "stdout",
     "output_type": "stream",
     "text": [
      "Epoch 0, Loss: 0.0570441932660441\n",
      "Epoch 0, Loss: 0.5475643274603971\n",
      "Epoch 0, Loss: 0.37164003410688023\n",
      "Epoch 0, Loss: 0.13237778807704467\n",
      "Epoch 1000, Loss: 0.17561247191743237\n",
      "Epoch 1000, Loss: 0.2683316286755884\n",
      "Epoch 1000, Loss: 0.20185462037987456\n",
      "Epoch 1000, Loss: 0.292662828443418\n",
      "Epoch 2000, Loss: 0.1672921008816707\n",
      "Epoch 2000, Loss: 0.24223090287229176\n",
      "Epoch 2000, Loss: 0.20494111371390664\n",
      "Epoch 2000, Loss: 0.2942355693815548\n",
      "Epoch 3000, Loss: 0.15445193787040368\n",
      "Epoch 3000, Loss: 0.2220858844390617\n",
      "Epoch 3000, Loss: 0.2079455755262012\n",
      "Epoch 3000, Loss: 0.2912906225724414\n",
      "Epoch 4000, Loss: 0.14041507741543435\n",
      "Epoch 4000, Loss: 0.20320444939056942\n",
      "Epoch 4000, Loss: 0.20813200363045475\n",
      "Epoch 4000, Loss: 0.2874044809709039\n",
      "Epoch 5000, Loss: 0.12570097021765464\n",
      "Epoch 5000, Loss: 0.18523819453066395\n",
      "Epoch 5000, Loss: 0.20543322057637156\n",
      "Epoch 5000, Loss: 0.2823712393002838\n",
      "Epoch 6000, Loss: 0.1110039812733543\n",
      "Epoch 6000, Loss: 0.1681944424605143\n",
      "Epoch 6000, Loss: 0.19991552252757025\n",
      "Epoch 6000, Loss: 0.27549100432554974\n",
      "Epoch 7000, Loss: 0.09702353641590802\n",
      "Epoch 7000, Loss: 0.1522433361687906\n",
      "Epoch 7000, Loss: 0.1916885510895965\n",
      "Epoch 7000, Loss: 0.26588389570635285\n",
      "Epoch 8000, Loss: 0.08427022091975815\n",
      "Epoch 8000, Loss: 0.1375527254335175\n",
      "Epoch 8000, Loss: 0.1808536942715465\n",
      "Epoch 8000, Loss: 0.2528458257618903\n",
      "Epoch 9000, Loss: 0.07298389813902596\n",
      "Epoch 9000, Loss: 0.1241604644646461\n",
      "Epoch 9000, Loss: 0.16756623787256714\n",
      "Epoch 9000, Loss: 0.23612326556224753\n",
      "Predictions:\n",
      "[[0.25133396]\n",
      " [0.66569838]\n",
      " [0.60977957]\n",
      " [0.46424672]]\n"
     ]
    }
   ],
   "source": [
    "# Define your training data (inputs and targets)\n",
    "inputs = np.array([[0, 0], [0, 1], [1, 0], [1, 1]])\n",
    "targets = np.array([[0], [1], [1], [0]])\n",
    "\n",
    "\n",
    "# Create an MLP with input size, hidden layer size, and output size\n",
    "mlp = MLP(input_size=2, hidden_size=4, output_size=1)\n",
    "\n",
    "# Train the MLP\n",
    "mlp.train(inputs, targets, epochs=10000, learning_rate=0.01)\n",
    "\n",
    "# Test the trained model\n",
    "test_input = np.array([[0, 0], [0, 1], [1, 0], [1, 1]])\n",
    "predictions = mlp.forward(test_input)\n",
    "print(\"Predictions:\")\n",
    "print(predictions)"
   ]
  },
  {
   "cell_type": "code",
   "execution_count": null,
   "id": "f1ceff01",
   "metadata": {},
   "outputs": [],
   "source": []
  }
 ],
 "metadata": {
  "kernelspec": {
   "display_name": "Python 3 (ipykernel)",
   "language": "python",
   "name": "python3"
  },
  "language_info": {
   "codemirror_mode": {
    "name": "ipython",
    "version": 3
   },
   "file_extension": ".py",
   "mimetype": "text/x-python",
   "name": "python",
   "nbconvert_exporter": "python",
   "pygments_lexer": "ipython3",
   "version": "3.11.4"
  }
 },
 "nbformat": 4,
 "nbformat_minor": 5
}
